{
  "nbformat": 4,
  "nbformat_minor": 0,
  "metadata": {
    "colab": {
      "provenance": [],
      "authorship_tag": "ABX9TyP/ca4UTcZiIbbxSlWfj5l4",
      "include_colab_link": true
    },
    "kernelspec": {
      "name": "python3",
      "display_name": "Python 3"
    },
    "language_info": {
      "name": "python"
    }
  },
  "cells": [
    {
      "cell_type": "markdown",
      "metadata": {
        "id": "view-in-github",
        "colab_type": "text"
      },
      "source": [
        "<a href=\"https://colab.research.google.com/github/Alexandre77777/computer_math/blob/main/1.%20%D0%9C%D0%BE%D0%B4%D1%83%D0%BB%D1%8C%20math/%D0%A2%D0%B5%D0%BE%D1%80%D0%B8%D1%8F_%E2%84%961_%D0%9C%D0%BE%D0%B4%D1%83%D0%BB%D1%8C_math.ipynb\" target=\"_parent\"><img src=\"https://colab.research.google.com/assets/colab-badge.svg\" alt=\"Open In Colab\"/></a>"
      ]
    },
    {
      "cell_type": "markdown",
      "source": [
        "# Модуль math"
      ],
      "metadata": {
        "id": "O8R_Gs9LFuIi"
      }
    },
    {
      "cell_type": "markdown",
      "source": [
        "Модуль `math` в Python представляет собой стандартный модуль, который обеспечивает доступ к математическим функциям, основанным на библиотеке C. Этот модуль включает в себя широкий спектр математических операций и используется для выполнения более сложных математических расчетов, чем базовые арифметические операции, предоставляемые самим языком Python.\n",
        "\n",
        "### Основные характеристики\n",
        "\n",
        "- **Высокая производительность**: Поскольку многие функции модуля `math` основаны на библиотеке C, они обеспечивают высокую скорость выполнения.\n",
        "- **Работа с вещественными числами**: Модуль предназначен для работы с вещественными (или плавающей точкой) числами. Для работы с комплексными числами следует использовать модуль `cmath`.\n"
      ],
      "metadata": {
        "id": "2kVxRMQlGm45"
      }
    },
    {
      "cell_type": "markdown",
      "source": [
        "Импортируем модуль:"
      ],
      "metadata": {
        "id": "9Om1EvysGyNa"
      }
    },
    {
      "cell_type": "code",
      "source": [
        "import math"
      ],
      "metadata": {
        "id": "cNr_pjRCP7_G"
      },
      "execution_count": 2,
      "outputs": []
    },
    {
      "cell_type": "markdown",
      "source": [
        "Официальная документация Python выделяет следующие виды функций этого модуля:"
      ],
      "metadata": {
        "id": "fs3LVJf2E-2r"
      }
    },
    {
      "cell_type": "markdown",
      "source": [
        "### **1. Функции для округления и сравнения**"
      ],
      "metadata": {
        "id": "wGwbpv9zFVKE"
      }
    },
    {
      "cell_type": "markdown",
      "source": [
        "- **`math.ceil(x)`**: Округляет число `x` вверх до ближайшего целого числа. Если `x` уже является целым, результат будет равен `x`."
      ],
      "metadata": {
        "id": "BpnAlROYFeRK"
      }
    },
    {
      "cell_type": "code",
      "source": [
        "print(math.ceil(4.2))"
      ],
      "metadata": {
        "colab": {
          "base_uri": "https://localhost:8080/"
        },
        "id": "041qTcvkFHLQ",
        "outputId": "33e3af8a-103f-44e7-af70-052ca97ca3de"
      },
      "execution_count": 4,
      "outputs": [
        {
          "output_type": "stream",
          "name": "stdout",
          "text": [
            "5\n"
          ]
        }
      ]
    },
    {
      "cell_type": "markdown",
      "source": [
        "- **`math.copysign(x, y)`**: Возвращает абсолютное значение `x`, но со знаком числа `y`. Полезно, когда необходимо сохранить знак одного числа, применяя его к другому."
      ],
      "metadata": {
        "id": "pui8zEloIPfC"
      }
    },
    {
      "cell_type": "code",
      "source": [
        "print(math.copysign(-10, 1))\n",
        "print(math.copysign(10, -1))"
      ],
      "metadata": {
        "colab": {
          "base_uri": "https://localhost:8080/"
        },
        "id": "Ct12Yt2GFmye",
        "outputId": "a5c2d5f7-8bdd-4ab5-b568-e50873902f13"
      },
      "execution_count": 17,
      "outputs": [
        {
          "output_type": "stream",
          "name": "stdout",
          "text": [
            "10.0\n",
            "-10.0\n"
          ]
        }
      ]
    },
    {
      "cell_type": "markdown",
      "source": [
        "- **`math.fabs(x)`**: Возвращает абсолютное значение `x` в виде дробного числа, то есть без знака."
      ],
      "metadata": {
        "id": "F9NEaxo_IWeJ"
      }
    },
    {
      "cell_type": "code",
      "source": [
        "print(math.fabs(-10))"
      ],
      "metadata": {
        "colab": {
          "base_uri": "https://localhost:8080/"
        },
        "id": "MRNEy0NxHYhw",
        "outputId": "1184f178-835d-4de9-a56d-f0400445beaf"
      },
      "execution_count": 6,
      "outputs": [
        {
          "output_type": "stream",
          "name": "stdout",
          "text": [
            "10.0\n"
          ]
        }
      ]
    },
    {
      "cell_type": "markdown",
      "source": [
        "- **`math.floor(x)`**: Округляет число `x` вниз до ближайшего целого числа. Аналогично `math.ceil(x)`, но в обратную сторону."
      ],
      "metadata": {
        "id": "aiJk-4VVIYYz"
      }
    },
    {
      "cell_type": "code",
      "source": [
        "print(math.floor(4.7))"
      ],
      "metadata": {
        "colab": {
          "base_uri": "https://localhost:8080/"
        },
        "id": "bRiFpddbHaZl",
        "outputId": "d5860b98-39c1-4850-c687-1845d35f9957"
      },
      "execution_count": 7,
      "outputs": [
        {
          "output_type": "stream",
          "name": "stdout",
          "text": [
            "4\n"
          ]
        }
      ]
    },
    {
      "cell_type": "markdown",
      "source": [
        "- **`math.fmod(x, y)`**: Возвращает остаток от деления `x` на `y`. В отличие от оператора `%`, работает с дробными числами и более точен при работе с большими значениями."
      ],
      "metadata": {
        "id": "bLk_y5PZIZBu"
      }
    },
    {
      "cell_type": "code",
      "source": [
        "print(math.fmod(20.5, 4.2))"
      ],
      "metadata": {
        "colab": {
          "base_uri": "https://localhost:8080/"
        },
        "id": "c6gHqrl4Hc_u",
        "outputId": "e8c804c6-25eb-4b5c-a7fa-3ae619f33fb3"
      },
      "execution_count": 8,
      "outputs": [
        {
          "output_type": "stream",
          "name": "stdout",
          "text": [
            "3.6999999999999993\n"
          ]
        }
      ]
    },
    {
      "cell_type": "markdown",
      "source": [
        "- **`math.gcd(x, y)`**: Находит наибольший общий делитель чисел `x` и `y`. Полезно для упрощения дробей или других математических операций, требующих знания НОД."
      ],
      "metadata": {
        "id": "iucay0DIIZkE"
      }
    },
    {
      "cell_type": "code",
      "source": [
        "print(math.gcd(54, 24))"
      ],
      "metadata": {
        "colab": {
          "base_uri": "https://localhost:8080/"
        },
        "id": "oGOxd6i3HfJy",
        "outputId": "b9363747-b030-46b1-b86b-023a5113512e"
      },
      "execution_count": 9,
      "outputs": [
        {
          "output_type": "stream",
          "name": "stdout",
          "text": [
            "6\n"
          ]
        }
      ]
    },
    {
      "cell_type": "markdown",
      "source": [
        "- **`math.isclose(a, b, *, rel_tol=1e-09, abs_tol=0.0)`**: Эта функция проверяет, насколько два значения близки друг к другу, возвращая `True`, если разница между ними в пределах заданных `rel_tol` (относительной погрешности) и `abs_tol` (абсолютной погрешности). Это чрезвычайно полезно в ситуациях, когда из-за характеристик плавающей точки напрямую сравнивать числа некорректно."
      ],
      "metadata": {
        "id": "W1RlOsYXIaag"
      }
    },
    {
      "cell_type": "code",
      "source": [
        "print(math.isclose(1.00000001, 1.00000002, rel_tol=1e-8))"
      ],
      "metadata": {
        "colab": {
          "base_uri": "https://localhost:8080/"
        },
        "id": "20_fL9o6Hgs-",
        "outputId": "f672334f-342e-49f0-90fb-cbcff6c6372b"
      },
      "execution_count": 10,
      "outputs": [
        {
          "output_type": "stream",
          "name": "stdout",
          "text": [
            "True\n"
          ]
        }
      ]
    },
    {
      "cell_type": "markdown",
      "source": [
        "- **`math.isfinite(x)`**: Проверяет, является ли `x` конечным числом. Возвращает `True`, если `x` - не бесконечность (`inf`) и не не число (`NaN`)."
      ],
      "metadata": {
        "id": "AgftqremIbO2"
      }
    },
    {
      "cell_type": "code",
      "source": [
        "print(math.isfinite(2.5))\n",
        "print(math.isfinite(math.inf))"
      ],
      "metadata": {
        "colab": {
          "base_uri": "https://localhost:8080/"
        },
        "id": "pJiAOry5HiVJ",
        "outputId": "a478bc09-7bcd-4b80-ce83-5d60b71c1a9a"
      },
      "execution_count": 16,
      "outputs": [
        {
          "output_type": "stream",
          "name": "stdout",
          "text": [
            "True\n",
            "False\n"
          ]
        }
      ]
    },
    {
      "cell_type": "markdown",
      "source": [
        "- **`math.isinf(x)`**: Проверяет, является ли `x` бесконечностью. Возвращает `True`, если `x` равно положительной или отрицательной бесконечности."
      ],
      "metadata": {
        "id": "3PEIETyZIb5l"
      }
    },
    {
      "cell_type": "code",
      "source": [
        "print(math.isinf(math.inf))"
      ],
      "metadata": {
        "colab": {
          "base_uri": "https://localhost:8080/"
        },
        "id": "sus3d_iAHj8R",
        "outputId": "815950c3-df91-4c57-d259-02b03559601d"
      },
      "execution_count": 15,
      "outputs": [
        {
          "output_type": "stream",
          "name": "stdout",
          "text": [
            "True\n"
          ]
        }
      ]
    },
    {
      "cell_type": "markdown",
      "source": [
        "- **`math.isnan(x)`**: Проверяет, является ли `x` значением NaN (Не число). Возвращает `True`, если `x` - это NaN."
      ],
      "metadata": {
        "id": "txxuagzCIca5"
      }
    },
    {
      "cell_type": "code",
      "source": [
        "print(math.isnan(math.nan))"
      ],
      "metadata": {
        "colab": {
          "base_uri": "https://localhost:8080/"
        },
        "id": "Weu22TOnHmde",
        "outputId": "688ef36c-496f-47da-8d3a-82d5ad1031ef"
      },
      "execution_count": 14,
      "outputs": [
        {
          "output_type": "stream",
          "name": "stdout",
          "text": [
            "True\n"
          ]
        }
      ]
    },
    {
      "cell_type": "markdown",
      "source": [
        "- **`math.ldexp(x, i)`**: Эквивалентно `x * (2**i)`. Полезно для преобразования между мантиссой и экспонентой числа в формате плавающей точки."
      ],
      "metadata": {
        "id": "RBMPLd2GIdFF"
      }
    },
    {
      "cell_type": "code",
      "source": [
        "print(math.ldexp(7, 2))"
      ],
      "metadata": {
        "colab": {
          "base_uri": "https://localhost:8080/"
        },
        "id": "FxgRpiNYHnt8",
        "outputId": "099f1cd9-5709-4557-f0e2-8fa035377596"
      },
      "execution_count": 13,
      "outputs": [
        {
          "output_type": "stream",
          "name": "stdout",
          "text": [
            "28.0\n"
          ]
        }
      ]
    },
    {
      "cell_type": "markdown",
      "source": [
        "- **`math.modf(x)`**: Возвращает дробную и целую часть числа `x`. Целая часть возвращается в формате плавающей точки."
      ],
      "metadata": {
        "id": "gc7AjeQuIduP"
      }
    },
    {
      "cell_type": "code",
      "source": [
        "print(math.modf(4.25))"
      ],
      "metadata": {
        "colab": {
          "base_uri": "https://localhost:8080/"
        },
        "id": "75Y6PbnOHo6w",
        "outputId": "e039212f-ab31-4dad-de08-bcafa37d62c4"
      },
      "execution_count": 12,
      "outputs": [
        {
          "output_type": "stream",
          "name": "stdout",
          "text": [
            "(0.25, 4.0)\n"
          ]
        }
      ]
    },
    {
      "cell_type": "markdown",
      "source": [
        "\n",
        "\n",
        "\n",
        "\n",
        "\n",
        "\n",
        "\n",
        "- **`math.trunc(x)`**: Усекает значение `x` до целого, удаляя дробную часть. В отличие от `floor` и `ceil`, не округляет число, а просто \"отрезает\" его дробную часть."
      ],
      "metadata": {
        "id": "Pi4nS1d4QLaQ"
      }
    },
    {
      "cell_type": "code",
      "source": [
        "print(math.trunc(4.99))"
      ],
      "metadata": {
        "colab": {
          "base_uri": "https://localhost:8080/"
        },
        "id": "niINBs2LHqIX",
        "outputId": "ad42aad7-0937-4e7b-ade8-e3e7fd3e4981"
      },
      "execution_count": 11,
      "outputs": [
        {
          "output_type": "stream",
          "name": "stdout",
          "text": [
            "4\n"
          ]
        }
      ]
    },
    {
      "cell_type": "markdown",
      "source": [
        "### **2. Экспоненциальные функции:**\n",
        "\n",
        "\n",
        "\n",
        "\n",
        "\n",
        "\n",
        "\n",
        "\n",
        "\n",
        "\n"
      ],
      "metadata": {
        "id": "tKkb0X2SUhB7"
      }
    },
    {
      "cell_type": "markdown",
      "source": [
        "- **`exp(x)`** возвращает значение `e` (основание натуральных логарифмов, приблизительно равное 2.71828) возведённое в степень `x`.\n"
      ],
      "metadata": {
        "id": "XKsW9iI1K0Z6"
      }
    },
    {
      "cell_type": "code",
      "source": [
        "print(math.exp(1))"
      ],
      "metadata": {
        "colab": {
          "base_uri": "https://localhost:8080/"
        },
        "id": "aRnTkNI1Kv41",
        "outputId": "f8794613-8522-43b8-8bba-34c125cf65c4"
      },
      "execution_count": 18,
      "outputs": [
        {
          "output_type": "stream",
          "name": "stdout",
          "text": [
            "2.718281828459045\n"
          ]
        }
      ]
    },
    {
      "cell_type": "markdown",
      "source": [
        "- **`expm1(x)`** возвращает `exp(x) - 1`. Это может быть полезно для вычислений с малыми значениями `x`, когда `exp(x)` близко к 1, и прямое вычитание 1 приводит к значительной потере точности."
      ],
      "metadata": {
        "id": "8LQK79bRKtdX"
      }
    },
    {
      "cell_type": "code",
      "source": [
        "print(math.expm1(1e-5))"
      ],
      "metadata": {
        "colab": {
          "base_uri": "https://localhost:8080/"
        },
        "id": "TLAJRF5wKp0z",
        "outputId": "99a14024-11ff-41f3-a9e3-65061bebbe73"
      },
      "execution_count": 20,
      "outputs": [
        {
          "output_type": "stream",
          "name": "stdout",
          "text": [
            "1.0000050000166668e-05\n"
          ]
        }
      ]
    },
    {
      "cell_type": "markdown",
      "source": [
        "### **3. Логарифмические функции:**"
      ],
      "metadata": {
        "id": "JIbc-OVPKkLl"
      }
    },
    {
      "cell_type": "markdown",
      "source": [
        "\n",
        "\n",
        "- **`log(x, base)`** возвращает логарифм `x` по основанию `base`. Если основание не указано, используется основание натурального логарифма `e`."
      ],
      "metadata": {
        "id": "1s1sPDNPKh7E"
      }
    },
    {
      "cell_type": "code",
      "source": [
        "# Натуральный логарифм\n",
        "print(math.log(2.7183))\n",
        "\n",
        "# Логарифм по основанию 10\n",
        "print(math.log(100, 10))"
      ],
      "metadata": {
        "colab": {
          "base_uri": "https://localhost:8080/"
        },
        "id": "0JfrdJetKZjI",
        "outputId": "dd28c950-0770-4927-c251-0c6a76e17621"
      },
      "execution_count": 21,
      "outputs": [
        {
          "output_type": "stream",
          "name": "stdout",
          "text": [
            "1.0000066849139877\n",
            "2.0\n"
          ]
        }
      ]
    },
    {
      "cell_type": "markdown",
      "source": [
        "- **`log1p(x)`** возвращает `log(1 + x)`. Это полезно для вычислений с малыми значениями `x`, где `1 + x` близко к 1, и прямое вычисление `log(1 + x)` приводит к значительной потере точности."
      ],
      "metadata": {
        "id": "VnxyqWwdKTEQ"
      }
    },
    {
      "cell_type": "code",
      "source": [
        "# log(1 + 1e-5)\n",
        "print(math.log1p(1e-5))"
      ],
      "metadata": {
        "colab": {
          "base_uri": "https://localhost:8080/"
        },
        "id": "oQ_-RrjiKQvt",
        "outputId": "f2624c90-47df-4b57-93eb-1305438f849c"
      },
      "execution_count": 22,
      "outputs": [
        {
          "output_type": "stream",
          "name": "stdout",
          "text": [
            "9.999950000333332e-06\n"
          ]
        }
      ]
    },
    {
      "cell_type": "markdown",
      "source": [
        "Функции - **`log2(x)`** и **`log10(x)`** возвращают логарифм `x` по основанию 2 и 10 соответственно."
      ],
      "metadata": {
        "id": "qHMNh73bKKub"
      }
    },
    {
      "cell_type": "code",
      "source": [
        "print(math.log2(32))\n",
        "print(math.log10(100))"
      ],
      "metadata": {
        "colab": {
          "base_uri": "https://localhost:8080/"
        },
        "id": "PmL318vVKH3-",
        "outputId": "0b9eaf40-94ea-4c7f-e4e3-d49cd097ce3b"
      },
      "execution_count": 23,
      "outputs": [
        {
          "output_type": "stream",
          "name": "stdout",
          "text": [
            "5.0\n",
            "2.0\n"
          ]
        }
      ]
    },
    {
      "cell_type": "markdown",
      "source": [
        "### **4. Функции возведения в степень и извлечения корня:**\n",
        "\n",
        "- **`pow(x, y)`** возвращает `x` возведённое в степень `y`. Эквивалентно оператору `**`, но является функцией модуля `math`."
      ],
      "metadata": {
        "id": "UB2-0Mr-KAEp"
      }
    },
    {
      "cell_type": "code",
      "source": [
        "# 2 в степени 3\n",
        "print(math.pow(2, 3))  # Вывод: 8.0"
      ],
      "metadata": {
        "colab": {
          "base_uri": "https://localhost:8080/"
        },
        "id": "nw6S2hLhLjRJ",
        "outputId": "99c536cd-e9ee-4b6d-d9cb-b69644eaeb8a"
      },
      "execution_count": 24,
      "outputs": [
        {
          "output_type": "stream",
          "name": "stdout",
          "text": [
            "8.0\n"
          ]
        }
      ]
    },
    {
      "cell_type": "markdown",
      "source": [
        "- **`sqrt(x)`** возвращает квадратный корень из `x`."
      ],
      "metadata": {
        "id": "72sbhP-ALXFN"
      }
    },
    {
      "cell_type": "code",
      "source": [
        "# Квадратный корень из 16\n",
        "print(math.sqrt(16))"
      ],
      "metadata": {
        "colab": {
          "base_uri": "https://localhost:8080/"
        },
        "id": "9d7wB5xpLSnB",
        "outputId": "9bc947f4-2f79-4f8d-b229-34212dccdee9"
      },
      "execution_count": 25,
      "outputs": [
        {
          "output_type": "stream",
          "name": "stdout",
          "text": [
            "4.0\n"
          ]
        }
      ]
    },
    {
      "cell_type": "markdown",
      "source": [
        "### **5. Тригонометрические и обратные тригонометрические функции:**\n",
        "\n",
        "- **`acos(x)`** возвращает арккосинус `x` в радианах. Значение `x` должно находиться в диапазоне от -1 до 1."
      ],
      "metadata": {
        "id": "_y3vOtRhVMBx"
      }
    },
    {
      "cell_type": "code",
      "source": [
        "# Арккосинус 0.5\n",
        "print(math.acos(0.5))  # Вывод: 1.0471975511965979 радиан, что примерно равно 60 градусам."
      ],
      "metadata": {
        "colab": {
          "base_uri": "https://localhost:8080/"
        },
        "id": "QuvzFNAKNaE9",
        "outputId": "655b823f-dc2b-40a5-b71a-53aae78c182e"
      },
      "execution_count": 30,
      "outputs": [
        {
          "output_type": "stream",
          "name": "stdout",
          "text": [
            "1.0471975511965979\n"
          ]
        }
      ]
    },
    {
      "cell_type": "markdown",
      "source": [
        "- **`asin(x)`** возвращает арксинус `x` в радианах. Аналогично, `x` должно быть в диапазоне от -1 до 1."
      ],
      "metadata": {
        "id": "ouKY3g6jNU8l"
      }
    },
    {
      "cell_type": "code",
      "source": [
        "# Арксинус 0.5\n",
        "print(math.asin(0.5))  # Вывод: 0.5235987755982989 радиан, что примерно равно 30 градусам."
      ],
      "metadata": {
        "colab": {
          "base_uri": "https://localhost:8080/"
        },
        "id": "qr4z3vuyNQQS",
        "outputId": "faf6e57e-ca5b-44cb-b56e-d6058fd1a6c7"
      },
      "execution_count": 31,
      "outputs": [
        {
          "output_type": "stream",
          "name": "stdout",
          "text": [
            "0.5235987755982989\n"
          ]
        }
      ]
    },
    {
      "cell_type": "markdown",
      "source": [
        "- **`atan(x)`** возвращает арктангенс `x` в радианах."
      ],
      "metadata": {
        "id": "dgGIQy5pNKrC"
      }
    },
    {
      "cell_type": "code",
      "source": [
        "# Арктангенс 1\n",
        "print(math.atan(1))  # Вывод: 0.7853981633974483 радиан, что примерно равно 45 градусам."
      ],
      "metadata": {
        "colab": {
          "base_uri": "https://localhost:8080/"
        },
        "id": "N3u0sC-JNH-F",
        "outputId": "fa0f693d-3a1c-44f3-9a41-1fab2ba10933"
      },
      "execution_count": 32,
      "outputs": [
        {
          "output_type": "stream",
          "name": "stdout",
          "text": [
            "0.7853981633974483\n"
          ]
        }
      ]
    },
    {
      "cell_type": "markdown",
      "source": [
        "- **`atan2(y, x)`** возвращает арктангенс `y/x`, учитывая знаки обоих аргументов для определения квадранта результата."
      ],
      "metadata": {
        "id": "qEVb77aONBo5"
      }
    },
    {
      "cell_type": "code",
      "source": [
        "# Арктангенс 1/2 во втором квадранте\n",
        "print(math.atan2(1, -2))"
      ],
      "metadata": {
        "colab": {
          "base_uri": "https://localhost:8080/"
        },
        "id": "yDB8ff2yNAs_",
        "outputId": "f283b048-617d-4966-ec25-71b754f6f001"
      },
      "execution_count": 33,
      "outputs": [
        {
          "output_type": "stream",
          "name": "stdout",
          "text": [
            "2.677945044588987\n"
          ]
        }
      ]
    },
    {
      "cell_type": "markdown",
      "source": [
        "- **`cos(x)`** возвращает косинус `x`, где `x` задано в радианах."
      ],
      "metadata": {
        "id": "SBbJqwN-M1Tw"
      }
    },
    {
      "cell_type": "code",
      "source": [
        "# Косинус PI / 3\n",
        "print(math.cos(math.pi / 3))"
      ],
      "metadata": {
        "colab": {
          "base_uri": "https://localhost:8080/"
        },
        "id": "M460jLrqM1Hi",
        "outputId": "2155f87e-f28f-420b-8668-96d549c69ecb"
      },
      "execution_count": 34,
      "outputs": [
        {
          "output_type": "stream",
          "name": "stdout",
          "text": [
            "0.5000000000000001\n"
          ]
        }
      ]
    },
    {
      "cell_type": "markdown",
      "source": [
        "- **`hypot(x, y)`** возвращает Евклидово расстояние от точки (0, 0) до точки (x, y)."
      ],
      "metadata": {
        "id": "j8SwteffMzUS"
      }
    },
    {
      "cell_type": "code",
      "source": [
        "# Евклидово расстояние от (0, 0) до (3, 4)\n",
        "print(math.hypot(3, 4))"
      ],
      "metadata": {
        "colab": {
          "base_uri": "https://localhost:8080/"
        },
        "id": "oc690UfHMmce",
        "outputId": "fc9ceddc-dbc0-41e4-e2e8-64ca80852050"
      },
      "execution_count": 27,
      "outputs": [
        {
          "output_type": "stream",
          "name": "stdout",
          "text": [
            "5.0\n"
          ]
        }
      ]
    },
    {
      "cell_type": "markdown",
      "source": [
        "- **`sin(x)`** возвращает синус `x`, где `x` задано в радианах."
      ],
      "metadata": {
        "id": "rmo29eRXMole"
      }
    },
    {
      "cell_type": "code",
      "source": [
        "# Синус PI / 6\n",
        "print(math.sin(math.pi / 6))"
      ],
      "metadata": {
        "colab": {
          "base_uri": "https://localhost:8080/"
        },
        "id": "4BPlRGvnMkBj",
        "outputId": "54a67f2c-959b-40d4-a93f-43e92f9c87c7"
      },
      "execution_count": 26,
      "outputs": [
        {
          "output_type": "stream",
          "name": "stdout",
          "text": [
            "0.49999999999999994\n"
          ]
        }
      ]
    },
    {
      "cell_type": "markdown",
      "source": [
        "- **`tan(x)`** возвращает тангенс `x`, где `x` задано в радианах. Важно помнить, что тангенс имеет вертикальные асимптоты (то есть значения, при которых функция не существует) в точках x = π/2 + kπ, где k - целое число."
      ],
      "metadata": {
        "id": "LSz1E_MKMfmM"
      }
    },
    {
      "cell_type": "code",
      "source": [
        "# Тангенс PI / 4\n",
        "print(math.tan(math.pi / 4))  # Вывод: 1.0"
      ],
      "metadata": {
        "id": "3N9m_kKKMagq"
      },
      "execution_count": null,
      "outputs": []
    },
    {
      "cell_type": "markdown",
      "source": [
        "### **6. Гиперболические функции**"
      ],
      "metadata": {
        "id": "s7TcAHVyNhuk"
      }
    },
    {
      "cell_type": "markdown",
      "source": [
        "Гиперболические функции являются аналогами тригонометрических функций для гиперболы, так же, как тригонометрические функции связаны с окружностью. Эти функции играют важную роль в различных областях математики, физики и инженерии, включая решение дифференциальных уравнений, описание волн или колебаний, и в теории относительности.\n",
        "\n",
        "\n",
        "\n",
        "\n",
        "\n",
        "\n",
        "\n"
      ],
      "metadata": {
        "id": "XGF54eS6XLz-"
      }
    },
    {
      "cell_type": "markdown",
      "source": [
        "- **`cosh(x)`**: Гиперболический косинус числа `x` определяется формулой `(e^x + e^(-x)) / 2`, где `e` — основание натурального логарифма."
      ],
      "metadata": {
        "id": "gH_VDN_AP3oN"
      }
    },
    {
      "cell_type": "code",
      "source": [
        "x = 1\n",
        "cosh_x = math.cosh(x)\n",
        "print(f\"cosh({x}) = {cosh_x}\")"
      ],
      "metadata": {
        "colab": {
          "base_uri": "https://localhost:8080/"
        },
        "id": "Oa27pw1kP0oS",
        "outputId": "3d1b0188-6f0b-4237-a2a1-d01f9e91c7ee"
      },
      "execution_count": 37,
      "outputs": [
        {
          "output_type": "stream",
          "name": "stdout",
          "text": [
            "cosh(1) = 1.5430806348152437\n"
          ]
        }
      ]
    },
    {
      "cell_type": "markdown",
      "source": [
        "- **`sinh(x)`**: Гиперболический синус числа `x` определяется формулой `(e^x - e^(-x)) / 2`."
      ],
      "metadata": {
        "id": "ZnxT1knsPwBv"
      }
    },
    {
      "cell_type": "code",
      "source": [
        "x = 1\n",
        "sinh_x = math.sinh(x)\n",
        "print(f\"sinh({x}) = {sinh_x}\")"
      ],
      "metadata": {
        "colab": {
          "base_uri": "https://localhost:8080/"
        },
        "id": "qRSf-oFPPrwV",
        "outputId": "34d2d24b-2a7e-4a20-8d42-ee10b7c619f9"
      },
      "execution_count": 38,
      "outputs": [
        {
          "output_type": "stream",
          "name": "stdout",
          "text": [
            "sinh(1) = 1.1752011936438014\n"
          ]
        }
      ]
    },
    {
      "cell_type": "markdown",
      "source": [
        "- **`tanh(x)`**: Гиперболический тангенс числа `x` определяется как отношение гиперболического синуса к гиперболическому косинусу того же числа, т.е., `sinh(x) / cosh(x)`."
      ],
      "metadata": {
        "id": "FSMrehBKPqVy"
      }
    },
    {
      "cell_type": "code",
      "source": [
        "x = 1\n",
        "tanh_x = math.tanh(x)\n",
        "print(f\"tanh({x}) = {tanh_x}\")"
      ],
      "metadata": {
        "colab": {
          "base_uri": "https://localhost:8080/"
        },
        "id": "e2UpQkVpPoIy",
        "outputId": "e50e717d-2da1-408a-fce2-932c83b227d8"
      },
      "execution_count": 39,
      "outputs": [
        {
          "output_type": "stream",
          "name": "stdout",
          "text": [
            "tanh(1) = 0.7615941559557649\n"
          ]
        }
      ]
    },
    {
      "cell_type": "markdown",
      "source": [
        "- **`acosh(x)`**: Гиперболический арккосинус числа `x` — это обратная функция к `cosh(x)`, определённая для `x >= 1`."
      ],
      "metadata": {
        "id": "kHUcwTmFPi8g"
      }
    },
    {
      "cell_type": "code",
      "source": [
        "x = 1\n",
        "acosh_x = math.acosh(x)\n",
        "print(f\"acosh({x}) = {acosh_x}\")"
      ],
      "metadata": {
        "colab": {
          "base_uri": "https://localhost:8080/"
        },
        "id": "AaXdK-NlPfpj",
        "outputId": "8a080a50-d2a6-4555-ec58-2ab4c5e6966e"
      },
      "execution_count": 40,
      "outputs": [
        {
          "output_type": "stream",
          "name": "stdout",
          "text": [
            "acosh(1) = 0.0\n"
          ]
        }
      ]
    },
    {
      "cell_type": "markdown",
      "source": [
        "- **`asinh(x)`**: Гиперболический арксинус числа `x` — это обратная функция к `sinh(x)`, определённая для всех действительных чисел `x`."
      ],
      "metadata": {
        "id": "_YM5TYl7Pcy_"
      }
    },
    {
      "cell_type": "code",
      "source": [
        "x = 1\n",
        "asinh_x = math.asinh(x)\n",
        "print(f\"asinh({x}) = {asinh_x}\")"
      ],
      "metadata": {
        "colab": {
          "base_uri": "https://localhost:8080/"
        },
        "id": "-5Xnsfq5PZ4x",
        "outputId": "43c4a2d5-effc-4685-9922-fd042cdd44f7"
      },
      "execution_count": 41,
      "outputs": [
        {
          "output_type": "stream",
          "name": "stdout",
          "text": [
            "asinh(1) = 0.881373587019543\n"
          ]
        }
      ]
    },
    {
      "cell_type": "markdown",
      "source": [
        "- **`atanh(x)`**: Гиперболический арктангенс числа `x` — это обратная функция к `tanh(x)`, определённая для `-1 < x < 1`."
      ],
      "metadata": {
        "id": "LqeQlZshPYGv"
      }
    },
    {
      "cell_type": "code",
      "source": [
        "x = 0.5\n",
        "atanh_x = math.atanh(x)\n",
        "print(f\"atanh({x}) = {atanh_x}\")"
      ],
      "metadata": {
        "colab": {
          "base_uri": "https://localhost:8080/"
        },
        "id": "WAkxY3YIPVrp",
        "outputId": "cbcbe9b8-f3a4-4502-d005-723fbec544bb"
      },
      "execution_count": 42,
      "outputs": [
        {
          "output_type": "stream",
          "name": "stdout",
          "text": [
            "atanh(0.5) = 0.5493061443340548\n"
          ]
        }
      ]
    },
    {
      "cell_type": "markdown",
      "source": [
        "### **7. Преобразование углов:**"
      ],
      "metadata": {
        "id": "Zy_TQLtRQc1i"
      }
    },
    {
      "cell_type": "markdown",
      "source": [
        "**`degrees(x)`**: Эта функция преобразует угол из радиан в градусы."
      ],
      "metadata": {
        "id": "4TJhfLQSQZ1z"
      }
    },
    {
      "cell_type": "code",
      "source": [
        "radians = math.pi / 4  # 45 градусов в радианах\n",
        "degrees = math.degrees(radians)\n",
        "print(f\"{radians} радиан = {degrees} градусов\")"
      ],
      "metadata": {
        "colab": {
          "base_uri": "https://localhost:8080/"
        },
        "id": "MGmJiIsDQ-u1",
        "outputId": "ba352951-4aeb-4584-a162-89580ac43e77"
      },
      "execution_count": 45,
      "outputs": [
        {
          "output_type": "stream",
          "name": "stdout",
          "text": [
            "0.7853981633974483 радиан = 45.0 градусов\n"
          ]
        }
      ]
    },
    {
      "cell_type": "markdown",
      "source": [
        "**`radians(x)`**: Функция преобразует угол из градусов в радианы."
      ],
      "metadata": {
        "id": "6xGFJ-aXQ7gE"
      }
    },
    {
      "cell_type": "code",
      "source": [
        "degrees = 180  # 180 градусов\n",
        "radians = math.radians(degrees)\n",
        "print(f\"{degrees} градусов = {radians} радиан\")"
      ],
      "metadata": {
        "colab": {
          "base_uri": "https://localhost:8080/"
        },
        "id": "_exXjPJOQ4Ef",
        "outputId": "406bc92f-6861-4357-a963-050616934494"
      },
      "execution_count": 46,
      "outputs": [
        {
          "output_type": "stream",
          "name": "stdout",
          "text": [
            "180 градусов = 3.141592653589793 радиан\n"
          ]
        }
      ]
    },
    {
      "cell_type": "markdown",
      "source": [
        "### **8. Специальные функции:**"
      ],
      "metadata": {
        "id": "8qozuKhwRGRo"
      }
    },
    {
      "cell_type": "markdown",
      "source": [
        "**`factorial()`**: используется для вычисления факториала числа.\n",
        "\n",
        "Факториал числа *n*, обозначаемый как *n!*, это произведение всех положительных целых чисел от 1 до *n*. Формально это определяется как:\n",
        "\n",
        "$n! = n \\times (n-1) \\times (n-2) \\times \\cdots \\times 1$\n",
        "\n",
        "Для нуля факториал определен как 1, т.е., \\(0! = 1\\)."
      ],
      "metadata": {
        "id": "yQlzjyCGWmwB"
      }
    },
    {
      "cell_type": "code",
      "source": [
        "result = math.factorial(5)\n",
        "print(result)  # Выведет 120, потому что 5! = 5 * 4 * 3 * 2 * 1 = 120"
      ],
      "metadata": {
        "colab": {
          "base_uri": "https://localhost:8080/"
        },
        "id": "6DrZ6ccNW7Mk",
        "outputId": "1b85eeb0-6d5e-48d9-d5e0-dc1e65197009"
      },
      "execution_count": 64,
      "outputs": [
        {
          "output_type": "stream",
          "name": "stdout",
          "text": [
            "120\n"
          ]
        }
      ]
    },
    {
      "cell_type": "markdown",
      "source": [
        "**`erf(x)`**: Функция ошибок `erf(x)` — это математическая функция, которая встречается в вероятности, статистике и дифференциальных уравнениях, связанных с нормальным распределением вероятностей. Она описывает вероятность того, что случайная переменная, имеющая стандартное нормальное распределение, окажется в интервале между 0 и `x`."
      ],
      "metadata": {
        "id": "YHdkGAJnXRzT"
      }
    },
    {
      "cell_type": "code",
      "source": [
        "x = 1.0\n",
        "erfc_x = math.erf(x)\n",
        "print(f\"erf({x}) = {erf_x}\")"
      ],
      "metadata": {
        "colab": {
          "base_uri": "https://localhost:8080/"
        },
        "id": "W9hJhoZVTNYZ",
        "outputId": "aa12f036-dbf4-494e-83c3-8810f0acef90"
      },
      "execution_count": 52,
      "outputs": [
        {
          "output_type": "stream",
          "name": "stdout",
          "text": [
            "erf(1.0) = 0.8427007929497149\n"
          ]
        }
      ]
    },
    {
      "cell_type": "markdown",
      "source": [
        "**`erfc(x)`**: Дополнительная функция ошибок `erfc(x)` связана с функцией ошибок `erf(x)` и определяется как `1 - erf(x)`. Это дополняет `erf(x)` до единицы, предоставляя вероятность в интервале от `x` до бесконечности."
      ],
      "metadata": {
        "id": "LImNL4u_R-43"
      }
    },
    {
      "cell_type": "code",
      "source": [
        "x = 1.0\n",
        "erfc_x = math.erfc(x)\n",
        "print(f\"erfc({x}) = {erfc_x}\")"
      ],
      "metadata": {
        "colab": {
          "base_uri": "https://localhost:8080/"
        },
        "id": "jCqN-YLGR8AX",
        "outputId": "cba68a36-7b8c-4f7f-a972-59ab65b676fa"
      },
      "execution_count": 51,
      "outputs": [
        {
          "output_type": "stream",
          "name": "stdout",
          "text": [
            "erfc(1.0) = 0.15729920705028513\n"
          ]
        }
      ]
    },
    {
      "cell_type": "markdown",
      "source": [
        "**`gamma(x)`**: Гамма-функция `Γ(x)` обобщает факториал на вещественные и комплексные числа, так что `Γ(n) = (n-1)!` для любого целого числа `n > 0`. Она играет важную роль в различных областях математики, особенно в теории функций и статистике."
      ],
      "metadata": {
        "id": "t7SuYxQpR43b"
      }
    },
    {
      "cell_type": "code",
      "source": [
        "x = 5.0\n",
        "gamma_x = math.gamma(x)\n",
        "print(f\"gamma({x}) = {gamma_x}\")"
      ],
      "metadata": {
        "colab": {
          "base_uri": "https://localhost:8080/"
        },
        "id": "PM-e29QXR2WO",
        "outputId": "883fa5af-2ae3-4a98-e7f5-0c5a38034d4a"
      },
      "execution_count": 48,
      "outputs": [
        {
          "output_type": "stream",
          "name": "stdout",
          "text": [
            "gamma(5.0) = 24.0\n"
          ]
        }
      ]
    },
    {
      "cell_type": "markdown",
      "source": [
        "**`lgamma(x)`**: Функция `lgamma(x)` возвращает натуральный логарифм абсолютного значения гамма-функции `Γ(x)`. Это может быть полезно для численных расчетов, когда значение гамма-функции слишком велико для представления в обычной арифметике."
      ],
      "metadata": {
        "id": "fgmxztUBRzR6"
      }
    },
    {
      "cell_type": "code",
      "source": [
        "x = 5.0\n",
        "lgamma_x = math.lgamma(x)\n",
        "print(f\"lgamma({x}) = {lgamma_x}\")"
      ],
      "metadata": {
        "colab": {
          "base_uri": "https://localhost:8080/"
        },
        "id": "MRPwNrwnRwUC",
        "outputId": "c8a36a8e-14e3-4d1a-c051-fa463b47c333"
      },
      "execution_count": 47,
      "outputs": [
        {
          "output_type": "stream",
          "name": "stdout",
          "text": [
            "lgamma(5.0) = 3.178053830347945\n"
          ]
        }
      ]
    },
    {
      "cell_type": "markdown",
      "source": [
        "**`math.dist(p, q)`**: Эта функция вычисляет Евклидово расстояние между двумя точками `p` и `q`, которые представлены в виде итерируемых объектов (например, списков или кортежей) с координатами.\n",
        "\n",
        "\n",
        "\n",
        "\n",
        "\n",
        "\n"
      ],
      "metadata": {
        "id": "PMpe95wBZc1P"
      }
    },
    {
      "cell_type": "code",
      "source": [
        "p = (1, 2)\n",
        "q = (4, 6)\n",
        "print(math.dist(p, q))  # Выведет расстояние между точками p и q"
      ],
      "metadata": {
        "colab": {
          "base_uri": "https://localhost:8080/"
        },
        "id": "wVxGuDQgVaeN",
        "outputId": "5f45320e-9db6-420a-db31-fcf9071daebc"
      },
      "execution_count": 63,
      "outputs": [
        {
          "output_type": "stream",
          "name": "stdout",
          "text": [
            "5.0\n"
          ]
        }
      ]
    },
    {
      "cell_type": "markdown",
      "source": [
        "**`math.frexp(x)`**: Функция разбивает число на мантиссу и экспоненту, так что `x == m * 2**e`. Это особенно полезно для работы с числами с плавающей точкой на низком уровне."
      ],
      "metadata": {
        "id": "IMhoMmNkVRMt"
      }
    },
    {
      "cell_type": "code",
      "source": [
        "x = 8.0\n",
        "m, e = math.frexp(x)\n",
        "print(m, e)  # Выведет мантиссу и экспоненту числа x"
      ],
      "metadata": {
        "colab": {
          "base_uri": "https://localhost:8080/"
        },
        "id": "diaIIKplVFhm",
        "outputId": "9478281b-53d1-40ab-8ce8-757af2491243"
      },
      "execution_count": 62,
      "outputs": [
        {
          "output_type": "stream",
          "name": "stdout",
          "text": [
            "0.5 4\n"
          ]
        }
      ]
    },
    {
      "cell_type": "markdown",
      "source": [
        "**`math.nextafter(x, y)`**: Возвращает ближайшее плавающее-точечное значение к `x` в направлении `y`. Это может быть использовано для тонкой настройки чисел с плавающей точкой."
      ],
      "metadata": {
        "id": "KCz9L8j7VCRO"
      }
    },
    {
      "cell_type": "code",
      "source": [
        "x = 1.0\n",
        "y = 2.0\n",
        "print(math.nextafter(x, y))  # Выведет число, ближайшее к x в направлении к y"
      ],
      "metadata": {
        "id": "_X1NDYNNU_bw"
      },
      "execution_count": null,
      "outputs": []
    },
    {
      "cell_type": "markdown",
      "source": [
        "**`math.remainder(x, y)`**: Возвращает разность между `x` и ближайшим кратным `y`, что полезно для численного анализа и обработки ошибок округления."
      ],
      "metadata": {
        "id": "P7HE4aheU1hT"
      }
    },
    {
      "cell_type": "code",
      "source": [
        "x = 5\n",
        "y = 2\n",
        "print(math.remainder(x, y))  # Выведет разность между x и ближайшим кратным y"
      ],
      "metadata": {
        "colab": {
          "base_uri": "https://localhost:8080/"
        },
        "id": "m7Tq_0coUwUg",
        "outputId": "34a332a1-2006-41be-eaad-093b2bc7432a"
      },
      "execution_count": 60,
      "outputs": [
        {
          "output_type": "stream",
          "name": "stdout",
          "text": [
            "1.0\n"
          ]
        }
      ]
    },
    {
      "cell_type": "markdown",
      "source": [
        "**`math.ulp(x)`**: Возвращает разницу между числом `x` и ближайшим к нему числом с плавающей точкой, что полезно для определения точности вычислений."
      ],
      "metadata": {
        "id": "lCb6DN8LUsr8"
      }
    },
    {
      "cell_type": "code",
      "source": [
        "x = 1.0\n",
        "print(math.ulp(x))  # Выведет ULP (Unit in the Last Place) для x"
      ],
      "metadata": {
        "colab": {
          "base_uri": "https://localhost:8080/"
        },
        "id": "WpFHqYsSUk1m",
        "outputId": "2546c2dd-1a5d-4d36-c6b0-09d45eede6ff"
      },
      "execution_count": 61,
      "outputs": [
        {
          "output_type": "stream",
          "name": "stdout",
          "text": [
            "2.220446049250313e-16\n"
          ]
        }
      ]
    },
    {
      "cell_type": "markdown",
      "source": [
        "**`math.perm(n, k=None)`**: Возвращает количество перестановок из `n` элементов по `k`. Если `k` не указано, считается, что `k=n`."
      ],
      "metadata": {
        "id": "n0HvkHWsUaUL"
      }
    },
    {
      "cell_type": "code",
      "source": [
        "n = 4\n",
        "k = 2\n",
        "print(math.perm(n, k))  # Выведет количество перестановок из n по k"
      ],
      "metadata": {
        "colab": {
          "base_uri": "https://localhost:8080/"
        },
        "id": "2f7_JnGnUUQG",
        "outputId": "72fe505e-564a-4c33-fe15-86e0d1fb2845"
      },
      "execution_count": 59,
      "outputs": [
        {
          "output_type": "stream",
          "name": "stdout",
          "text": [
            "12\n"
          ]
        }
      ]
    },
    {
      "cell_type": "markdown",
      "source": [
        "**`math.comb(n, k)`**: Возвращает количество сочетаний из `n` элементов по `k`."
      ],
      "metadata": {
        "id": "KHL3gs75UF8A"
      }
    },
    {
      "cell_type": "code",
      "source": [
        "n = 4\n",
        "k = 2\n",
        "print(math.comb(n, k))  # Выведет количество сочетаний из n по k"
      ],
      "metadata": {
        "colab": {
          "base_uri": "https://localhost:8080/"
        },
        "id": "wclkCGWmT_12",
        "outputId": "203565dc-5175-45a3-f5c9-a2ba06bc8cc4"
      },
      "execution_count": 57,
      "outputs": [
        {
          "output_type": "stream",
          "name": "stdout",
          "text": [
            "6\n"
          ]
        }
      ]
    },
    {
      "cell_type": "markdown",
      "source": [
        "**`math.prod(iterable, *, start=1)`**: вычисляет произведение элементов итерируемого объекта, начиная с начального значения `start`."
      ],
      "metadata": {
        "id": "cGFW3gtqT8lR"
      }
    },
    {
      "cell_type": "code",
      "source": [
        "iterable = [1, 2, 3, 4]\n",
        "print(math.prod(iterable))  # Выведет произведение элементов iterable"
      ],
      "metadata": {
        "colab": {
          "base_uri": "https://localhost:8080/"
        },
        "id": "n4UeIaNOT0fU",
        "outputId": "e937ee7a-150d-4496-e607-aef7ab922634"
      },
      "execution_count": 54,
      "outputs": [
        {
          "output_type": "stream",
          "name": "stdout",
          "text": [
            "24\n"
          ]
        }
      ]
    },
    {
      "cell_type": "markdown",
      "source": [
        "**`math.isqrt(n)`**: Возвращает целое число, которое является квадратным корнем из `n`, округленным вниз."
      ],
      "metadata": {
        "id": "srJnNFf4TmYI"
      }
    },
    {
      "cell_type": "code",
      "source": [
        "n = 10\n",
        "print(math.isqrt(n))  # Выведет целочисленный квадратный корень из n"
      ],
      "metadata": {
        "colab": {
          "base_uri": "https://localhost:8080/"
        },
        "id": "kRrty2wYTi0Q",
        "outputId": "0a9b419d-5a7e-435c-c7da-28b37a49dfb2"
      },
      "execution_count": 53,
      "outputs": [
        {
          "output_type": "stream",
          "name": "stdout",
          "text": [
            "3\n"
          ]
        }
      ]
    },
    {
      "cell_type": "markdown",
      "source": [
        "### **9. Константы:**"
      ],
      "metadata": {
        "id": "wjDoC3-cSU43"
      }
    },
    {
      "cell_type": "markdown",
      "source": [
        "\n",
        "\n",
        "#### 1. `pi` - Число Пи.\n",
        "\n",
        "**Описание**: Число Пи (π) является математической константой, которая определяет соотношение длины окружности к её диаметру в евклидовой плоскости. Число Пи иррационально и имеет бесконечное количество десятичных знаков, но в Python оно округлено до определенного количества знаков после запятой.\n",
        "\n",
        "**Пример кода**:\n",
        "\n",
        "```python\n",
        "import math\n",
        "\n",
        "print(math.pi)  # Выводит приблизительное значение числа Пи\n",
        "```\n",
        "\n",
        "#### 2. `e` - Основание натурального логарифма.\n",
        "\n",
        "**Описание**: Е (e) — математическая константа, основание натурального логарифма. Число е иррационально и представляет собой предел `(1 + 1/n)^n` при `n`, стремящемся к бесконечности. Число е важно во многих областях математики, включая исчисление, теорию чисел и сложные финансовые расчеты.\n",
        "\n",
        "**Пример кода**:\n",
        "\n",
        "```python\n",
        "import math\n",
        "\n",
        "print(math.e)  # Выводит приблизительное значение числа е\n",
        "```\n",
        "\n",
        "#### 3. `tau` - Тау (2*Пи).\n",
        "\n",
        "**Описание**: Тау (τ) — это константа, равная двум Пи (2π). Эта константа часто используется в математике и физике, когда удобнее работать с полными оборотами, а не половинами. Некоторые математики и исследователи предпочитают использовать тау вместо Пи для упрощения формул и уравнений.\n",
        "\n",
        "**Пример кода**:\n",
        "\n",
        "```python\n",
        "import math\n",
        "\n",
        "print(math.tau)  # Выводит приблизительное значение константы Тау\n",
        "```\n",
        "\n",
        "#### 4. `inf` - Бесконечность.\n",
        "\n",
        "**Описание**: В Python `math.inf` представляет положительную бесконечность. Это специальное значение может быть использовано в вычислениях, которые превышают максимально возможное число или для обозначения бесконечности в алгоритмах и математических моделях.\n",
        "\n",
        "**Пример кода**:\n",
        "\n",
        "```python\n",
        "import math\n",
        "\n",
        "print(math.inf)  # Выводит представление положительной бесконечности\n",
        "print(-math.inf)  # Выводит представление отрицательной бесконечности\n",
        "```\n",
        "\n",
        "#### 5. `nan` - Не число (Not a Number).\n",
        "\n",
        "**Описание**: `math.nan` представляет собой специальное значение, которое используется для обозначения неопределенных или нечисловых результатов. Например, результат операции 0/0 или корня из отрицательного числа в действительных числах.\n",
        "\n",
        "**Пример кода**:\n",
        "\n",
        "```python\n",
        "import math\n",
        "\n",
        "print(math.nan)  # Выводит представление NaN (не число)\n",
        "```"
      ],
      "metadata": {
        "id": "uAbLhu16YIPq"
      }
    }
  ]
}