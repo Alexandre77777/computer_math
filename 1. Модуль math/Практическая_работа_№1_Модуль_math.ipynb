{
  "nbformat": 4,
  "nbformat_minor": 0,
  "metadata": {
    "colab": {
      "provenance": [],
      "collapsed_sections": [
        "nLwGZB0cl6Px"
      ],
      "authorship_tag": "ABX9TyN+YBmnojuX086vCczm3F2s",
      "include_colab_link": true
    },
    "kernelspec": {
      "name": "python3",
      "display_name": "Python 3"
    },
    "language_info": {
      "name": "python"
    }
  },
  "cells": [
    {
      "cell_type": "markdown",
      "metadata": {
        "id": "view-in-github",
        "colab_type": "text"
      },
      "source": [
        "<a href=\"https://colab.research.google.com/github/Alexandre77777/computer_math/blob/main/1.%20%D0%9C%D0%BE%D0%B4%D1%83%D0%BB%D1%8C%20math/%D0%9F%D1%80%D0%B0%D0%BA%D1%82%D0%B8%D1%87%D0%B5%D1%81%D0%BA%D0%B0%D1%8F_%D1%80%D0%B0%D0%B1%D0%BE%D1%82%D0%B0_%E2%84%961_%D0%9C%D0%BE%D0%B4%D1%83%D0%BB%D1%8C_math.ipynb\" target=\"_parent\"><img src=\"https://colab.research.google.com/assets/colab-badge.svg\" alt=\"Open In Colab\"/></a>"
      ]
    },
    {
      "cell_type": "markdown",
      "source": [
        "### Задание 1: Решение квадратного уравнения"
      ],
      "metadata": {
        "id": "5RnujUcdXQsu"
      }
    },
    {
      "cell_type": "markdown",
      "source": [
        "Напишите функцию для решения квадратного уравнения вида $ax^2 + bx + c = 0$.\n",
        "\n",
        "Программа должна запросить у пользователя значения коэффициентов $a$, $b$, и $c$, вычислить дискриминант по формуле $D = b^2 - 4ac$, а затем найти корни уравнения. Используйте функции `sqrt` и `pow` из библиотеки `math`."
      ],
      "metadata": {
        "id": "ON9A-LvlXV_T"
      }
    },
    {
      "cell_type": "markdown",
      "source": [
        "Примеры листинга программы:\n",
        "\n",
        "\n",
        "\n",
        "```\n",
        "Введите коэффициент a: 1\n",
        "Введите коэффициент b: -2\n",
        "Введите коэффициент c: 1\n",
        "Уравнение имеет один корень: x = 1.0\n",
        "```\n",
        "\n",
        "\n",
        "\n",
        "```\n",
        "Введите коэффициент a: 1\n",
        "Введите коэффициент b: -3\n",
        "Введите коэффициент c: 2\n",
        "Уравнение имеет два корня: x1 = 2.0, x2 = 1.0\n",
        "```\n",
        "\n",
        "```\n",
        "Введите коэффициент a: 1\n",
        "Введите коэффициент b: 2\n",
        "Введите коэффициент c: 3\n",
        "Корней нет\n",
        "```\n"
      ],
      "metadata": {
        "id": "pkFrJTHxb-jx"
      }
    },
    {
      "cell_type": "code",
      "source": [
        "# Ваш код"
      ],
      "metadata": {
        "id": "_-P5nt8tXTNv"
      },
      "execution_count": null,
      "outputs": []
    },
    {
      "cell_type": "markdown",
      "source": [
        "\n",
        "\n",
        "### Задание 2: Расчет интеграла методом трапеций\n",
        "Реализуйте функцию для вычисления определенного интеграла функции $f(x)$, используя метод трапеций. Функция $f(x)$ задается внутри вашей программы (например, $f(x) = x^2$), а интервал интегрирования и количество разбиений задаются пользователем. Используйте базовые операции Python и функции из библиотеки `math` для вычислений.\n",
        "\n",
        "\n",
        "\n",
        "\n",
        "\n"
      ],
      "metadata": {
        "id": "SJjSHhMTPk-K"
      }
    },
    {
      "cell_type": "markdown",
      "source": [
        "Чтобы написать программу для вычисления определенного интеграла функции $f(x)$ методом трапеций, следуйте этому алгоритму:\n",
        "\n",
        "*Шаг 1*: Определение целевой функции\n",
        "  Определите функцию $f(x)$, значение которой вы хотите интегрировать. Например, $f(x) = x^2$.\n",
        "\n",
        "\n",
        "*Шаг 2*: Реализация метода трапеций\n",
        "1. Создайте функцию для вычисления интеграла, например, с именем `trapezoidal_integral`, которая принимает четыре аргумента: функцию `f`, начало интервала `a`, конец интервала `b` и количество разбиений `n`.\n",
        "2. В этой функции, рассчитайте ширину одного разбиения $h = \\frac{b - a}{n}$.\n",
        "3. Инициализируйте переменную для хранения суммы значений, например, `integral`, начальным значением которой будет среднее арифметическое значений функции на концах интервала, умноженное на $h$ и деленное на 2.\n",
        "4. Используйте цикл `for` для перебора всех точек разбиения (кроме первой и последней), добавляя в `integral` значение функции в каждой точке, умноженное на $h$.\n",
        "5. После завершения цикла, верните полученное значение интеграла."
      ],
      "metadata": {
        "id": "vv5aTieQajgD"
      }
    },
    {
      "cell_type": "code",
      "source": [
        "# Ваш код"
      ],
      "metadata": {
        "id": "ieN0p64UYDRj"
      },
      "execution_count": null,
      "outputs": []
    },
    {
      "cell_type": "markdown",
      "source": [
        "Проверка:\n",
        "\n",
        "Функция: $f(x) = x^2$\n",
        "\n",
        "```\n",
        "Входные данные:\n",
        "\n",
        "a = 0  # Начало интервала\n",
        "b = 1  # Конец интервала\n",
        "n = 100  # Количество разбиений\n",
        "\n",
        "Значение интеграла: 0.33335000000000015\n",
        "```\n",
        "\n",
        "Функция: $f(x) = \\sin(x)$\n",
        "\n",
        "```\n",
        "Входные данные:\n",
        "\n",
        "a = 0  # Начало интервала\n",
        "b = PI  # Конец интервала\n",
        "n = 1000  # Количество разбиений\n",
        "\n",
        "Значение интеграла: ~1.9999983550656637\n",
        "```\n",
        "\n"
      ],
      "metadata": {
        "id": "5pLFAgLcdE5Y"
      }
    },
    {
      "cell_type": "markdown",
      "source": [
        "### Задание 3: Нахождение корней уравнения методом бисекции\n",
        "Разработайте программу для нахождения корня уравнения $f(x) = 0$ на заданном интервале с заданной точностью, используя метод бисекции. Функция $f(x)$ задается внутри программы (например, $f(x) = x^3 - x - 2$), а интервал поиска корня (начало и конец интервала) и точность задаются пользователем. Для вычислений используйте базовые операции Python и функции из библиотеки `math`.\n",
        "\n",
        "\n"
      ],
      "metadata": {
        "id": "525gZFYHYD1_"
      }
    },
    {
      "cell_type": "markdown",
      "source": [
        "**Метод бисекции** — это простой численный метод для нахождения корня функции, который заключается в последовательном делении пополам интервала, на концах которого значения функции имеют разные знаки. Алгоритм метода следующий:\n",
        "\n",
        "1. Проверяем, что на концах интервала [a, b] значения функции имеют разные знаки, т.е. $f(a) \\cdot f(b) < 0$. Если это условие не выполняется, метод бисекции не применим.\n",
        "2. Вычисляем середину интервала $c = \\frac{a + b}{2}$ и проверяем значение функции в этой точке ($f(c)$).\n",
        "3. Если $f(c) = 0$ или длина интервала $\\frac{b - a}{2}$ меньше заданной точности, то корень найден.\n",
        "4. Если $f(c) \\neq 0$, выбираем подинтервал [a, c] или [c, b], на концах которого значения функции имеют разные знаки, и повторяем шаги 2-4."
      ],
      "metadata": {
        "id": "deeMps2EZg6z"
      }
    },
    {
      "cell_type": "code",
      "source": [
        "# Ваш код"
      ],
      "metadata": {
        "id": "-aNXlcMlXQZc"
      },
      "execution_count": 8,
      "outputs": []
    },
    {
      "cell_type": "markdown",
      "source": [
        "Примеры листинга программы:\n",
        "\n",
        "\n",
        "\n",
        "```\n",
        "Введите начало интервала a: 1\n",
        "Введите конец интервала b: 2\n",
        "Введите точность (например, 0.001): 0.001\n",
        "Найден корень: ~1.521484375\n",
        "```"
      ],
      "metadata": {
        "id": "MxcTpremfxGq"
      }
    },
    {
      "cell_type": "markdown",
      "source": [
        "### Задание 4: Расчет сложных процентов\n",
        "\n",
        "Написать программу для расчета итоговой суммы депозита, если известны первоначальная сумма, годовая процентная ставка и срок вклада в годах. Использовать формулу сложных процентов с ежедневной капитализацией.\n",
        "\n",
        "**Формула**: $A = P \\cdot exp(rt)$, где $P$ - первоначальная сумма, $r$ - годовая процентная ставка (в десятичной дроби), $t$ - срок вклада в годах, $A$ - итоговая сумма."
      ],
      "metadata": {
        "id": "N226OfIShWQ9"
      }
    },
    {
      "cell_type": "code",
      "source": [
        "# Ваш код"
      ],
      "metadata": {
        "id": "4WPiyJBLjUMB"
      },
      "execution_count": null,
      "outputs": []
    },
    {
      "cell_type": "markdown",
      "source": [
        "\n",
        "\n",
        "```\n",
        "# Пример входных данных\n",
        "P = 10000  # первоначальная сумма\n",
        "r = 0.05   # годовая процентная ставка в десятичной форме\n",
        "t = 2      # срок вклада в годах\n",
        "\n",
        "# Пример выходных данных\n",
        "Итоговая сумма депозита: 11051.71\n",
        "```\n",
        "\n"
      ],
      "metadata": {
        "id": "v0KFWVCIzvh2"
      }
    },
    {
      "cell_type": "markdown",
      "source": [
        "### Задание 5: Расчет годового процента по заданной итоговой сумме\n",
        "\n",
        "Написать программу, которая рассчитывает годовую процентную ставку по формуле сложных процентов, зная первоначальную сумму, итоговую сумму и срок вклада.\n",
        "\n",
        "**Формула**: $r = \\frac{1}{t} \\cdot log(\\frac{A}{P})$, где $P$ - первоначальная сумма, $A$ - итоговая сумма, $t$ - срок вклада в годах, $r$ - годовая процентная ставка.\n",
        "\n"
      ],
      "metadata": {
        "id": "uZg7DKODbYJt"
      }
    },
    {
      "cell_type": "code",
      "source": [
        "# Ваш код"
      ],
      "metadata": {
        "id": "MGnRI9j4jV0i"
      },
      "execution_count": null,
      "outputs": []
    },
    {
      "cell_type": "markdown",
      "source": [
        "\n",
        "\n",
        "```\n",
        "# Пример входных данных\n",
        "P = 10000  # первоначальная сумма\n",
        "A = 11051.71  # итоговая сумма\n",
        "t = 2  # срок вклада в годах\n",
        "\n",
        "# Пример выходных данных\n",
        "Годовая процентная ставка: 5.00%\n",
        "\n",
        "```\n",
        "\n"
      ],
      "metadata": {
        "id": "NrGyrUpJ1ol8"
      }
    },
    {
      "cell_type": "markdown",
      "source": [
        "### Задание 6: Вычисление квадратного корня при помощи итерационных методов\n",
        "\n",
        "Написать программу, которая использует метод Ньютона (метод касательных) для нахождения квадратного корня из числа, введенного пользователем. Сравнить результат с результатом, полученным при помощи функции `sqrt()`.\n",
        "\n",
        "**Формула метода Ньютона**: $x_{n+1} = \\frac{1}{2}(x_n + \\frac{a}{x_n})$, где $a$- это число, из которого мы хотим извлечь квадратный корень.\n",
        "\n",
        "Метод Ньютона (или метод касательных) - это численный метод нахождения корней уравнений. В случае извлечения квадратного корня из числа $a$, мы используем его для решения уравнения $x^2 - a = 0$."
      ],
      "metadata": {
        "id": "ISJbONDvh7yk"
      }
    },
    {
      "cell_type": "markdown",
      "source": [
        "Алгоритм:\n",
        "\n",
        "1. Напишите функцию `sqrt_newton_method(a, epsilon=1e-10)`, которая будет вычислять квадратный корень из числа `a` с заданной точностью `epsilon`, используя метод Ньютона.\n",
        "\n",
        "   Шаги для реализации метода Ньютона:\n",
        "   - Инициализируйте начальное приближение `x` значением `a`.\n",
        "   - В цикле выполняйте следующие шаги, пока разница между последовательными приближениями не станет меньше `epsilon`:\n",
        "     - Вычислите следующее приближение по формуле `next_x = 0.5 * (x + a / x)`.\n",
        "     - Проверьте условие остановки: если `abs(x - next_x) < epsilon`, выйдите из цикла.\n",
        "     - Обновите текущее приближение `x` значением `next_x`.\n",
        "   - Верните последнее вычисленное приближение `x` как результат функции.\n",
        "\n",
        "2. Напишите функцию `main()`, в которой реализуйте следующую логику:\n",
        "   - Спросите у пользователя число `a` для извлечения квадратного корня, используя ввод с клавиатуры.\n",
        "   - Вызовите функцию `sqrt_newton_method(a)` для вычисления квадратного корня из числа `a` методом Ньютона и сохраните результат в переменной.\n",
        "   - Выведите полученный квадратный корень на экран.\n",
        "   - Вычислите квадратный корень из числа `a`, используя стандартную функцию `sqrt` из модуля `math`, и сохраните результат в другой переменной.\n",
        "   - Выведите полученный квадратный корень на экран.\n",
        "   - Сравните результаты, полученные двумя методами, выведите разницу между ними на экран."
      ],
      "metadata": {
        "id": "Uy7qlc1Vi0ZF"
      }
    },
    {
      "cell_type": "code",
      "source": [
        "# Ваш код"
      ],
      "metadata": {
        "id": "euhduGDljXqb"
      },
      "execution_count": 9,
      "outputs": []
    },
    {
      "cell_type": "markdown",
      "source": [
        "\n",
        "\n",
        "```\n",
        "# Пример 1\n",
        "# Входные данные:\n",
        "Введите число для извлечения квадратного корня: 25\n",
        "\n",
        "# Выходные данные:\n",
        "Квадратный корень из 25 методом Ньютона: 5.0\n",
        "Квадратный корень из 25 стандартной функцией: 5.0\n",
        "Разница между методами: 0.0\n",
        "\n",
        "# Пример 2\n",
        "# Входные данные:\n",
        "Введите число для извлечения квадратного корня: 2\n",
        "\n",
        "# Выходные данные:\n",
        "Квадратный корень из 2 методом Ньютона: 1.414213562373095\n",
        "Квадратный корень из 2 стандартной функцией: 1.4142135623730951\n",
        "Разница между методами: 2.220446049250313e-16```\n",
        "\n"
      ],
      "metadata": {
        "id": "2q029pUP2J3V"
      }
    },
    {
      "cell_type": "markdown",
      "source": [
        "### Задание 7: Расчет угла между двумя векторами\n",
        "\n",
        "Даны два вектора $A(x_1, y_1)$ и $B(x_2, y_2)$. Написать программу на Python, которая вычисляет угол между этими векторами.\n",
        "\n",
        "**Формула**: Угол между векторами можно вычислить, используя формулу:\n",
        "$\\theta = \\arccos\\left(\\frac{A \\cdot B}{|A| |B|}\\right) $\n",
        "где $(A \\cdot B = x_1x_2 + y_1y_2$) - скалярное произведение векторов, $(|A| = \\sqrt{x_1^2 + y_1^2}$) и $(|B| = \\sqrt{x_2^2 + y_2^2}$) - длины векторов $(A$) и $(B$) соответственно."
      ],
      "metadata": {
        "id": "hEGfd1Uajt4L"
      }
    },
    {
      "cell_type": "code",
      "source": [
        "# Ваш код"
      ],
      "metadata": {
        "id": "VkNn7RGdj7cF"
      },
      "execution_count": null,
      "outputs": []
    },
    {
      "cell_type": "markdown",
      "source": [
        "```\n",
        "# Пример 1:\n",
        "# Входные данные\n",
        "Вектор A с координатами (3, 0)\n",
        "Вектор B с координатами (0, 4)\n",
        "\n",
        "# Выходные данные\n",
        "Угол между векторами: 90.0 градусов\n",
        "\n",
        "# Пример 2:\n",
        "# Входные данные\n",
        "Вектор A с координатами (5, 5)\n",
        "Вектор B с координатами (5, 5)\n",
        "\n",
        "# Выходные данные\n",
        "Угол между векторами: 0.0 градусов\n",
        "\n",
        "# Пример 3:\n",
        "# Входные данные\n",
        "Вектор A с координатами (-3, 2)\n",
        "Вектор B с координатами (3, -2)\n",
        "\n",
        "# Выходные данные\n",
        "Угол между векторами: 180.0 градусов (поскольку векторы коллинеарны и направлены в противоположные стороны)\n",
        "\n",
        "# Пример 4:\n",
        "# Входные данные\n",
        "Вектор A с координатами (2, 3)\n",
        "Вектор B с координатами (4, -1)\n",
        "\n",
        "# Выходные данные\n",
        "Угол между векторами: приблизительно 90.3048 градусов\n",
        "```"
      ],
      "metadata": {
        "id": "zzvx_2hE3APe"
      }
    },
    {
      "cell_type": "markdown",
      "source": [
        "### Задание 8: Расчет координат точки на окружности\n",
        "\n",
        "Дана окружность с центром в точке $O(0, 0)$ и радиусом $R$, и угол $\\theta$ в градусах, отсчитываемый от положительного направления оси X. Написать программу на Python для расчета координат точки $P(x, y)$, находящейся на этой окружности.\n",
        "\n",
        "**Формула**: Координаты точки $P$ можно вычислить следующим образом:\n",
        "$x = R \\cdot \\cos(\\theta_{рад})$,\n",
        "$y = R \\cdot \\sin(\\theta_{рад})$,\n",
        "где $\\theta_{рад}$ - угол в радианах, который можно вычислить, используя функцию перевода из градусов в радианы, что была упомянута в теории."
      ],
      "metadata": {
        "id": "OyehGOeQfO1h"
      }
    },
    {
      "cell_type": "code",
      "source": [
        "# Ваш код"
      ],
      "metadata": {
        "id": "mqM7J6bvtHTD"
      },
      "execution_count": null,
      "outputs": []
    },
    {
      "cell_type": "markdown",
      "source": [
        "\n",
        "\n",
        "```\n",
        "# Пример входных-выходных данных\n",
        "\n",
        "# Пример 1\n",
        "# Входные данные:\n",
        "Радиус R = 5\n",
        "Угол theta = 45 градусов\n",
        "\n",
        "# Выходные данные:\n",
        "Координаты точки P: (3.5355339059327378, 3.5355339059327378)\n",
        "\n",
        "# Пример 2\n",
        "# Входные данные:\n",
        "Радиус R = 10\n",
        "Угол theta = 90 градусов\n",
        "\n",
        "# Выходные данные:\n",
        "Координаты точки P: (0.0, 10.0)\n",
        "\n",
        "# Пример 3\n",
        "# Входные данные:\n",
        "Радиус R = 1\n",
        "Угол theta = 0 градусов\n",
        "\n",
        "# Выходные данные:\n",
        "Координаты точки P: (1.0, 0.0)\n",
        "\n",
        "```\n",
        "\n"
      ],
      "metadata": {
        "id": "vf0bV5gp6srb"
      }
    },
    {
      "cell_type": "markdown",
      "source": [
        "### Задание 9: Вычисление вероятности ошибки в теории вероятностей\n",
        "\n",
        "В теории вероятностей функция ошибок `erf(x)` часто используется для вычисления вероятностей, связанных с нормально распределенными случайными переменными. Напишите программу на Python, которая использует `math.erf(x)` для вычисления вероятности того, что случайная величина $Z$, следующая стандартному нормальному распределению, окажется в интервале от $-x$ до $x$.\n",
        "\n",
        "**Формула**:\n",
        "$P(-x \\leq Z \\leq x) = \\frac{1}{2} \\left[ \\text{erf}\\left(\\frac{x}{\\sqrt{2}}\\right) - \\text{erf}\\left(\\frac{-x}{\\sqrt{2}}\\right) \\right]$"
      ],
      "metadata": {
        "id": "7nd3IQvSlWfi"
      }
    },
    {
      "cell_type": "code",
      "source": [
        "# Ваш код"
      ],
      "metadata": {
        "id": "dYOYeIU_tKLs"
      },
      "execution_count": null,
      "outputs": []
    },
    {
      "cell_type": "markdown",
      "source": [
        "\n",
        "\n",
        "```\n",
        "# Примеры входных и выходных данных\n",
        "\n",
        "# Входные данные: x = 1\n",
        "# Выходные данные: вероятность = 0.6826894921370859\n",
        "\n",
        "# Входные данные: x = 2\n",
        "# Выходные данные: вероятность = 0.9544997361036416\n",
        "\n",
        "# Входные данные: x = 0\n",
        "# Выходные данные: вероятность = 0.0\n",
        "```\n",
        "\n"
      ],
      "metadata": {
        "id": "g3zmjvBj7eky"
      }
    },
    {
      "cell_type": "markdown",
      "source": [
        "### Задание 10. Практическое применение: расчет объемов n-мерных сфер\n",
        "\n",
        "Гамма-функция находит применение в формуле для расчета объема n-мерной сферы радиуса R: $V_n(R) = \\frac{\\pi^{n/2} R^n}{\\Gamma(\\frac{n}{2} + 1)}$. Напишите функцию на Python, которая принимает в качестве параметров размерность пространства `n` и радиус `R`, а затем вычисляет и возвращает объем n-мерной сферы, используя гамма-функцию."
      ],
      "metadata": {
        "id": "H3oPpRd5j0Z2"
      }
    },
    {
      "cell_type": "code",
      "source": [
        "# Ваш код"
      ],
      "metadata": {
        "id": "5pPM-uJitV9-"
      },
      "execution_count": null,
      "outputs": []
    },
    {
      "cell_type": "markdown",
      "source": [
        "```\n",
        "# Примеры входных и выходных данных\n",
        "# Пример 1\n",
        "# Входные данные:\n",
        "n1 = 2\n",
        "R1 = 1\n",
        "# Выходные данные:\n",
        "Объем 2-мерной сферы радиуса 1: 3.141592653589793\n",
        "\n",
        "# Пример 2\n",
        "# Входные данные:\n",
        "n2 = 3\n",
        "R2 = 1\n",
        "# Выходные данные:\n",
        "Объем 3-мерной сферы радиуса 1: 4.1887902047863905\n",
        "\n",
        "# Пример 3\n",
        "# Входные данные:\n",
        "n3 = 10\n",
        "R3 = 2\n",
        "# Выходные данные:\n",
        "Объем 10-мерной сферы радиуса 2: 2611.3679768344014\n",
        "\n",
        "```"
      ],
      "metadata": {
        "id": "E0_SrXl-9HuZ"
      }
    },
    {
      "cell_type": "markdown",
      "source": [
        "### **Комплексное задание: Анализ функций и их применение**\n",
        "\n",
        "**Цель задания:** Применить различные математические функции из модуля `math` в Python, включая округление и сравнение, экспоненциальные и логарифмические функции, а также тригонометрические функции и их обратные аналоги.\n",
        "\n",
        "**Задача:** Вы разрабатываете программу для анализа погодных условий на различных планетах. Программа должна учитывать угол падения солнечных лучей, интенсивность солнечного света и атмосферное давление, чтобы рассчитать эффективную температуру на поверхности планеты в определенный момент времени.\n",
        "\n",
        "1. **Исходные данные:**\n",
        "    - Угол падения солнечных лучей к поверхности (в градусах) (a).\n",
        "    - Интенсивность солнечного света (в ваттах на квадратный метр) \\( I \\).\n",
        "    - Атмосферное давление на уровне моря (в паскалях) \\( P \\).\n",
        "\n",
        "2. **Расчеты:**\n",
        "\n",
        "    a. Используйте тригонометрические функции (`math.sin`, `math.cos`) для расчета эффективного угла падения солнечных лучей в радианах:\n",
        "    \n",
        "      ![image.png](data:image/png;base64,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)\n",
        "      \n",
        "      ![image.png](data:image/png;base64,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)\n",
        "\n",
        "    b. Примените экспоненциальную функцию (`math.exp`) для оценки влияния атмосферного давления на распространение солнечного света:\n",
        "\n",
        "      ![image.png](data:image/png;base64,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)\n",
        "\n",
        "    c. Вычислите интенсивность солнечного света на поверхности, учитывая атмосферное давление и угол падения. Используйте логарифмическую функцию (`math.log`) для моделирования затухания света в атмосфере:\n",
        "\n",
        "      ![image.png](data:image/png;base64,iVBORw0KGgoAAAANSUhEUgAAAPUAAAATCAYAAABIrEv6AAAMP2lDQ1BJQ0MgUHJvZmlsZQAASImVVwdYU8kWnluSkEBoAQSkhN4EASkBpITQQu8INkISIJQYE4KKHV1UcO1iARu6KqJgBcSO2FkEe18sKCjrYsGuvEkBXfeV7833zZ3//nPmP2fOnbn3DgAaJzkiUR6qCUC+sEAcHxpIH5OaRid1AxSQgRZQBSYcrkTEjI2NBLAMtn8v724ARNZedZRp/bP/vxYtHl/CBQCJhTiDJ+HmQ3wQALySKxIXAECU8RZTCkQyDCvQEcMAIV4ow1kKXCnDGQq8V26TGM+CuAUAFTUOR5wFgHo75OmF3Cyood4HsbOQJxACoEGH2C8/fxIP4nSIbaGNCGKZPiPjB52sv2lmDGlyOFlDWDEXeVEJEkhEeZxp/2c6/nfJz5MO+rCGVS1bHBYvmzPM263cSREyrAZxrzAjOgZibYg/CHhye4hRSrY0LElhjxpxJSyYM6AHsTOPExQBsRHEIcK86Egln5EpCGFDDFcIOlVQwE6EWB/ihXxJcILSZrN4UrzSF1qfKWYxlfx5jljuV+brgTQ3ianUf53NZyv1MfWi7MQUiCkQWxYKkqMhVofYSZKbEKG0GV2UzYoetBFL42XxW0IczxeGBir0scJMcUi80r40XzI4X2xztoAdrcT7C7ITwxT5wVq4HHn8cC5YO1/ITBrU4UvGRA7OhccPClbMHevmC5MSlDofRAWB8YqxOEWUF6u0x835eaEy3hxiN0lhgnIsnlwAF6RCH88UFcQmKuLEi3I44bGKePBlIBKwQBCgAymsGWASyAGCtt6GXnin6AkBHCAGWYAPHJXM4IgUeY8QXhNAEfgTIj6QDI0LlPfyQSHkvw6xiqsjyJT3FspH5IKnEOeDCJAH76XyUcIhb8ngCWQE//DOgZUL482DVdb/7/lB9jvDhEykkpEOeqRrDFoSg4lBxDBiCNEON8T9cB88El4DYHXFGbjX4Dy+2xOeEjoIjwjXCZ2E2xMFxeKfoowCnVA/RJmLjB9zgVtDTXc8EPeF6lAZ18MNgSPuBv0wcX/o2R2yLGXcsqzQf9L+2wx+eBpKO7IzGSUPIweQbX8eqW6v7j6kIsv1j/lRxJoxlG/WUM/P/lk/ZJ8H24ifLbGF2AHsHHYKu4AdxRoAHTuBNWKt2DEZHlpdT+Sra9BbvDyeXKgj+Ie/wScry6TEuca5x/mLoq+AP1X2jgasSaJpYkFWdgGdCb8IfDpbyHUaQXd1dnUDQPZ9Uby+3sTJvxuIXut3bt4fAPieGBgYOPKdCz8BwD5PuP0Pf+dsGfDToQrA+cNcqbhQweGyCwG+JTTgTjMAJsAC2ML5uAIP4AMCQDAIBzEgEaSCCTD6bLjOxWAKmAHmghJQBpaB1WA92AS2gp1gD9gPGsBRcAqcBZdAO7gO7sLV0wVegD7wDnxGEISEUBEaYoCYIlaIA+KKMBA/JBiJROKRVCQdyUKEiBSZgcxDypAVyHpkC1KN7EMOI6eQC0gHcht5iPQgr5FPKIaqoTqoMWqNjkQZKBONQBPR8WgWOhktQuejS9C1aBW6G61HT6GX0OtoJ/oC7ccAporpYWaYI8bAWFgMloZlYmJsFlaKlWNVWC3WBJ/zVawT68U+4kSchtNxR7iCw/AknItPxmfhi/H1+E68Hm/Br+IP8T78G4FKMCI4ELwJbMIYQhZhCqGEUE7YTjhEOAP3UhfhHZFI1CPaED3hXkwl5hCnExcTNxDriCeJHcTHxH4SiWRAciD5kmJIHFIBqYS0jrSbdIJ0hdRF+qCiqmKq4qoSopKmIlQpVilX2aVyXOWKyjOVz2RNshXZmxxD5pGnkZeSt5GbyJfJXeTPFC2KDcWXkkjJocylrKXUUs5Q7lHeqKqqmqt6qcapClTnqK5V3at6XvWh6kc1bTV7NZbaODWp2hK1HWon1W6rvaFSqdbUAGoatYC6hFpNPU19QP2gTlN3Umer89Rnq1eo16tfUX+pQdaw0mBqTNAo0ijXOKBxWaNXk6xprcnS5GjO0qzQPKx5U7Nfi6blohWjla+1WGuX1gWtbm2StrV2sDZPe772Vu3T2o9pGM2CxqJxafNo22hnaF06RB0bHbZOjk6Zzh6dNp0+XW1dN91k3am6FbrHdDv1MD1rPbZent5Svf16N/Q+DTMexhzGH7ZoWO2wK8Pe6w/XD9Dn65fq1+lf1/9kQDcINsg1WG7QYHDfEDe0N4wznGK40fCMYe9wneE+w7nDS4fvH37HCDWyN4o3mm601ajVqN/YxDjUWGS8zvi0ca+JnkmASY7JKpPjJj2mNFM/U4HpKtMTps/punQmPY++lt5C7zMzMgszk5ptMWsz+2xuY55kXmxeZ37fgmLBsMi0WGXRbNFnaWoZZTnDssbyjhXZimGVbbXG6pzVe2sb6xTrBdYN1t02+jZsmyKbGpt7tlRbf9vJtlW21+yIdgy7XLsNdu32qL27fbZ9hf1lB9TBw0HgsMGhYwRhhNcI4YiqETcd1RyZjoWONY4PnfScIp2KnRqcXo60HJk2cvnIcyO/Obs75zlvc77rou0S7lLs0uTy2tXeleta4XptFHVUyKjZoxpHvXJzcOO7bXS75U5zj3Jf4N7s/tXD00PsUevR42npme5Z6XmTocOIZSxmnPcieAV6zfY66vXR28O7wHu/918+jj65Prt8ukfbjOaP3jb6sa+5L8d3i2+nH90v3W+zX6e/mT/Hv8r/UYBFAC9ge8Azph0zh7mb+TLQOVAceCjwPcubNZN1MggLCg0qDWoL1g5OCl4f/CDEPCQrpCakL9Q9dHroyTBCWETY8rCbbGM2l13N7gv3DJ8Z3hKhFpEQsT7iUaR9pDiyKQqNCo9aGXUv2ipaGN0QA2LYMStj7sfaxE6OPRJHjIuNq4h7Gu8SPyP+XAItYWLCroR3iYGJSxPvJtkmSZOakzWSxyVXJ79PCUpZkdI5ZuSYmWMupRqmClIb00hpyWnb0/rHBo9dPbZrnPu4knE3xtuMnzr+wgTDCXkTjk3UmMiZeCCdkJ6Sviv9CyeGU8Xpz2BnVGb0cVncNdwXvADeKl4P35e/gv8s0zdzRWZ3lm/WyqyebP/s8uxeAUuwXvAqJyxnU8773JjcHbkDeSl5dfkq+en5h4XawlxhyySTSVMndYgcRCWizsnek1dP7hNHiLdLEMl4SWOBDvyRb5XaSn+RPiz0K6wo/DAlecqBqVpThVNbp9lPWzTtWVFI0W/T8enc6c0zzGbMnfFwJnPmllnIrIxZzbMtZs+f3TUndM7OuZS5uXN/L3YuXlH8dl7KvKb5xvPnzH/8S+gvNSXqJeKSmwt8FmxaiC8ULGxbNGrRukXfSnmlF8ucy8rLvizmLr74q8uva38dWJK5pG2px9KNy4jLhMtuLPdfvnOF1oqiFY9XRq2sX0VfVbrq7eqJqy+Uu5VvWkNZI13TuTZybeM6y3XL1n1Zn73+ekVgRV2lUeWiyvcbeBuubAzYWLvJeFPZpk+bBZtvbQndUl9lXVW+lbi1cOvTbcnbzv3G+K16u+H2su1fdwh3dO6M39lS7Vldvcto19IatEZa07N73O72PUF7Gmsda7fU6dWV7QV7pXuf70vfd2N/xP7mA4wDtQetDlYeoh0qrUfqp9X3NWQ3dDamNnYcDj/c3OTTdOiI05EdR82OVhzTPbb0OOX4/OMDJ4pO9J8Unew9lXXqcfPE5runx5y+1hLX0nYm4sz5syFnT59jnjtx3vf80QveFw5fZFxsuORxqb7VvfXQ7+6/H2rzaKu/7Hm5sd2rvaljdMfxK/5XTl0Nunr2GvvapevR1ztuJN24dXPczc5bvFvdt/Nuv7pTeOfz3Tn3CPdK72veL39g9KDqD7s/6jo9Oo89DHrY+ijh0d3H3McvnkiefOma/5T6tPyZ6bPqbtfuoz0hPe3Pxz7veiF68bm35E+tPytf2r48+FfAX619Y/q6XolfDbxe/MbgzY63bm+b+2P7H7zLf/f5fekHgw87PzI+nvuU8unZ5ylfSF/WfrX72vQt4tu9gfyBARFHzJH/CmCwopmZALzeAQA1FQAaPJ9RxirOf/KCKM6scgT+E1acEeXFA4Ba+P8e1wv/bm4CsHcbPH5BfY1xAMRSAUj0AuioUUN18KwmP1fKChGeAzaHfs3IzwD/pijOnD/E/XMLZKpu4Of2X7/4fEh7J+4FAAAAOGVYSWZNTQAqAAAACAABh2kABAAAAAEAAAAaAAAAAAACoAIABAAAAAEAAAD1oAMABAAAAAEAAAATAAAAAG36WXIAAAejSURBVHgB7ZmLTSw7DIaHo1sAogREBYgSEBUgSkBUgCgBUQGiBEQFiBIQFSBKQHSw11/IP8cZkuyE3dnHgUhLMo7j+G3P0HW/45/XwPv7++z6+no2VtAW3LE0V4XXKuuq+Jrqnrm2QiGXl5ez/f19HGB2fn4+u7+/H+0MUzG+KXS3VT+np6dFG2Lf29vbYPfX19eAh5zYfll6f35+nh0fH0NvpjuWRXtIpybr0Ld5Rk544wefQ3qb/jzaVhJy0wVaF3+r0g/BFhPst0Ulkz8+PmadVcEMcYINuXSRgl3PS5onDeqarOIfGXOBH4vXpPyJh9YZ+x0eHhaTzlhbNbVrrUz+A/gr0Q/GzDlgi/5whhw+QZxJGAlu6WyO3kjYpEEzkt/QmQz5peIZLLs3xP3Oc6TfdBQbkahiB6E5S6Mq+xgCWao/BLhN+qllcCqWfx+TU3sz0p7GCubBi6wnC+qarGK4ZjvtLVleXd3RFZU6ph6pvqgGddVW0dBJxq7f9bN2t0k/BG7uHVYB7KtHxEvsvoxOYeAdWX4GOKMePe8cKMnqiRFY9pzIqH3erXd3d2dDutpfdJ46qL2t/hsy+/T0hII65t/xVQPL1g/G3tvbCxeZQ3UPDw/ofofKcXV1FexgAdcdHBx8gcELZ626dOaU3cnJyY7n2GiEcx7G+u7urrN2jbM9PrSsHe/e3t56dOjh6D1gggWVkTvtnu7j4yPwNZSDKuR1xBp+gd/c3AQZSrJ6ljmT820C4uzsLND0OvFnN33tbfUlqFGOnGnTBanxR+YlSMYMnFnOMQ9/mfoxWrS33cXFRR9ceoc+OjoSrA8qYFQSnJrgNzvJofnI9YV18AiU4SCoGQSF9hToPqjZy53XmUXn+L6Y6B67keikE/EoWdEPclkQSj+BjZKsnkeC2nQYWmHgkg04chuNhKY/uw1ryZPwqhYMZ0s2lvCAM2IgjDbVe8sS2KySaNUP+HyMKukTPfCBI9INd2dwk/3IYPJ+hm4NnrSO0Kx8PEnOQxM+Y3sar/ic5rWk82RMiLl/aeV4Bjfqovc/+PL+QiIYyjVH1sCC6C7yXsvd8MKs5EPbP5Ax+zh1+82lslVSqclYDFclwvMy/pgiQntHm7Oto1U/ZE5z3vDLyUy1ofJYax0MQrWlDR0z6C40YoVJnCubte0Azs19VCwNwVQdBWemAtbGPBlLZ6XLYXXkNcPOhKRDS8lrgu8e0Ceyv7y89KRLsvYIttB9w9be49TWFCR44TwJCR6suwmvRF6X0Mh1ieqO1InpLuiM7RJ1pjRnbcWFwyxYItAKR9BFsmTrfVPgT6UfgooKEA2eVFyTI1upY+XxYibnouMlgQ4yNiCj+4PqoDxM6yGu4N+ce1li9U34cDR7X4Ffc/xwDpnxT2RzuCTN3L/nPEq3qO04ry6K+1rjZFWVGqG/VGoLviQLokiyHFnAhAofGliDx7s31Qan4B3PMuoORrCM31GZwQeXCgQuOBiTM7QwZClom8L6jzwoznD6jzbKYpwzZfaGylWVftMWuWzp9/16bLaE16F+PJ3WNYZGN7E6hePwrarSSs/jm96zH7mQFZuousWACNVQ1cTTmWpN1WNwP7zqHuxP5VP1oyLjVzaTjPDNHfj3oySrx4EOfsZcGzk/w6fxX/wSm6EnugfWdJ6e/xrtle/FzN9nSDFAwKJonjEAArLG+VAAa4bP6GQ1ghZ8nQVfZ8En+zIzdDY6WA8nG8IXNPy7C/TB/Ty9mr8l/SxyO06BXjwNr+8I76ubw0tgURcJDNxcVQPudY8uvV3Y10Bmr3fBF5gTHpGVn6eHPvAdwTL60FYyl2QFSbbz/pocjg81P0NP8mX0zX05GiUYti7puXRmAK+e97b6A4MojurKIAt54clEVBOMS6Ya+04SK8KOZdw+C3smyb7cjaLIvKy5m7s0yMpUMe4lS6MUKcbOCW3SeZ5+Fr0cPWFwdM4cq1R4V1PAUyXQEz8PQxfA2GcwSz88Y7tc1bd7wp0Ej9Er2lRdFLQWGTm+oUcXhvzwgez4IfY3OXqfgb9YtQmi8OqAL3o5oVWS1fs2foSewc+NdfpZjh/5HgmFfexbSnJNtoIwP5SBMlE+F+BcXkGqtuz5rMYzA3xvCHCgBW0qhwSA6c8Tf/9y1mfvvzu/q5oGyN5yiBpeaQ97Y5fS/tRw7oaHWGlD4meN3+FvgsPHorJCo+Zn3qfhaw2VGhaLw9vqTxErblgwhZVlwlAx9U5ChtXwwSpYbtZ7HMFMdea9mPcRU1JAB+YrC8rDWKbsBA7MGzR31y+sC+/q8et0c2CiX7oj7LMuXdK5WTD13xzghc4NX6QyyxfhD/h3ZZV8LX4mX9bZeTP86jvBPNzW/WZbUSH5kR2ZFUzMZDYCOgZ1qLy0WlRe9oQLjMxGtgNGsLKGpugKn2eqNbO6AoQswVsV8NPwZadWubEHdmo9t0x8/IYKlKOJP8m/tP9dWXWeOedn3qfBwT/pFLx/Al/XGNpqbVl4XQr4ifeSdKksVLgx8uOsercfgz8lDgFlgRb+G6J7+PJsjtxXcMGZW2X1Z7dxvUm22kb9bTXPw6pWE6YFt0ZnXXvbzn+L3nKy/g+4olrII0PPHwAAAABJRU5ErkJggg==)"
      ],
      "metadata": {
        "id": "Gpta9ZTenjdY"
      }
    },
    {
      "cell_type": "markdown",
      "source": [
        "3. **Округление и сравнение:**\n",
        "    - Округлите конечный результат до двух знаков после запятой с использованием `round`.\n",
        "    - Сравните полученную температуру с температурой замерзания воды (0 градусов Цельсия), используя соответствующие сравнения, и определите, существует ли на планете вода в жидком состоянии.\n",
        "\n",
        "4. **Вывод:**\n",
        "    - На основе проведенных расчетов программа должна выводить эффективную температуру на поверхности планеты и делать вывод о наличии жидкой воды.\n",
        "\n",
        "**Ход работы:**\n",
        "\n",
        "- Напишите функцию `calculate_temperature(angle, intensity, pressure)`, которая принимает угол падения солнечных лучей, интенсивность солнечного света и атмосферное давление в качестве аргументов.\n",
        "- Внутри функции проведите необходимые расчеты и верните округленную эффективную температуру на поверхности планеты."
      ],
      "metadata": {
        "id": "3irprKAxxcCS"
      }
    },
    {
      "cell_type": "code",
      "source": [
        "# Ваш код"
      ],
      "metadata": {
        "id": "rGLRw1Pazivl"
      },
      "execution_count": null,
      "outputs": []
    },
    {
      "cell_type": "markdown",
      "source": [
        "\n",
        "\n",
        "```\n",
        "# Пример №1\n",
        "#Входные данные:\n",
        "Угол: 45\n",
        "Интенсивность: 1361\n",
        "Давление: 101325\n",
        "\n",
        "#Выходные данные:\n",
        "Эффективная температура на поверхности: 301.47°C. На планете может существовать вода в жидком состоянии.\n",
        "\n",
        "# Пример №2\n",
        "#Входные данные:\n",
        "Угол: 187\n",
        "Интенсивность: 6500\n",
        "Давление: 101325\n",
        "\n",
        "#Выходные данные:\n",
        "Эффективная температура на поверхности: -248.15°C. Жидкой воды на планете не существует.\n",
        "\n",
        "# Пример №3\n",
        "#Входные данные:\n",
        "Угол: 210\n",
        "Интенсивность: 24000\n",
        "Давление: 101325\n",
        "\n",
        "#Выходные данные:\n",
        "Эффективная температура на поверхности: -3759.14°C. Жидкой воды на планете не существует.\n",
        "```\n",
        "\n"
      ],
      "metadata": {
        "id": "5JGzg3RS_8TV"
      }
    },
    {
      "cell_type": "markdown",
      "source": [
        "# Дополнительно:"
      ],
      "metadata": {
        "id": "nLwGZB0cl6Px"
      }
    },
    {
      "cell_type": "markdown",
      "source": [
        "### Комплексное задание: Анализ и обработка числовой последовательности\n",
        "\n",
        "#### Цель:\n",
        "Разработка программы для анализа и обработки заданной числовой последовательности с использованием представленных математических функций.\n",
        "\n",
        "#### Задачи:\n",
        "1. **Подготовка данных:**\n",
        "   - Получить последовательность чисел от пользователя или сгенерировать случайную последовательность вещественных чисел.\n",
        "\n",
        "2. **Обработка данных:**\n",
        "   - Используя функцию `modf`, разделить каждое число на дробную и целую части.\n",
        "   - Для каждой дробной части применить округление вверх (`ceil`) и вниз (`floor`), сравнивать результаты и записывать в отдельные списки.\n",
        "   - Для каждой целой части вычислить абсолютное значение с помощью `fabs` и затем использовать `copysign`, чтобы присвоить знак следующего числа в последовательности. Если такового нет, использовать знак предыдущего.\n",
        "\n",
        "3. **Анализ данных:**\n",
        "   - Вычислить НОД (`gcd`) для пар целых частей, начиная с первого элемента.\n",
        "   - Для каждого числа использовать `fmod`, чтобы найти остаток от деления на следующее число в последовательности. Если следующего числа нет, использовать первое.\n",
        "   - Проверить, есть ли в последовательности бесконечные (`isinf`) или нечисловые значения (`isnan`), и исключить их из дальнейшего анализа.\n",
        "   - Использовать `isclose` для сравнения каждого числа с последующим, учитывая приближённое равенство. Зафиксировать пары чисел, которые удовлетворяют этому условию.\n",
        "\n",
        "4. **Дополнительная обработка:**\n",
        "   - Для каждого числа в последовательности использовать `ldexp`, чтобы умножить его дробную часть на 2 в степени, равной его порядковому номеру в последовательности (начиная с 0).\n",
        "   - Проверить каждое число на конечность (`isfinite`) и записать в новый список только конечные числа.\n",
        "\n",
        "5. **Вывод результатов:**\n",
        "   - Вывести исходную последовательность.\n",
        "   - Вывести отдельные списки, полученные в результате обработки данных.\n",
        "   - Вывести анализ данных, включая пары чисел, удовлетворяющих условию приближённого равенства, и список конечных чисел.\n",
        "   - Вывести результаты дополнительной обработки.\n",
        "\n",
        "#### Технические требования:\n",
        "- Программа должна быть написана на Python.\n",
        "- Использовать модуль `math` для математических функций.\n",
        "- Предусмотреть обработку исключений для нечисловых входных данных.\n",
        "- Предусмотреть интерактивный ввод последовательности чисел или возможность генерации случайной последовательности."
      ],
      "metadata": {
        "id": "tok0rhVPbOjb"
      }
    }
  ]
}