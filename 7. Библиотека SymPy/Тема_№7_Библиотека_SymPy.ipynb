{
  "nbformat": 4,
  "nbformat_minor": 0,
  "metadata": {
    "colab": {
      "provenance": [],
      "authorship_tag": "ABX9TyN3dGFv/jucatJtkHFpeIR6",
      "include_colab_link": true
    },
    "kernelspec": {
      "name": "python3",
      "display_name": "Python 3"
    },
    "language_info": {
      "name": "python"
    }
  },
  "cells": [
    {
      "cell_type": "markdown",
      "metadata": {
        "id": "view-in-github",
        "colab_type": "text"
      },
      "source": [
        "<a href=\"https://colab.research.google.com/github/Alexandre77777/computer_math/blob/main/7.%20%D0%91%D0%B8%D0%B1%D0%BB%D0%B8%D0%BE%D1%82%D0%B5%D0%BA%D0%B0%20SymPy/%D0%A2%D0%B5%D0%BC%D0%B0_%E2%84%967_%D0%91%D0%B8%D0%B1%D0%BB%D0%B8%D0%BE%D1%82%D0%B5%D0%BA%D0%B0_SymPy.ipynb\" target=\"_parent\"><img src=\"https://colab.research.google.com/assets/colab-badge.svg\" alt=\"Open In Colab\"/></a>"
      ]
    },
    {
      "cell_type": "markdown",
      "source": [
        "# Библиотека SymPy"
      ],
      "metadata": {
        "id": "kqDMh1hWVkDY"
      }
    },
    {
      "cell_type": "markdown",
      "source": [
        "SymPy — это бесплатная библиотека для символьных вычислений на языке Python. В символьных вычислениях компьютер работает с уравнениями и выражениями как с последовательностью символов, тогда как в численных оперирует приближёнными числовыми значениями."
      ],
      "metadata": {
        "id": "ndMUQycVVsuS"
      }
    },
    {
      "cell_type": "markdown",
      "source": [
        "**Основные особенности:**"
      ],
      "metadata": {
        "id": "VeTDAJKpV0P3"
      }
    },
    {
      "cell_type": "markdown",
      "source": [
        "- Работа с символьными вычислениями. Как уже было сказано выше, SymPy работает с математическими выражениями и формулами как с последовательностью символов, а не чисел. Это повышает точность математических операций и позволяет сформулировать результаты вычислений в аналитическом виде (с помощью формул, системы выражений и так далее).\n",
        "\n",
        "- Поддержка различных разделов математики: геометрии, тригонометрии, логики и других. В SymPy есть функции для алгебраического упрощения выражений, решения уравнений, дифференцирования, интегрирования, манипуляции с полиномами и матрицами и многое другое.\n",
        "\n",
        "- Лёгкая интеграция с другими библиотеками Python, такими как NumPy и Matplotlib. Вы можете комбинировать символьные вычисления с численными и визуализировать их без предварительной настройки."
      ],
      "metadata": {
        "id": "vIwooGnWVw9I"
      }
    },
    {
      "cell_type": "markdown",
      "source": [
        "## 1. Основные функции SymPy:\n"
      ],
      "metadata": {
        "id": "PCG85QleV-Zi"
      }
    },
    {
      "cell_type": "markdown",
      "source": [
        "### 1.1. Создание символьных переменных и выражений"
      ],
      "metadata": {
        "id": "2SvYD1z3WBXR"
      }
    },
    {
      "cell_type": "markdown",
      "source": [
        "- **Символьные переменные** создаются с помощью функции symbols():"
      ],
      "metadata": {
        "id": "Gn7WJI6cWOIh"
      }
    },
    {
      "cell_type": "code",
      "execution_count": null,
      "metadata": {
        "id": "7ooUbAF5VdAL"
      },
      "outputs": [],
      "source": [
        "from sympy import symbols\n",
        "# Создаём символьные переменные x, y, z\n",
        "x, y, z = symbols('x y z')"
      ]
    },
    {
      "cell_type": "markdown",
      "source": [
        "> Аргумент функции — строка с символами, которые станут именами переменных в выражении. В нашем примере x, y, z — это символьные переменные. Обратите внимание: их имена задаются одной строкой через пробел."
      ],
      "metadata": {
        "id": "VdKRz0IBWFhr"
      }
    },
    {
      "cell_type": "code",
      "source": [
        "# Вывод символьных переменных:\n",
        "\n",
        "display(x, y, z)"
      ],
      "metadata": {
        "colab": {
          "base_uri": "https://localhost:8080/",
          "height": 82
        },
        "id": "9CIIOx19bGHX",
        "outputId": "855a5d86-262a-4c0a-920d-3d5a0fd21969"
      },
      "execution_count": null,
      "outputs": [
        {
          "output_type": "display_data",
          "data": {
            "text/plain": [
              "x"
            ],
            "text/latex": "$\\displaystyle x$"
          },
          "metadata": {}
        },
        {
          "output_type": "display_data",
          "data": {
            "text/plain": [
              "y"
            ],
            "text/latex": "$\\displaystyle y$"
          },
          "metadata": {}
        },
        {
          "output_type": "display_data",
          "data": {
            "text/plain": [
              "z"
            ],
            "text/latex": "$\\displaystyle z$"
          },
          "metadata": {}
        }
      ]
    },
    {
      "cell_type": "code",
      "source": [
        "x"
      ],
      "metadata": {
        "colab": {
          "base_uri": "https://localhost:8080/",
          "height": 39
        },
        "id": "-yFFFykTfgiD",
        "outputId": "3d850b10-9b83-44a6-a456-35e0c3b2379b"
      },
      "execution_count": null,
      "outputs": [
        {
          "output_type": "execute_result",
          "data": {
            "text/plain": [
              "x"
            ],
            "text/latex": "$\\displaystyle x$"
          },
          "metadata": {},
          "execution_count": 3
        }
      ]
    },
    {
      "cell_type": "markdown",
      "source": [
        "- **Символьные выражения** создаются путём комбинирования символьных переменных и арифметических операций:"
      ],
      "metadata": {
        "id": "Q4M6kXOnWGF2"
      }
    },
    {
      "cell_type": "code",
      "source": [
        "from sympy import symbols\n",
        "\n",
        "# Определение символьных переменных\n",
        "x, y, z = symbols('x y z')\n",
        "\n",
        "# Создание символьного выражения\n",
        "expr = x**2 + 2 * y - z"
      ],
      "metadata": {
        "id": "bogR2o9NWGOx"
      },
      "execution_count": null,
      "outputs": []
    },
    {
      "cell_type": "markdown",
      "source": [
        "Этот код создаёт символьные переменные x, y, z и содержащее их символьное выражение expr. Теперь expr можно упрощать, дифференцировать, интегрировать и далее по списку."
      ],
      "metadata": {
        "id": "GWo0bDE9WjBw"
      }
    },
    {
      "cell_type": "code",
      "source": [
        "# Отображение символьного выражения:\n",
        "\n",
        "expr"
      ],
      "metadata": {
        "colab": {
          "base_uri": "https://localhost:8080/",
          "height": 39
        },
        "id": "tbaPqa85bmCY",
        "outputId": "54e9eb27-f002-4d16-eefd-299d61316c95"
      },
      "execution_count": null,
      "outputs": [
        {
          "output_type": "execute_result",
          "data": {
            "text/plain": [
              "x**2 + 2*y - z"
            ],
            "text/latex": "$\\displaystyle x^{2} + 2 y - z$"
          },
          "metadata": {},
          "execution_count": 21
        }
      ]
    },
    {
      "cell_type": "code",
      "source": [
        "display(expr)"
      ],
      "metadata": {
        "colab": {
          "base_uri": "https://localhost:8080/",
          "height": 39
        },
        "id": "9Mc4qEvggVDd",
        "outputId": "75ce22a6-b94f-42f9-fb44-7fd19a1f56f5"
      },
      "execution_count": null,
      "outputs": [
        {
          "output_type": "display_data",
          "data": {
            "text/plain": [
              "x**2 + 2*y - z"
            ],
            "text/latex": "$\\displaystyle x^{2} + 2 y - z$"
          },
          "metadata": {}
        }
      ]
    },
    {
      "cell_type": "code",
      "source": [
        "print(expr)"
      ],
      "metadata": {
        "colab": {
          "base_uri": "https://localhost:8080/"
        },
        "id": "hiKQ5dNNgKwC",
        "outputId": "888c0f4c-111c-4bf2-ea38-a531f6598b09"
      },
      "execution_count": null,
      "outputs": [
        {
          "output_type": "stream",
          "name": "stdout",
          "text": [
            "x**2 + 2*y - z\n"
          ]
        }
      ]
    },
    {
      "cell_type": "markdown",
      "source": [
        "### 1.2. Арифметические операции"
      ],
      "metadata": {
        "id": "-vHhPq3CWGXS"
      }
    },
    {
      "cell_type": "markdown",
      "source": [
        "Библиотека SymPy поддерживает основные арифметические операции с символьными выражениями:"
      ],
      "metadata": {
        "id": "ep0TZZcdb7ZG"
      }
    },
    {
      "cell_type": "code",
      "source": [
        "from sympy import symbols\n",
        "from IPython.display import display, Math\n",
        "\n",
        "\n",
        "x, y, z = symbols('x y z')"
      ],
      "metadata": {
        "id": "52WgAGOkWGfK"
      },
      "execution_count": null,
      "outputs": []
    },
    {
      "cell_type": "code",
      "source": [
        "# Сложение\n",
        "expr_sum = x + y + z\n",
        "display(expr_sum)"
      ],
      "metadata": {
        "colab": {
          "base_uri": "https://localhost:8080/",
          "height": 39
        },
        "id": "cdl7JjiPcL9I",
        "outputId": "cb847706-e218-48a8-995c-3a1821cbff42"
      },
      "execution_count": null,
      "outputs": [
        {
          "output_type": "display_data",
          "data": {
            "text/plain": [
              "x + y + z"
            ],
            "text/latex": "$\\displaystyle x + y + z$"
          },
          "metadata": {}
        }
      ]
    },
    {
      "cell_type": "code",
      "source": [
        "# Вычитание\n",
        "expr_diff = x - y\n",
        "display(expr_diff)"
      ],
      "metadata": {
        "colab": {
          "base_uri": "https://localhost:8080/",
          "height": 39
        },
        "id": "--qXjkTWcB9R",
        "outputId": "7dc8118a-e987-4df1-b0ad-a300f703b141"
      },
      "execution_count": null,
      "outputs": [
        {
          "output_type": "display_data",
          "data": {
            "text/plain": [
              "x - y"
            ],
            "text/latex": "$\\displaystyle x - y$"
          },
          "metadata": {}
        }
      ]
    },
    {
      "cell_type": "code",
      "source": [
        "# Умножение\n",
        "expr_mul = x * y\n",
        "display(expr_mul)"
      ],
      "metadata": {
        "colab": {
          "base_uri": "https://localhost:8080/",
          "height": 39
        },
        "id": "WpvZxau7cCgL",
        "outputId": "993bf99f-43d5-4ab1-824c-68cb77e5c0c2"
      },
      "execution_count": null,
      "outputs": [
        {
          "output_type": "display_data",
          "data": {
            "text/plain": [
              "x*y"
            ],
            "text/latex": "$\\displaystyle x y$"
          },
          "metadata": {}
        }
      ]
    },
    {
      "cell_type": "code",
      "source": [
        "# Деление\n",
        "expr_div = x / y\n",
        "display(expr_div)"
      ],
      "metadata": {
        "colab": {
          "base_uri": "https://localhost:8080/",
          "height": 51
        },
        "id": "5Xf78xLTcGU1",
        "outputId": "d714ffd6-5ee2-4e45-fee4-f7dd9c82dc03"
      },
      "execution_count": null,
      "outputs": [
        {
          "output_type": "display_data",
          "data": {
            "text/plain": [
              "x/y"
            ],
            "text/latex": "$\\displaystyle \\frac{x}{y}$"
          },
          "metadata": {}
        }
      ]
    },
    {
      "cell_type": "code",
      "source": [
        "# Возведение в степень\n",
        "expr_power = x**2\n",
        "display(expr_power)"
      ],
      "metadata": {
        "colab": {
          "base_uri": "https://localhost:8080/",
          "height": 39
        },
        "id": "_mCcNswscHzD",
        "outputId": "b2c65552-129a-43a8-a78f-6d4b4040b05d"
      },
      "execution_count": null,
      "outputs": [
        {
          "output_type": "display_data",
          "data": {
            "text/plain": [
              "x**2"
            ],
            "text/latex": "$\\displaystyle x^{2}$"
          },
          "metadata": {}
        }
      ]
    },
    {
      "cell_type": "code",
      "source": [
        "# Комбинированные операции\n",
        "expr_combined = (x + y)**2 / (z - 1)\n",
        "display(expr_combined)"
      ],
      "metadata": {
        "colab": {
          "base_uri": "https://localhost:8080/",
          "height": 58
        },
        "id": "VmZfmRKgcI9V",
        "outputId": "39f9d48b-d60a-4b38-950a-2c5f98f918b5"
      },
      "execution_count": null,
      "outputs": [
        {
          "output_type": "display_data",
          "data": {
            "text/plain": [
              "(x + y)**2/(z - 1)"
            ],
            "text/latex": "$\\displaystyle \\frac{\\left(x + y\\right)^{2}}{z - 1}$"
          },
          "metadata": {}
        }
      ]
    },
    {
      "cell_type": "markdown",
      "source": [
        "### 1.3. Математические константы"
      ],
      "metadata": {
        "id": "fP4IwyxzWHol"
      }
    },
    {
      "cell_type": "markdown",
      "source": [
        "Используются в символьных выражениях для упрощения записи. Разберём несколько из них."
      ],
      "metadata": {
        "id": "zwrv2BAocWIt"
      }
    },
    {
      "cell_type": "markdown",
      "source": [
        "- **Число Пи (π)** — отношение длины окружности к её диаметру:\n",
        "\n"
      ],
      "metadata": {
        "id": "-GlHNJYRXo7s"
      }
    },
    {
      "cell_type": "code",
      "source": [
        "from sympy import pi, symbols\n",
        "\n",
        "\n",
        "# Создание символьной переменной\n",
        "x = symbols('x')\n",
        "\n",
        "\n",
        "# Использование константы π\n",
        "expr_pi = pi * x"
      ],
      "metadata": {
        "id": "YGFsT-MzWHzh"
      },
      "execution_count": null,
      "outputs": []
    },
    {
      "cell_type": "code",
      "source": [
        "expr_pi"
      ],
      "metadata": {
        "colab": {
          "base_uri": "https://localhost:8080/",
          "height": 39
        },
        "id": "-i5g0J9McnPB",
        "outputId": "12e5c399-5a20-4b4e-a36d-445fa0acdae6"
      },
      "execution_count": null,
      "outputs": [
        {
          "output_type": "execute_result",
          "data": {
            "text/plain": [
              "pi*x"
            ],
            "text/latex": "$\\displaystyle \\pi x$"
          },
          "metadata": {},
          "execution_count": 31
        }
      ]
    },
    {
      "cell_type": "markdown",
      "source": [
        "- **Бесконечность (∞)** обозначается двумя символами — oo:\n",
        "\n"
      ],
      "metadata": {
        "id": "RUX3mXf7XpqD"
      }
    },
    {
      "cell_type": "code",
      "source": [
        "from sympy import oo, symbols\n",
        "\n",
        "\n",
        "# Создание символьной переменной\n",
        "x = symbols('x')\n",
        "\n",
        "\n",
        "# Использование бесконечности\n",
        "expr_infinity = x / oo"
      ],
      "metadata": {
        "id": "_gCfCYENXuXp"
      },
      "execution_count": null,
      "outputs": []
    },
    {
      "cell_type": "code",
      "source": [
        "expr_infinity"
      ],
      "metadata": {
        "colab": {
          "base_uri": "https://localhost:8080/",
          "height": 37
        },
        "id": "2p4s0l7_mXQt",
        "outputId": "26d6aa5f-2170-4ba5-b880-d2cdb4ccac00"
      },
      "execution_count": null,
      "outputs": [
        {
          "output_type": "execute_result",
          "data": {
            "text/plain": [
              "0"
            ],
            "text/latex": "$\\displaystyle 0$"
          },
          "metadata": {},
          "execution_count": 58
        }
      ]
    },
    {
      "cell_type": "markdown",
      "source": [
        "### 1.4. Подстановка"
      ],
      "metadata": {
        "id": "tD57fhkxXuhD"
      }
    },
    {
      "cell_type": "markdown",
      "source": [
        "- С помощью subs() можно подставлять числа в символьные переменные, чтобы получить значение выражений в конкретных точках:"
      ],
      "metadata": {
        "id": "weW9NlKAc8Uh"
      }
    },
    {
      "cell_type": "code",
      "source": [
        "from sympy import symbols\n",
        "\n",
        "\n",
        "# Создание символьных переменных\n",
        "x, y, z = symbols('x y z')"
      ],
      "metadata": {
        "colab": {
          "base_uri": "https://localhost:8080/"
        },
        "id": "Jkx3pJQZXupZ",
        "outputId": "94628dc8-ae41-4d92-ea93-748d3d7eae69"
      },
      "execution_count": null,
      "outputs": [
        {
          "output_type": "stream",
          "name": "stdout",
          "text": [
            "10\n"
          ]
        }
      ]
    },
    {
      "cell_type": "code",
      "source": [
        "# Создание символьного выражения\n",
        "expr = x + y**2 - z\n",
        "\n",
        "display(expr)"
      ],
      "metadata": {
        "colab": {
          "base_uri": "https://localhost:8080/",
          "height": 39
        },
        "id": "4p-11SuMdC3r",
        "outputId": "091eb09d-2a16-4f55-f008-5a5bbe1b8eec"
      },
      "execution_count": null,
      "outputs": [
        {
          "output_type": "display_data",
          "data": {
            "text/plain": [
              "x + y**2 - z"
            ],
            "text/latex": "$\\displaystyle x + y^{2} - z$"
          },
          "metadata": {}
        }
      ]
    },
    {
      "cell_type": "markdown",
      "source": [
        "- - В этом примере команда expr.subs({x: 2, y: 3, z: 1}) заменяет x на 2, y на 3 и z на 1 в выражении expr."
      ],
      "metadata": {
        "id": "kU_8oZdrXuxf"
      }
    },
    {
      "cell_type": "code",
      "source": [
        "# Подстановка значений\n",
        "result = expr.subs({x: 2, y: 3, z: 1})\n",
        "display(result) # 10"
      ],
      "metadata": {
        "colab": {
          "base_uri": "https://localhost:8080/",
          "height": 37
        },
        "id": "8ZwH6FdtdGYE",
        "outputId": "0f2c824a-ed8e-4165-cee0-aa217c4f2fce"
      },
      "execution_count": null,
      "outputs": [
        {
          "output_type": "display_data",
          "data": {
            "text/plain": [
              "10"
            ],
            "text/latex": "$\\displaystyle 10$"
          },
          "metadata": {}
        }
      ]
    },
    {
      "cell_type": "code",
      "source": [
        "print(result)"
      ],
      "metadata": {
        "colab": {
          "base_uri": "https://localhost:8080/"
        },
        "id": "NOtqbGaImowv",
        "outputId": "d48b8a04-d14a-4a10-bae3-3ab71f94a568"
      },
      "execution_count": null,
      "outputs": [
        {
          "output_type": "stream",
          "name": "stdout",
          "text": [
            "10\n"
          ]
        }
      ]
    },
    {
      "cell_type": "markdown",
      "source": [
        "- Функцию subs() также можно использовать для подстановки символьных выражений:"
      ],
      "metadata": {
        "id": "lNudbmjNX7u_"
      }
    },
    {
      "cell_type": "code",
      "source": [
        "from sympy import symbols, sin, pi\n",
        "\n",
        "\n",
        "x, y = symbols('x y')\n",
        "\n",
        "\n",
        "expr = x + sin(y)\n",
        "\n",
        "# Подстановка символьного выражения pi/2\n",
        "result = expr.subs({x: 2, y: pi/2})\n",
        "\n",
        "\n",
        "print(result) # 3"
      ],
      "metadata": {
        "colab": {
          "base_uri": "https://localhost:8080/"
        },
        "id": "rw1jbORXXu4_",
        "outputId": "0961d4a7-3efc-4c67-b037-93036f8a3076"
      },
      "execution_count": null,
      "outputs": [
        {
          "output_type": "stream",
          "name": "stdout",
          "text": [
            "3\n"
          ]
        }
      ]
    },
    {
      "cell_type": "markdown",
      "source": [
        "Здесь expr.subs({x: 2, y: pi/2}) заменит x на 2, y — на символьное выражение π/2.\n",
        "\n"
      ],
      "metadata": {
        "id": "EzbqRwbuXvAL"
      }
    },
    {
      "cell_type": "markdown",
      "source": [
        "## 2. Манипуляции с символьными выражениями\n"
      ],
      "metadata": {
        "id": "8kFZr09iYBo0"
      }
    },
    {
      "cell_type": "markdown",
      "source": [
        "SymPy предоставляет множество функций для работы с математическими выражениями: упрощение, раскрытие скобок, факторизация, сокращение дробей и так далее. Рассмотрим некоторые из них подробнее."
      ],
      "metadata": {
        "id": "zcjvGnUIYGIT"
      }
    },
    {
      "cell_type": "markdown",
      "source": [
        "### 2.1. Упрощение\n",
        "\n"
      ],
      "metadata": {
        "id": "cpAf1byyYG1s"
      }
    },
    {
      "cell_type": "markdown",
      "source": [
        "Пригодится, когда нужно представить выражение в более удобоваримой форме. Для этого есть функции: simplify, expand, collect и factor."
      ],
      "metadata": {
        "id": "edNFsVVbm5sE"
      }
    },
    {
      "cell_type": "markdown",
      "source": [
        "- simplify() анализирует выражение на предмет вызова функций, квадратных корней, радикалов и степеней и инициализирует подходящие процедуры упрощения:"
      ],
      "metadata": {
        "id": "2LXgBAF5YIji"
      }
    },
    {
      "cell_type": "markdown",
      "source": [
        "- - В этом примере simplify() упрощает выражение sin(x)^2 + cos(x)^2 с помощью тождества Пифагора. Обратите внимание, что не мы задаём вариант упрощения — он определяется автоматически."
      ],
      "metadata": {
        "id": "fCaI_DkQYK6F"
      }
    },
    {
      "cell_type": "code",
      "source": [
        "from sympy import symbols, simplify, sin, cos\n",
        "x = symbols('x')\n",
        "expr = sin(x)**2 + cos(x)**2 # Тождество Пифагора, равное 1 при любом x\n",
        "simplified_expr = simplify(expr)\n",
        "print(simplified_expr)  # 1"
      ],
      "metadata": {
        "colab": {
          "base_uri": "https://localhost:8080/"
        },
        "id": "vHfNoDLbXwl1",
        "outputId": "37b4dbc3-d777-4a25-a59a-1317a18aebe6"
      },
      "execution_count": null,
      "outputs": [
        {
          "output_type": "stream",
          "name": "stdout",
          "text": [
            "1\n"
          ]
        }
      ]
    },
    {
      "cell_type": "markdown",
      "source": [
        "- expand() раскрывает скобки:\n",
        "\n"
      ],
      "metadata": {
        "id": "GxwpodaPXvGu"
      }
    },
    {
      "cell_type": "markdown",
      "source": [
        "- - В этом примере мы раскрыли куб выражения (x + y)."
      ],
      "metadata": {
        "id": "znurEU-PYXjh"
      }
    },
    {
      "cell_type": "code",
      "source": [
        "from sympy import symbols, expand, factor\n",
        "\n",
        "\n",
        "x, y = symbols('x y')\n",
        "\n",
        "\n",
        "expr = (x + y)**3\n",
        "\n",
        "\n",
        "expanded_expr = expand(expr)\n",
        "\n",
        "\n",
        "print(expr, '=', expanded_expr)"
      ],
      "metadata": {
        "colab": {
          "base_uri": "https://localhost:8080/"
        },
        "id": "XI4qyC_FYTsn",
        "outputId": "f5bc7a2a-00ec-444b-c629-52c16ec0c8fb"
      },
      "execution_count": null,
      "outputs": [
        {
          "output_type": "stream",
          "name": "stdout",
          "text": [
            "(x + y)**3 = x**3 + 3*x**2*y + 3*x*y**2 + y**3\n"
          ]
        }
      ]
    },
    {
      "cell_type": "code",
      "source": [
        "display(expr, '=', expanded_expr)"
      ],
      "metadata": {
        "colab": {
          "base_uri": "https://localhost:8080/",
          "height": 80
        },
        "id": "1DWVnSM2ngMP",
        "outputId": "e7e63010-c0bb-4bdc-df15-d21aaf19b920"
      },
      "execution_count": null,
      "outputs": [
        {
          "output_type": "display_data",
          "data": {
            "text/plain": [
              "(x + y)**3"
            ],
            "text/latex": "$\\displaystyle \\left(x + y\\right)^{3}$"
          },
          "metadata": {}
        },
        {
          "output_type": "display_data",
          "data": {
            "text/plain": [
              "'='"
            ],
            "application/vnd.google.colaboratory.intrinsic+json": {
              "type": "string"
            }
          },
          "metadata": {}
        },
        {
          "output_type": "display_data",
          "data": {
            "text/plain": [
              "x**3 + 3*x**2*y + 3*x*y**2 + y**3"
            ],
            "text/latex": "$\\displaystyle x^{3} + 3 x^{2} y + 3 x y^{2} + y^{3}$"
          },
          "metadata": {}
        }
      ]
    },
    {
      "cell_type": "markdown",
      "source": [
        "- collect() группирует переменные в выражениях:\n",
        "\n"
      ],
      "metadata": {
        "id": "4xksGGm8Yh1o"
      }
    },
    {
      "cell_type": "markdown",
      "source": [
        "- - Здесь collect() группирует слагаемые в выражении x*y + x**2 + y + x*y**2 по степеням переменной x."
      ],
      "metadata": {
        "id": "aKAmbV0CYX4f"
      }
    },
    {
      "cell_type": "code",
      "source": [
        "from sympy import symbols, collect\n",
        "\n",
        "\n",
        "x, y = symbols('x y')\n",
        "\n",
        "\n",
        "expr = x*y + x**2 + y + x*y**2\n",
        "\n",
        "\n",
        "collected_expr = collect(expr, x)\n",
        "\n",
        "\n",
        "print(expr, '=', collected_expr)"
      ],
      "metadata": {
        "colab": {
          "base_uri": "https://localhost:8080/"
        },
        "id": "N_ZTniYVYcMQ",
        "outputId": "076b1cd8-c7f7-42df-8d8e-ed71608e2605"
      },
      "execution_count": null,
      "outputs": [
        {
          "output_type": "stream",
          "name": "stdout",
          "text": [
            "x**2 + x*y**2 + x*y + y = x**2 + x*(y**2 + y) + y\n"
          ]
        }
      ]
    },
    {
      "cell_type": "code",
      "source": [
        "display(expr, '=', collected_expr)"
      ],
      "metadata": {
        "colab": {
          "base_uri": "https://localhost:8080/",
          "height": 79
        },
        "id": "rkVnWe6Yn8fs",
        "outputId": "5c8892a5-0e8c-4e2a-aaff-ee043cf110ea"
      },
      "execution_count": null,
      "outputs": [
        {
          "output_type": "display_data",
          "data": {
            "text/plain": [
              "x**2 + x*y**2 + x*y + y"
            ],
            "text/latex": "$\\displaystyle x^{2} + x y^{2} + x y + y$"
          },
          "metadata": {}
        },
        {
          "output_type": "display_data",
          "data": {
            "text/plain": [
              "'='"
            ],
            "application/vnd.google.colaboratory.intrinsic+json": {
              "type": "string"
            }
          },
          "metadata": {}
        },
        {
          "output_type": "display_data",
          "data": {
            "text/plain": [
              "x**2 + x*(y**2 + y) + y"
            ],
            "text/latex": "$\\displaystyle x^{2} + x \\left(y^{2} + y\\right) + y$"
          },
          "metadata": {}
        }
      ]
    },
    {
      "cell_type": "markdown",
      "source": [
        "- factor() представляет выражение в виде произведения множителей (факторизует его):\n",
        "\n"
      ],
      "metadata": {
        "id": "KnqXsilFYmsD"
      }
    },
    {
      "cell_type": "code",
      "source": [
        "from sympy import symbols, factor\n",
        "\n",
        "\n",
        "x, y = symbols('x y')\n",
        "\n",
        "\n",
        "expr = x**3 + 3 * x**2 * y + 3 * x * y**2 + y**3\n",
        "\n",
        "\n",
        "factored_expr = factor(expr)\n",
        "\n",
        "\n",
        "print(expr, '=', factored_expr)"
      ],
      "metadata": {
        "colab": {
          "base_uri": "https://localhost:8080/"
        },
        "id": "ssW6NLiSYm9O",
        "outputId": "0b35a9dc-0cfd-4ded-89c5-9716a2560d36"
      },
      "execution_count": null,
      "outputs": [
        {
          "output_type": "stream",
          "name": "stdout",
          "text": [
            "x**3 + 3*x**2*y + 3*x*y**2 + y**3 = (x + y)**3\n"
          ]
        }
      ]
    },
    {
      "cell_type": "code",
      "source": [
        "display(expr, '=', factored_expr)"
      ],
      "metadata": {
        "colab": {
          "base_uri": "https://localhost:8080/",
          "height": 80
        },
        "id": "lWVjThjQoFHw",
        "outputId": "6caff695-795a-4176-c1fb-3f5cc749b6c3"
      },
      "execution_count": null,
      "outputs": [
        {
          "output_type": "display_data",
          "data": {
            "text/plain": [
              "x**2 + x*y**2 + x*y + y"
            ],
            "text/latex": "$\\displaystyle x^{2} + x y^{2} + x y + y$"
          },
          "metadata": {}
        },
        {
          "output_type": "display_data",
          "data": {
            "text/plain": [
              "'='"
            ],
            "application/vnd.google.colaboratory.intrinsic+json": {
              "type": "string"
            }
          },
          "metadata": {}
        },
        {
          "output_type": "display_data",
          "data": {
            "text/plain": [
              "(x + y)**3"
            ],
            "text/latex": "$\\displaystyle \\left(x + y\\right)^{3}$"
          },
          "metadata": {}
        }
      ]
    },
    {
      "cell_type": "markdown",
      "source": [
        "## 3. Решение уравнений и систем уравнений\n"
      ],
      "metadata": {
        "id": "Iqg1UvE7YnGs"
      }
    },
    {
      "cell_type": "markdown",
      "source": [
        "В SymPy можно решать уравнения с символьными переменными и их системы — с помощью функций Eq() и solve()."
      ],
      "metadata": {
        "id": "D2A1YeEDYwz6"
      }
    },
    {
      "cell_type": "markdown",
      "source": [
        "### 3.1. Уравнения"
      ],
      "metadata": {
        "id": "FywK4UjHYx63"
      }
    },
    {
      "cell_type": "markdown",
      "source": [
        "- Допустим, мы хотим решить уравнение x^2 + y^2 = 1. Чтобы составить его, нам понадобится функция Eq():"
      ],
      "metadata": {
        "id": "ahU0irr1Y0fO"
      }
    },
    {
      "cell_type": "code",
      "source": [
        "from sympy import symbols, Eq, solve\n",
        "\n",
        "\n",
        "# Создание символьных переменных\n",
        "x, y = symbols('x y')\n",
        "\n",
        "\n",
        "# Создание уравнения\n",
        "equation = Eq(x**2 + y**2, 1)"
      ],
      "metadata": {
        "id": "gelivXyyYniK"
      },
      "execution_count": null,
      "outputs": []
    },
    {
      "cell_type": "markdown",
      "source": [
        "- Решить полученное уравнение можно с помощью функции solve():\n",
        "\n"
      ],
      "metadata": {
        "id": "YsubpdlIYnqu"
      }
    },
    {
      "cell_type": "markdown",
      "source": [
        "- - Код вернёт два решения квадратного уравнения в виде списка:"
      ],
      "metadata": {
        "id": "eMWXfT6zY80B"
      }
    },
    {
      "cell_type": "code",
      "source": [
        "# Решение уравнения\n",
        "solution = solve(equation, y)\n",
        "\n",
        "\n",
        "print(solution)"
      ],
      "metadata": {
        "colab": {
          "base_uri": "https://localhost:8080/"
        },
        "id": "-j-8yx_aYnyp",
        "outputId": "5913e2d0-3f7e-4c7f-c60c-c67a612a046a"
      },
      "execution_count": null,
      "outputs": [
        {
          "output_type": "stream",
          "name": "stdout",
          "text": [
            "[-sqrt(1 - x**2), sqrt(1 - x**2)]\n"
          ]
        }
      ]
    },
    {
      "cell_type": "code",
      "source": [
        "for i in solution:\n",
        "  display(i)\n",
        "  print()"
      ],
      "metadata": {
        "colab": {
          "base_uri": "https://localhost:8080/",
          "height": 98
        },
        "id": "odqWe-6RodH-",
        "outputId": "be9143b2-9e12-48af-a19f-7ebfcbc593d1"
      },
      "execution_count": null,
      "outputs": [
        {
          "output_type": "display_data",
          "data": {
            "text/plain": [
              "-sqrt(1 - x**2)"
            ],
            "text/latex": "$\\displaystyle - \\sqrt{1 - x^{2}}$"
          },
          "metadata": {}
        },
        {
          "output_type": "stream",
          "name": "stdout",
          "text": [
            "\n"
          ]
        },
        {
          "output_type": "display_data",
          "data": {
            "text/plain": [
              "sqrt(1 - x**2)"
            ],
            "text/latex": "$\\displaystyle \\sqrt{1 - x^{2}}$"
          },
          "metadata": {}
        },
        {
          "output_type": "stream",
          "name": "stdout",
          "text": [
            "\n"
          ]
        }
      ]
    },
    {
      "cell_type": "markdown",
      "source": [
        "### 3.2. Системы уравнений\n"
      ],
      "metadata": {
        "id": "G6fbVRGrY_8w"
      }
    },
    {
      "cell_type": "markdown",
      "source": [
        "- Добавим в нашу программу ещё одну символьную переменную (z) и построим систему уравнений:\n",
        "\n"
      ],
      "metadata": {
        "id": "P9VsmecKZED1"
      }
    },
    {
      "cell_type": "markdown",
      "source": [
        "![image.png](data:image/png;base64,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)"
      ],
      "metadata": {
        "id": "uUyAdeSfZFr_"
      }
    },
    {
      "cell_type": "markdown",
      "source": [
        "- Делается это с помощью той же функции Eq():\n",
        "\n"
      ],
      "metadata": {
        "id": "sxJrsl_oZJlX"
      }
    },
    {
      "cell_type": "code",
      "source": [
        "from sympy import symbols, Eq, solve\n",
        "\n",
        "\n",
        "# Создание символьных переменных\n",
        "x, y = symbols('x y')\n",
        "\n",
        "# Создание уравнения\n",
        "equation = Eq(x**2 + y**2, 1)\n",
        "\n",
        "# Создание ещё одной символьной переменной\n",
        "z = symbols('z')\n",
        "\n",
        "# Создание системы уравнений\n",
        "system_of_equations = [Eq(x + y + z, 1), Eq(x - y - z, 0), Eq(x**2 + y**2 - z, 1)]"
      ],
      "metadata": {
        "id": "bf9yBAFpZAGC"
      },
      "execution_count": null,
      "outputs": []
    },
    {
      "cell_type": "code",
      "source": [
        "for i in system_of_equations:\n",
        "  display(i)\n",
        "  print()"
      ],
      "metadata": {
        "colab": {
          "base_uri": "https://localhost:8080/",
          "height": 136
        },
        "id": "_n94qD0bo1Zv",
        "outputId": "e191bb66-d791-40fa-b3bd-0bb1d6898c29"
      },
      "execution_count": null,
      "outputs": [
        {
          "output_type": "display_data",
          "data": {
            "text/plain": [
              "Eq(x + y + z, 1)"
            ],
            "text/latex": "$\\displaystyle x + y + z = 1$"
          },
          "metadata": {}
        },
        {
          "output_type": "stream",
          "name": "stdout",
          "text": [
            "\n"
          ]
        },
        {
          "output_type": "display_data",
          "data": {
            "text/plain": [
              "Eq(x - y - z, 0)"
            ],
            "text/latex": "$\\displaystyle x - y - z = 0$"
          },
          "metadata": {}
        },
        {
          "output_type": "stream",
          "name": "stdout",
          "text": [
            "\n"
          ]
        },
        {
          "output_type": "display_data",
          "data": {
            "text/plain": [
              "Eq(x**2 + y**2 - z, 1)"
            ],
            "text/latex": "$\\displaystyle x^{2} + y^{2} - z = 1$"
          },
          "metadata": {}
        },
        {
          "output_type": "stream",
          "name": "stdout",
          "text": [
            "\n"
          ]
        }
      ]
    },
    {
      "cell_type": "markdown",
      "source": [
        "- Теперь решим её с помощью уже знакомой функции solve():\n",
        "\n"
      ],
      "metadata": {
        "id": "fjn4RQJcZAQD"
      }
    },
    {
      "cell_type": "markdown",
      "source": [
        "- - Программа вернёт значения переменных x, y, z, при которых выполняется система уравнений:"
      ],
      "metadata": {
        "id": "zLhYXpphZVh6"
      }
    },
    {
      "cell_type": "code",
      "source": [
        "# Решение системы уравнений\n",
        "solutions = solve(system_of_equations, (x, y, z))\n",
        "\n",
        "print(solutions)"
      ],
      "metadata": {
        "colab": {
          "base_uri": "https://localhost:8080/"
        },
        "id": "GN8iKPrKZAaf",
        "outputId": "35cb135a-73b3-4e9a-8853-1e409fe62f90"
      },
      "execution_count": null,
      "outputs": [
        {
          "output_type": "stream",
          "name": "stdout",
          "text": [
            "[(1/2, -1/2 + sqrt(6)/2, 1 - sqrt(6)/2), (1/2, -sqrt(6)/2 - 1/2, 1 + sqrt(6)/2)]\n"
          ]
        }
      ]
    },
    {
      "cell_type": "code",
      "source": [
        "for i in solutions:\n",
        "  for j in i:\n",
        "    display(j)\n",
        "  print()"
      ],
      "metadata": {
        "colab": {
          "base_uri": "https://localhost:8080/",
          "height": 275
        },
        "id": "K38Y7SYcppVV",
        "outputId": "8d697a90-dd87-4aa7-84ec-c121af91df4c"
      },
      "execution_count": null,
      "outputs": [
        {
          "output_type": "display_data",
          "data": {
            "text/plain": [
              "1/2"
            ],
            "text/latex": "$\\displaystyle \\frac{1}{2}$"
          },
          "metadata": {}
        },
        {
          "output_type": "display_data",
          "data": {
            "text/plain": [
              "-1/2 + sqrt(6)/2"
            ],
            "text/latex": "$\\displaystyle - \\frac{1}{2} + \\frac{\\sqrt{6}}{2}$"
          },
          "metadata": {}
        },
        {
          "output_type": "display_data",
          "data": {
            "text/plain": [
              "1 - sqrt(6)/2"
            ],
            "text/latex": "$\\displaystyle 1 - \\frac{\\sqrt{6}}{2}$"
          },
          "metadata": {}
        },
        {
          "output_type": "stream",
          "name": "stdout",
          "text": [
            "\n"
          ]
        },
        {
          "output_type": "display_data",
          "data": {
            "text/plain": [
              "1/2"
            ],
            "text/latex": "$\\displaystyle \\frac{1}{2}$"
          },
          "metadata": {}
        },
        {
          "output_type": "display_data",
          "data": {
            "text/plain": [
              "-sqrt(6)/2 - 1/2"
            ],
            "text/latex": "$\\displaystyle - \\frac{\\sqrt{6}}{2} - \\frac{1}{2}$"
          },
          "metadata": {}
        },
        {
          "output_type": "display_data",
          "data": {
            "text/plain": [
              "1 + sqrt(6)/2"
            ],
            "text/latex": "$\\displaystyle 1 + \\frac{\\sqrt{6}}{2}$"
          },
          "metadata": {}
        },
        {
          "output_type": "stream",
          "name": "stdout",
          "text": [
            "\n"
          ]
        }
      ]
    },
    {
      "cell_type": "markdown",
      "source": [
        "### 3.3. Дифференциальные уравнения\n"
      ],
      "metadata": {
        "id": "ZDEuAJDwZAkM"
      }
    },
    {
      "cell_type": "markdown",
      "source": [
        "- С SymPy также можно решать и диффуры. Для этого в ней есть функция dsolve()."
      ],
      "metadata": {
        "id": "ZpG_yCOiZZ5L"
      }
    },
    {
      "cell_type": "markdown",
      "source": [
        "\n",
        "- - Давайте познакомимся с её работой на примере уравнения y’ = x**2 - y с начальным условием y(0) = 1:"
      ],
      "metadata": {
        "id": "PEYid0MoZc2L"
      }
    },
    {
      "cell_type": "code",
      "source": [
        "from sympy import symbols, Function, dsolve, Eq\n",
        "\n",
        "\n",
        "# Создание символов и функции\n",
        "x = symbols('x')\n",
        "y = Function('y')\n",
        "\n",
        "\n",
        "# Определение дифференциального уравнения\n",
        "diff_eq = Eq(y(x).diff(x), x**2 - y(x))"
      ],
      "metadata": {
        "id": "IyeV7WF6ZAtV"
      },
      "execution_count": null,
      "outputs": []
    },
    {
      "cell_type": "code",
      "source": [
        "diff_eq"
      ],
      "metadata": {
        "colab": {
          "base_uri": "https://localhost:8080/",
          "height": 52
        },
        "id": "jitNq3rip7ZS",
        "outputId": "156d648c-cde7-452f-bcdd-180f59d8f78f"
      },
      "execution_count": null,
      "outputs": [
        {
          "output_type": "execute_result",
          "data": {
            "text/plain": [
              "Eq(Derivative(y(x), x), x**2 - y(x))"
            ],
            "text/latex": "$\\displaystyle \\frac{d}{d x} y{\\left(x \\right)} = x^{2} - y{\\left(x \\right)}$"
          },
          "metadata": {},
          "execution_count": 93
        }
      ]
    },
    {
      "cell_type": "code",
      "source": [
        "# Решение уравнения\n",
        "solution = dsolve(diff_eq, y(x), ics={y(0): 1})\n",
        "\n",
        "\n",
        "print(solution)"
      ],
      "metadata": {
        "colab": {
          "base_uri": "https://localhost:8080/"
        },
        "id": "P_xwC_7Ap42K",
        "outputId": "d9b81625-d727-4827-cccc-48e212eceb35"
      },
      "execution_count": null,
      "outputs": [
        {
          "output_type": "stream",
          "name": "stdout",
          "text": [
            "Eq(y(x), x**2 - 2*x + 2 - exp(-x))\n"
          ]
        }
      ]
    },
    {
      "cell_type": "code",
      "source": [
        "solution"
      ],
      "metadata": {
        "colab": {
          "base_uri": "https://localhost:8080/",
          "height": 39
        },
        "id": "PUG8T7wnqDV0",
        "outputId": "f8a15a62-b7f7-47bd-d9a4-a5e721d61ae3"
      },
      "execution_count": null,
      "outputs": [
        {
          "output_type": "execute_result",
          "data": {
            "text/plain": [
              "Eq(y(x), x**2 - 2*x + 2 - exp(-x))"
            ],
            "text/latex": "$\\displaystyle y{\\left(x \\right)} = x^{2} - 2 x + 2 - e^{- x}$"
          },
          "metadata": {},
          "execution_count": 99
        }
      ]
    },
    {
      "cell_type": "markdown",
      "source": [
        "## 4. Операции с матрицами\n"
      ],
      "metadata": {
        "id": "aLh8LWlRZntU"
      }
    },
    {
      "cell_type": "markdown",
      "source": [
        "Есть в SymPy и инструменты линейной алгебры. Например, для создания матриц, сложения, вычитания и прочих действий с ними используют класс Matrix."
      ],
      "metadata": {
        "id": "UTPEWqgkZsEe"
      }
    },
    {
      "cell_type": "markdown",
      "source": [
        "### 4.1. Создание матриц\n"
      ],
      "metadata": {
        "id": "Ou5Pg260ZvKO"
      }
    },
    {
      "cell_type": "markdown",
      "source": [
        "- Для этого создайте объект Matrix, передав в него символы для заполнения матрицы:\n",
        "\n"
      ],
      "metadata": {
        "id": "vDBRivJmZyvw"
      }
    },
    {
      "cell_type": "code",
      "source": [
        "from sympy import Matrix, symbols\n",
        "# Создание символов\n",
        "a, b, c, d = symbols('a b c d')\n",
        "# Создание матрицы 2x2\n",
        "matrix_2x2 = Matrix([[a, b], [c, d]])"
      ],
      "metadata": {
        "id": "1ypTpmxnZn3U"
      },
      "execution_count": null,
      "outputs": []
    },
    {
      "cell_type": "code",
      "source": [
        "print(\"Матрица 2x2:\")\n",
        "print(matrix_2x2)"
      ],
      "metadata": {
        "colab": {
          "base_uri": "https://localhost:8080/"
        },
        "id": "orF220OQupKt",
        "outputId": "b1d4d8f1-0574-406f-9d76-5bd779bbe9ca"
      },
      "execution_count": null,
      "outputs": [
        {
          "output_type": "stream",
          "name": "stdout",
          "text": [
            "Матрица 2x2:\n",
            "Matrix([[a, b], [c, d]])\n"
          ]
        }
      ]
    },
    {
      "cell_type": "code",
      "source": [
        "print(\"Матрица 2x2:\")\n",
        "display(matrix_2x2)"
      ],
      "metadata": {
        "colab": {
          "base_uri": "https://localhost:8080/",
          "height": 76
        },
        "id": "C4SDBdbguq-n",
        "outputId": "cc7d7dc3-1b3a-4ce2-c703-f9981145d9bf"
      },
      "execution_count": null,
      "outputs": [
        {
          "output_type": "stream",
          "name": "stdout",
          "text": [
            "Матрица 2x2:\n"
          ]
        },
        {
          "output_type": "display_data",
          "data": {
            "text/plain": [
              "Matrix([\n",
              "[a, b],\n",
              "[c, d]])"
            ],
            "text/latex": "$\\displaystyle \\left[\\begin{matrix}a & b\\\\c & d\\end{matrix}\\right]$"
          },
          "metadata": {}
        }
      ]
    },
    {
      "cell_type": "markdown",
      "source": [
        "### Сложение, вычитание и умножение матриц"
      ],
      "metadata": {
        "id": "Uc_ncSoNZoAl"
      }
    },
    {
      "cell_type": "markdown",
      "source": [
        "Арифметические операции над матрицами в SymPy можно производить так же, как и над обычными числами, — используя арифметические операторы +, - и *:"
      ],
      "metadata": {
        "id": "aRZlG6F7Z-Px"
      }
    },
    {
      "cell_type": "code",
      "source": [
        "from sympy import Matrix, symbols\n",
        "\n",
        "\n",
        "# Создание символов\n",
        "a, b, c, d = symbols('a b c d')\n",
        "\n",
        "\n",
        "# Создание первой матрицы\n",
        "matrix_2x2 = Matrix([[a, b], [c, d]])"
      ],
      "metadata": {
        "id": "a1qw91qPZoK5"
      },
      "execution_count": null,
      "outputs": []
    },
    {
      "cell_type": "code",
      "source": [
        "matrix_2x2"
      ],
      "metadata": {
        "colab": {
          "base_uri": "https://localhost:8080/",
          "height": 58
        },
        "id": "vGRotRKyu8o9",
        "outputId": "a9dadf80-c186-46f1-9f31-37b9d28ea453"
      },
      "execution_count": null,
      "outputs": [
        {
          "output_type": "execute_result",
          "data": {
            "text/plain": [
              "Matrix([\n",
              "[a, b],\n",
              "[c, d]])"
            ],
            "text/latex": "$\\displaystyle \\left[\\begin{matrix}a & b\\\\c & d\\end{matrix}\\right]$"
          },
          "metadata": {},
          "execution_count": 104
        }
      ]
    },
    {
      "cell_type": "code",
      "source": [
        "# Создание второй матрицы\n",
        "matrix_2x2_2 = Matrix([[1, 2], [3, 4]])"
      ],
      "metadata": {
        "id": "YeTyxJ3au0tf"
      },
      "execution_count": null,
      "outputs": []
    },
    {
      "cell_type": "code",
      "source": [
        "matrix_2x2_2"
      ],
      "metadata": {
        "colab": {
          "base_uri": "https://localhost:8080/",
          "height": 58
        },
        "id": "8BtuzXPtu-Ck",
        "outputId": "b2fe0cb0-0eba-4ee3-84de-b3960544fa9d"
      },
      "execution_count": null,
      "outputs": [
        {
          "output_type": "execute_result",
          "data": {
            "text/plain": [
              "Matrix([\n",
              "[1, 2],\n",
              "[3, 4]])"
            ],
            "text/latex": "$\\displaystyle \\left[\\begin{matrix}1 & 2\\\\3 & 4\\end{matrix}\\right]$"
          },
          "metadata": {},
          "execution_count": 106
        }
      ]
    },
    {
      "cell_type": "code",
      "source": [
        "# Сложение матриц\n",
        "sum_matrix = matrix_2x2 + matrix_2x2_2"
      ],
      "metadata": {
        "id": "wPBvidU7u2ZZ"
      },
      "execution_count": null,
      "outputs": []
    },
    {
      "cell_type": "code",
      "source": [
        "print(\"Сумма матриц:\")\n",
        "print(sum_matrix)"
      ],
      "metadata": {
        "colab": {
          "base_uri": "https://localhost:8080/"
        },
        "id": "i8GoyqOfvQQ4",
        "outputId": "ed3dc10a-4214-46d2-b653-f9d9259b9570"
      },
      "execution_count": null,
      "outputs": [
        {
          "output_type": "stream",
          "name": "stdout",
          "text": [
            "Сумма матриц:\n",
            "Matrix([[a + 1, b + 2], [c + 3, d + 4]])\n"
          ]
        }
      ]
    },
    {
      "cell_type": "code",
      "source": [
        "sum_matrix"
      ],
      "metadata": {
        "colab": {
          "base_uri": "https://localhost:8080/",
          "height": 58
        },
        "id": "hQL3nxV9u_mf",
        "outputId": "ff8a24a3-938f-4ce0-9e1b-77ebd4b34a36"
      },
      "execution_count": null,
      "outputs": [
        {
          "output_type": "execute_result",
          "data": {
            "text/plain": [
              "Matrix([\n",
              "[a + 1, b + 2],\n",
              "[c + 3, d + 4]])"
            ],
            "text/latex": "$\\displaystyle \\left[\\begin{matrix}a + 1 & b + 2\\\\c + 3 & d + 4\\end{matrix}\\right]$"
          },
          "metadata": {},
          "execution_count": 107
        }
      ]
    },
    {
      "cell_type": "code",
      "source": [
        "# Вычитание матриц\n",
        "diff_matrix = matrix_2x2 - matrix_2x2_2"
      ],
      "metadata": {
        "id": "LgWu1EGDu39m"
      },
      "execution_count": null,
      "outputs": []
    },
    {
      "cell_type": "code",
      "source": [
        "print(\"\\nРазность матриц:\")\n",
        "print(diff_matrix)"
      ],
      "metadata": {
        "colab": {
          "base_uri": "https://localhost:8080/"
        },
        "id": "r7637rgUu57A",
        "outputId": "9c1c3c8f-d0df-4bd2-b237-9a8a833eed03"
      },
      "execution_count": null,
      "outputs": [
        {
          "output_type": "stream",
          "name": "stdout",
          "text": [
            "\n",
            "Разность матриц:\n",
            "Matrix([[a - 1, b - 2], [c - 3, d - 4]])\n"
          ]
        }
      ]
    },
    {
      "cell_type": "code",
      "source": [
        "diff_matrix"
      ],
      "metadata": {
        "colab": {
          "base_uri": "https://localhost:8080/",
          "height": 58
        },
        "id": "Ptc_TVCRvBl3",
        "outputId": "6f348617-b94a-42f3-d9be-fcce7d2c9f34"
      },
      "execution_count": null,
      "outputs": [
        {
          "output_type": "execute_result",
          "data": {
            "text/plain": [
              "Matrix([\n",
              "[a - 1, b - 2],\n",
              "[c - 3, d - 4]])"
            ],
            "text/latex": "$\\displaystyle \\left[\\begin{matrix}a - 1 & b - 2\\\\c - 3 & d - 4\\end{matrix}\\right]$"
          },
          "metadata": {},
          "execution_count": 120
        }
      ]
    },
    {
      "cell_type": "code",
      "source": [
        "# Умножение матриц\n",
        "product_matrix = matrix_2x2 * matrix_2x2_2"
      ],
      "metadata": {
        "id": "cWqCbpDTaFoQ"
      },
      "execution_count": null,
      "outputs": []
    },
    {
      "cell_type": "code",
      "source": [
        "print(\"Произведение матриц:\")\n",
        "print(product_matrix)"
      ],
      "metadata": {
        "colab": {
          "base_uri": "https://localhost:8080/"
        },
        "id": "JVnNZjb0vHoh",
        "outputId": "5d61d1cf-a15d-437f-a92a-16f0fd9c1c00"
      },
      "execution_count": null,
      "outputs": [
        {
          "output_type": "stream",
          "name": "stdout",
          "text": [
            "Произведение матриц:\n",
            "Matrix([[a + 3*b, 2*a + 4*b], [c + 3*d, 2*c + 4*d]])\n"
          ]
        }
      ]
    },
    {
      "cell_type": "code",
      "source": [
        "product_matrix"
      ],
      "metadata": {
        "colab": {
          "base_uri": "https://localhost:8080/",
          "height": 58
        },
        "id": "1fbIepBRvHTa",
        "outputId": "0d7790c3-a759-403f-c409-7c6f465266f8"
      },
      "execution_count": null,
      "outputs": [
        {
          "output_type": "execute_result",
          "data": {
            "text/plain": [
              "Matrix([\n",
              "[a + 3*b, 2*a + 4*b],\n",
              "[c + 3*d, 2*c + 4*d]])"
            ],
            "text/latex": "$\\displaystyle \\left[\\begin{matrix}a + 3 b & 2 a + 4 b\\\\c + 3 d & 2 c + 4 d\\end{matrix}\\right]$"
          },
          "metadata": {},
          "execution_count": 123
        }
      ]
    },
    {
      "cell_type": "markdown",
      "source": [
        "## 5. Визуализация"
      ],
      "metadata": {
        "id": "7L9_ggrVZoT1"
      }
    },
    {
      "cell_type": "markdown",
      "source": [
        "- Результаты вычислений, полученных с помощью SymPy, можно визуализировать в виде графиков. Однако сама библиотека подходит для этого плохо, так как ориентирована именно на проведение символьных вычислений. Для визуализации результатов обычно используют другие библиотеки, например Matplotlib."
      ],
      "metadata": {
        "id": "fSPikbgcaL6h"
      }
    },
    {
      "cell_type": "markdown",
      "source": [
        "- - Построим график функции sin(x)/x:"
      ],
      "metadata": {
        "id": "u5fjz74saNxF"
      }
    },
    {
      "cell_type": "code",
      "source": [
        "import sympy as sp\n",
        "import matplotlib.pyplot as plt\n",
        "import numpy as np\n",
        "\n",
        "\n",
        "# Создание символьной переменной\n",
        "x = sp.symbols('x')\n",
        "\n",
        "\n",
        "# Определение функции с использованием SymPy\n",
        "y_expr = sp.sin(x) / x\n",
        "\n",
        "\n",
        "# Преобразование в функцию, пригодную для использования с библиотекой Matplotlib\n",
        "y_func = sp.lambdify(x, y_expr, 'numpy')\n",
        "\n",
        "\n",
        "# Генерация значений x от -10 до 10\n",
        "x_values = np.linspace(-10, 10, 400)\n",
        "# Вычисление соответствующих значений y\n",
        "y_values = y_func(x_values)\n",
        "\n",
        "\n",
        "# Построение графика с использованием Matplotlib\n",
        "plt.plot(x_values, y_values, label=r'$\\frac{\\sin(x)}{x}$')\n",
        "plt.xlabel('x')\n",
        "plt.ylabel('y')\n",
        "plt.title('График функции $y = \\\\frac{\\\\sin(x)}{x}$')\n",
        "plt.axhline(0, color='black', linewidth=0.5)\n",
        "plt.axvline(0, color='black', linewidth=0.5)\n",
        "plt.grid(color='gray', linestyle='--', linewidth=0.5)\n",
        "plt.legend()\n",
        "plt.show()"
      ],
      "metadata": {
        "colab": {
          "base_uri": "https://localhost:8080/",
          "height": 479
        },
        "id": "__Gufp3qZocx",
        "outputId": "598ed22d-7269-49d6-fba3-ebe607da43ad"
      },
      "execution_count": null,
      "outputs": [
        {
          "output_type": "display_data",
          "data": {
            "text/plain": [
              "<Figure size 640x480 with 1 Axes>"
            ],
            "image/png": "[encoded data removed]"
          },
          "metadata": {}
        }
      ]
    },
    {
      "cell_type": "markdown",
      "source": [
        "- - В этом примере с использованием SymPy создаётся символьная переменная x и определяется функция y = sin(x)/x. Перед тем как построить график с помощью Matplotlib, функцию нужно привести к виду, понятному для библиотеки. Мы сделали это с помощью метода lambdify."
      ],
      "metadata": {
        "id": "y2_yxZjUaVnF"
      }
    },
    {
      "cell_type": "markdown",
      "source": [
        "Функция `lambdify` библиотеки SymPy преобразует символьные выражения SymPy в функции Python, которые могут быть численно оценены. Она принимает следующие параметры:\n",
        "\n",
        "1. `args`: Это переменная или список переменных, структура которых представляет структуру аргументов, которые будут переданы функции. Переменные могут быть символами, неопределенными функциями или символами матриц.\n",
        "\n",
        "2. `expr`: Это символьное выражение SymPy, которое вы хотите преобразовать в функцию Python.\n",
        "\n",
        "3. `modules`: Это модули, которые будут использоваться для численного вычисления выражения. Если этот параметр не указан, SymPy по умолчанию будет использовать NumPy.\n",
        "\n",
        "4. `printer`: Это параметр, который определяет, как будет печататься выражение.\n",
        "\n",
        "5. `use_imps`: Если этот параметр установлен в True, то lambdify будет использовать имплементации функций, если они доступны.\n",
        "\n",
        "6. `dummify`: Если этот параметр установлен в True, то все символы, которые не могут быть использованы как имена переменных в Python, будут заменены на \"dummy\" переменные.\n",
        "\n",
        "7. `cse`: Если этот параметр установлен в True, то общие подвыражения будут вычислены только один раз.\n",
        "\n",
        "8. `docstring_limit`: Это параметр, который определяет максимальную длину строки документации для создаваемой функции."
      ],
      "metadata": {
        "id": "juBWF98swGf_"
      }
    },
    {
      "cell_type": "markdown",
      "source": [
        "### **Выводы:**\n",
        "\n",
        "- Библиотека SymPy используется для символьных вычислений, где формулы — это не только инструменты решения конкретных задач, но также объекты анализа математических структур.\n",
        "\n",
        "- В SymPy можно работать с символами и переменными, строить выражения, не привязанные к конкретным числам. Это полезно при работе с матрицами, решении уравнений и выполнении математических преобразований.\n",
        "\n",
        "- Библиотека предоставляет средства для символьного дифференцирования и интегрирования: можно находить производные и интегралы сложных функций, решать дифференциальные уравнения. Это важно при решении физических, инженерных, финансовых и других задач.\n",
        "- Чтобы визуализировать результаты численных и символьных вычислений, используйте SymPy совместно с библиотеками для построения графиков — Matplotlib, Seaborn и другими."
      ],
      "metadata": {
        "id": "tuhWllB0ZolL"
      }
    }
  ]
}