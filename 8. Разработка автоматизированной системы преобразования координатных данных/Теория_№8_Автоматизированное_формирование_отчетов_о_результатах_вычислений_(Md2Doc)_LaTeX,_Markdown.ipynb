{
  "nbformat": 4,
  "nbformat_minor": 0,
  "metadata": {
    "colab": {
      "provenance": [],
      "collapsed_sections": [
        "hrCXw5lYLSsx",
        "VvJ7qXKQNGR3"
      ],
      "authorship_tag": "ABX9TyP30e9voGhJ3lh9jJFzNZiO",
      "include_colab_link": true
    },
    "kernelspec": {
      "name": "python3",
      "display_name": "Python 3"
    },
    "language_info": {
      "name": "python"
    }
  },
  "cells": [
    {
      "cell_type": "markdown",
      "metadata": {
        "id": "view-in-github",
        "colab_type": "text"
      },
      "source": [
        "<a href=\"https://colab.research.google.com/github/Alexandre77777/computer_math/blob/main/8.%20%D0%A0%D0%B0%D0%B7%D1%80%D0%B0%D0%B1%D0%BE%D1%82%D0%BA%D0%B0%20%D0%B0%D0%B2%D1%82%D0%BE%D0%BC%D0%B0%D1%82%D0%B8%D0%B7%D0%B8%D1%80%D0%BE%D0%B2%D0%B0%D0%BD%D0%BD%D0%BE%D0%B9%20%D1%81%D0%B8%D1%81%D1%82%D0%B5%D0%BC%D1%8B%20%D0%BF%D1%80%D0%B5%D0%BE%D0%B1%D1%80%D0%B0%D0%B7%D0%BE%D0%B2%D0%B0%D0%BD%D0%B8%D1%8F%20%D0%BA%D0%BE%D0%BE%D1%80%D0%B4%D0%B8%D0%BD%D0%B0%D1%82%D0%BD%D1%8B%D1%85%20%D0%B4%D0%B0%D0%BD%D0%BD%D1%8B%D1%85/%D0%A2%D0%B5%D0%BE%D1%80%D0%B8%D1%8F_%E2%84%968_%D0%90%D0%B2%D1%82%D0%BE%D0%BC%D0%B0%D1%82%D0%B8%D0%B7%D0%B8%D1%80%D0%BE%D0%B2%D0%B0%D0%BD%D0%BD%D0%BE%D0%B5_%D1%84%D0%BE%D1%80%D0%BC%D0%B8%D1%80%D0%BE%D0%B2%D0%B0%D0%BD%D0%B8%D0%B5_%D0%BE%D1%82%D1%87%D0%B5%D1%82%D0%BE%D0%B2_%D0%BE_%D1%80%D0%B5%D0%B7%D1%83%D0%BB%D1%8C%D1%82%D0%B0%D1%82%D0%B0%D1%85_%D0%B2%D1%8B%D1%87%D0%B8%D1%81%D0%BB%D0%B5%D0%BD%D0%B8%D0%B9_(Md2Doc)_LaTeX%2C_Markdown.ipynb\" target=\"_parent\"><img src=\"https://colab.research.google.com/assets/colab-badge.svg\" alt=\"Open In Colab\"/></a>"
      ]
    },
    {
      "cell_type": "markdown",
      "source": [
        "# Язык разметки Markdown"
      ],
      "metadata": {
        "id": "4GZX1gTlJZ5Q"
      }
    },
    {
      "cell_type": "markdown",
      "source": [
        "Markdown - это легкий язык разметки, созданный с целью упрощения написания и чтения текста в интернете. Он позволяет преобразовывать простой текст в структурированный HTML.\n",
        "\n",
        "Вот некоторые основные особенности Markdown:\n",
        "\n",
        "- **Простота использования**: Markdown легко изучить и использовать. Он использует простые символы и знаки препинания, которые мы обычно используем в тексте.\n",
        "\n",
        "- **Читаемость**: Markdown разработан так, чтобы быть максимально читаемым и удобным для восприятия. Даже неотформатированный Markdown-текст легко читается без преобразования в HTML или другой формат.\n",
        "\n",
        "- **Универсальность**: Многие платформы поддерживают Markdown. Это делает его универсальным инструментом для форматирования текста в интернете.\n",
        "\n",
        "- **Гибкость**: Markdown поддерживает HTML, так что вы можете вставлять HTML-код прямо в Markdown, если вам нужны функции, которые Markdown не поддерживает.\n",
        "\n",
        "- **Использование в GitHub**: Markdown широко используется на GitHub для создания файлов README, написания комментариев и форматирования сообщений."
      ],
      "metadata": {
        "id": "Rjk_OJctF2J3"
      }
    },
    {
      "cell_type": "markdown",
      "source": [
        "\n",
        "# 1. Основные элементы разметки:\n",
        "\n",
        "## **1. Заголовки:**\n",
        "\n",
        "```\n",
        "# Заголовок 1\n",
        "## Заголовок 2\n",
        "### Заголовок 3\n",
        "#### Заголовок 4\n",
        "##### Заголовок 5\n",
        "###### Заголовок 6\n",
        "```\n",
        "\n",
        "# Заголовок 1\n",
        "## Заголовок 2\n",
        "### Заголовок 3\n",
        "#### Заголовок 4\n",
        "##### Заголовок 5\n",
        "###### Заголовок 6\n",
        "\n",
        "\n",
        "##**2. Форматирование текста:**\n",
        "\n",
        "```\n",
        "**Жирный текст**\n",
        "\n",
        "*Курсив*\n",
        "\n",
        "~~Зачеркнутый текст~~\n",
        "```\n",
        "\n",
        "**Жирный текст**\n",
        "\n",
        "*Курсив*\n",
        "\n",
        "~~Зачеркнутый текст~~\n",
        "\n",
        "\n",
        "##**3. Списки:**\n",
        "\n",
        "```\n",
        "- Элемент списка\n",
        "  - Вложенный элемент списка\n",
        "```\n",
        "\n",
        "- Элемент списка\n",
        "  - Вложенный элемент списка\n",
        "\n",
        "или\n",
        "\n",
        "```\n",
        "1. Элемент нумерованного списка\n",
        "   1. Вложенный элемент нумерованного списка\n",
        "```\n",
        "\n",
        "1. Элемент нумерованного списка\n",
        "   1. Вложенный элемент нумерованного списка\n",
        "\n",
        "\n",
        "##**4. Ссылки:**\n",
        "\n",
        "```\n",
        "[Текст ссылки](http://example.com)\n",
        "```\n",
        "\n",
        "[Текст ссылки](http://example.com)\n",
        "\n",
        "\n",
        "##**5. Изображения:**\n",
        "\n",
        "```\n",
        "![Альтернативный текст](https://i.pinimg.com/originals/de/9b/aa/de9baa4f91361cd6d604742ad8e97b9e.jpg)\n",
        "```\n",
        "\n",
        "![Альтернативный текст](https://i.pinimg.com/originals/de/9b/aa/de9baa4f91361cd6d604742ad8e97b9e.jpg)\n",
        "\n",
        "\n",
        "##**6. Цитаты:**\n",
        "\n",
        "```\n",
        "> Цитата\n",
        "```\n",
        "\n",
        "> Цитата\n",
        "\n",
        "\n",
        "##**7. Код:**\n",
        "\n",
        "```\n",
        "`строка кода`\n",
        "```\n",
        "\n",
        "`строка кода`\n",
        "\n",
        "\n",
        "\n",
        "или\n",
        "\n",
        "```\n",
        "\\```\n",
        "\\```\n",
        "```\n",
        "```\n",
        "```\n",
        "блок кода\n",
        "\n",
        "```\n",
        "```python\n",
        "print('Hello, Wirld!')\n",
        ".```\n",
        "```\n",
        "\n",
        "\n",
        "```python\n",
        "print('Hello, Wirld!')\n",
        "```\n",
        "\n",
        "\n",
        "\n",
        "##**8. Горизонтальная линия:**\n",
        "```\n",
        "-----\n",
        "```\n",
        "\n",
        "-----\n",
        "\n",
        "##**9. Таблицы:**\n",
        "```\n",
        "| Заголовок 1 | Заголовок 2 |\n",
        "| ----------- | ----------- |\n",
        "| Ячейка 1   | Ячейка 2   |\n",
        "```\n",
        "\n",
        "\n",
        "| Заголовок 1 | Заголовок 2 |\n",
        "| ----------- | ----------- |\n",
        "| Ячейка 1   | Ячейка 2   |\n",
        "\n",
        "\n",
        "##**10. Чек-листы:**\n",
        "```\n",
        "- [x] Выполненная задача\n",
        "- [ ] Невыполненная задача\n",
        "```\n",
        "\n",
        "\n",
        "- [x] Выполненная задача\n",
        "- [ ] Невыполненная задача"
      ],
      "metadata": {
        "id": "1h-Cr505Hk59"
      }
    },
    {
      "cell_type": "markdown",
      "source": [
        "# Сохраним пример в текстовый файл Markdown (md):"
      ],
      "metadata": {
        "id": "-dHS1PG0LEWX"
      }
    },
    {
      "cell_type": "markdown",
      "source": [
        "## 1. Запишем содержимое будущего файла в `markdown_text`:"
      ],
      "metadata": {
        "id": "hrCXw5lYLSsx"
      }
    },
    {
      "cell_type": "code",
      "source": [
        "markdown_text = r'''\n",
        "\n",
        "# Основные объекты разметки:\n",
        "\n",
        "## **1. Заголовки:**\n",
        "\n",
        "# Заголовок 1\n",
        "## Заголовок 2\n",
        "### Заголовок 3\n",
        "#### Заголовок 4\n",
        "##### Заголовок 5\n",
        "###### Заголовок 6\n",
        "\n",
        "\n",
        "## **2. Форматирование текста:**\n",
        "\n",
        "**Жирный текст**\n",
        "\n",
        "*Курсив*\n",
        "\n",
        "~~Зачеркнутый текст~~\n",
        "\n",
        "\n",
        "## **3. Списки:**\n",
        "\n",
        "- Элемент списка\n",
        "  - Вложенный элемент списка\n",
        "\n",
        "или\n",
        "\n",
        "1. Элемент нумерованного списка\n",
        "   1. Вложенный элемент нумерованного списка\n",
        "\n",
        "\n",
        "## **4. Ссылки:**\n",
        "\n",
        "[Текст ссылки](http://example.com)\n",
        "\n",
        "\n",
        "## **5. Изображения:**\n",
        "\n",
        "![Альтернативный текст](https://i.pinimg.com/originals/de/9b/aa/de9baa4f91361cd6d604742ad8e97b9e.jpg)\n",
        "\n",
        "\n",
        "## **6. Цитаты:**\n",
        "\n",
        "> Цитата\n",
        "\n",
        "\n",
        "## **7. Код:**\n",
        "\n",
        "`строка кода`\n",
        "\n",
        "или\n",
        "\n",
        "```\n",
        "```\n",
        "\n",
        "блок кода\n",
        "\n",
        "```python\n",
        "print('Hello, Wirld!')\n",
        "```\n",
        "\n",
        "\n",
        "\n",
        "## **8. Горизонтальная линия:**\n",
        "\n",
        "-----\n",
        "\n",
        "## **9. Таблицы:**\n",
        "\n",
        "| Заголовок 1 | Заголовок 2 |\n",
        "| ----------- | ----------- |\n",
        "| Ячейка 1   | Ячейка 2   |\n",
        "\n",
        "\n",
        "## **10. Чек-листы:**\n",
        "\n",
        "- [x] Выполненная задача\n",
        "- [ ] Невыполненная задача\n",
        "'''"
      ],
      "metadata": {
        "id": "QrkO184EJrls"
      },
      "execution_count": null,
      "outputs": []
    },
    {
      "cell_type": "markdown",
      "source": [
        "## 2. Запишем текст в файл `readme.md`:"
      ],
      "metadata": {
        "id": "2s6vkyKWLkph"
      }
    },
    {
      "cell_type": "code",
      "source": [
        "with open('readme.md', 'w') as f:\n",
        "  f.write(markdown_text)"
      ],
      "metadata": {
        "id": "hlxFE31ocA9E"
      },
      "execution_count": null,
      "outputs": []
    },
    {
      "cell_type": "markdown",
      "source": [
        "# Преобразуем md-файл в документ Word:"
      ],
      "metadata": {
        "id": "5tQIXsQYL15Z"
      }
    },
    {
      "cell_type": "code",
      "source": [
        "!pip install pandoc"
      ],
      "metadata": {
        "id": "lXVDpwAEHhA6"
      },
      "execution_count": null,
      "outputs": []
    },
    {
      "cell_type": "code",
      "source": [
        "!pandoc readme.md -o document.docx"
      ],
      "metadata": {
        "id": "hGxER3rQdr0F"
      },
      "execution_count": null,
      "outputs": []
    },
    {
      "cell_type": "markdown",
      "source": [
        "# 2. Работа с формулами"
      ],
      "metadata": {
        "id": "U-IYouZOMUHF"
      }
    },
    {
      "cell_type": "markdown",
      "source": [
        "### LATEX (в среде ASCII пишется LaTeX) — язык разметки и система подготовки документов.\n",
        "\n",
        "LATEX автоматизирует многие аспекты верстки документов, такие как автоматическая нумерация страниц, таблиц, иллюстраций, формул, перекрестные ссылки, колонтитулы, предметный указатель, оглавление и список литературы."
      ],
      "metadata": {
        "id": "MEw9D7cWjVSb"
      }
    },
    {
      "cell_type": "markdown",
      "source": [
        "### Подробнее: https://habr.com/ru/companies/ruvds/articles/574352/"
      ],
      "metadata": {
        "id": "IMrLfsEtjvVG"
      }
    },
    {
      "cell_type": "markdown",
      "source": [
        "## 1. Примеры описания простых математических операций, реализованных в среде Markdown на языке LaTeX:\n",
        "\n",
        "**1. Базовые операции:**\n",
        "```latex\n",
        "$$a + b$$  % Сложение\n",
        "$$a - b$$  % Вычитание\n",
        "$$a \\times b$$  % Умножение\n",
        "$$a \\div b$$  % Деление\n",
        "$$a = b$$  % Равенство\n",
        "```\n",
        "\n",
        "$$a + b$$  \n",
        "$$a - b$$  \n",
        "$$a \\times b$$  \n",
        "$$a \\div b$$\n",
        "$$a = b$$  \n",
        "\n",
        "**2. Степени и корни:**\n",
        "```latex\n",
        "$$a^n$$  % Возведение в степень\n",
        "$$\\sqrt[n]{a}$$  % Корень n-й степени\n",
        "```\n",
        "\n",
        "$$a^n$$  \n",
        "$$\\sqrt[n]{a}$$  \n",
        "\n",
        "**3. Дроби:**\n",
        "```latex\n",
        "$$\\frac{a}{b}$$\n",
        "```\n",
        "\n",
        "$$\\frac{a}{b}$$\n",
        "\n",
        "**4. Суммы и произведения:**\n",
        "```latex\n",
        "$$\\sum_{i=1}^{n} a_i$$  % Сумма\n",
        "$$\\prod_{i=1}^{n} a_i$$  % Произведение\n",
        "```\n",
        "\n",
        "$$\\sum_{i=1}^{n} a_i$$\n",
        "$$\\prod_{i=1}^{n} a_i$$\n",
        "\n",
        "**5. Интегралы:**\n",
        "```latex\n",
        "$$\\int_a^b f(x) dx$$  % Определенный интеграл\n",
        "$$\\int f(x) dx$$  % Неопределенный интеграл\n",
        "```\n",
        "\n",
        "$$\\int_a^b f(x) dx$$\n",
        "$$\\int f(x) dx$$\n",
        "\n",
        "**6. Греческие буквы:**\n",
        "```latex\n",
        "$$\\alpha, \\beta, \\gamma, \\Gamma, \\pi, \\Pi, \\phi, \\varphi, \\mu$$\n",
        "```\n",
        "\n",
        "$$\\alpha, \\beta, \\gamma, \\Gamma, \\pi, \\Pi, \\phi, \\varphi, \\mu$$\n",
        "\n",
        "\n",
        "**7. Символы набора:**\n",
        "```latex\n",
        "$$\\forall x \\in X, \\quad \\exists y \\leq \\epsilon$$\n",
        "```\n",
        "\n",
        "$$\\forall x \\in X, \\quad \\exists y \\leq \\epsilon$$\n",
        "\n",
        "\n",
        "**8. Матрицы:**\n",
        "```latex\n",
        "$$\n",
        "\\begin{bmatrix}\n",
        "a & b \\\\\n",
        "c & d\n",
        "\\end{bmatrix}\n",
        "$$\n",
        "```\n",
        "\n",
        "$$\n",
        "\\begin{bmatrix}\n",
        "a & b \\\\\n",
        "c & d\n",
        "\\end{bmatrix}\n",
        "$$"
      ],
      "metadata": {
        "id": "zH6iwJlcmH_B"
      }
    },
    {
      "cell_type": "markdown",
      "source": [
        "## 2.1. Примеры описания сложных математических операций, реализованных в среде Markdown на языке LaTeX:\n",
        "\n",
        "**1. Интеграл:**\n",
        "```markdown\n",
        "$$\\int_a^b f(x) dx$$\n",
        "```\n",
        "\n",
        "$$\\int_a^b f(x) dx$$\n",
        "\n",
        "**2. Сумма:**\n",
        "```markdown\n",
        "$$\\sum_{i=1}^{n} i^2$$\n",
        "```\n",
        "\n",
        "$$\\sum_{i=1}^{n} i^2$$\n",
        "\n",
        "**3. Произведение:**\n",
        "```markdown\n",
        "$$\\prod_{i=1}^{n} i$$\n",
        "```\n",
        "\n",
        "$$\\prod_{i=1}^{n} i$$\n",
        "\n",
        "**4. Предел:**\n",
        "```markdown\n",
        "$$\\lim_{{x \\to \\infty}} \\frac{1}{x}$$\n",
        "```\n",
        "$$\\lim_{{x \\to \\infty}} \\frac{1}{x}$$\n",
        "\n",
        "**5. Квадратный корень:**\n",
        "```markdown\n",
        "$$\\sqrt{x^2 + y^2}$$\n",
        "```\n",
        "\n",
        "$$\\sqrt{x^2 + y^2}$$\n",
        "\n",
        "**6. Дифференциальные уравнения:**\n",
        "```markdown\n",
        "$$\\frac{dy}{dt} = -k \\cdot y$$\n",
        "```\n",
        "\n",
        "$$\\frac{dy}{dt} = -k \\cdot y$$\n",
        "\n",
        "**8. Символы набора:**\n",
        "```markdown\n",
        "$$\\forall x \\in X, \\quad \\exists y \\leq \\epsilon$$\n",
        "```\n",
        "$$\\forall x \\in X, \\quad \\exists y \\leq \\epsilon$$\n",
        "\n",
        "\n",
        "**9. Длинные формулы:**\n",
        "```markdown\n",
        "$$\n",
        "f(a) = \\frac{1}{2\\pi i} \\oint\\frac{f(z)}{z-a}dz\n",
        "$$\n",
        "```\n",
        "\n",
        "$$\n",
        "f(a) = \\frac{1}{2\\pi i} \\oint\\frac{f(z)}{z-a}dz\n",
        "$$"
      ],
      "metadata": {
        "id": "rYSxc61CMaBG"
      }
    },
    {
      "cell_type": "markdown",
      "source": [
        "## 2.2. Сохраним формулы в файл md и преобразуем в документ Word:"
      ],
      "metadata": {
        "id": "cx_GOKKTM8vC"
      }
    },
    {
      "cell_type": "markdown",
      "source": [
        "### 2.2.1. Формируем содержимое файла"
      ],
      "metadata": {
        "id": "VvJ7qXKQNGR3"
      }
    },
    {
      "cell_type": "code",
      "source": [
        "formules = r'''\n",
        "\n",
        "# Примеры сложных формул LaTeX, реализованных средствами Markdown:\n",
        "\n",
        "**1. Интеграл:**\n",
        "\n",
        "$$\\int_a^b f(x) dx$$\n",
        "\n",
        "**2. Сумма:**\n",
        "\n",
        "$$\\sum_{i=1}^{n} i^2$$\n",
        "\n",
        "**3. Произведение:**\n",
        "\n",
        "$$\\prod_{i=1}^{n} i$$\n",
        "\n",
        "**4. Лимит:**\n",
        "\n",
        "$$\\lim_{{x \\to \\infty}} \\frac{1}{x}$$\n",
        "\n",
        "**5. Квадратный корень:**\n",
        "\n",
        "$$\\sqrt{x^2 + y^2}$$\n",
        "\n",
        "**6. Дифференциальные уравнения:**\n",
        "\n",
        "$$\\frac{dy}{dt} = -k \\cdot y$$\n",
        "\n",
        "**7. Матрицы:**\n",
        "\n",
        "\n",
        "$$\n",
        "\\begin{bmatrix}\n",
        "a & b \\\\\n",
        "c & d\n",
        "\\end{bmatrix}\n",
        "$$\n",
        "\n",
        "**8. Греческие буквы:**\n",
        "\n",
        "$$\\alpha, \\beta, \\gamma, \\Gamma, \\pi, \\Pi, \\phi, \\varphi, \\mu$$\n",
        "\n",
        "**9. Символы набора:**\n",
        "\n",
        "$$\\forall x \\in X, \\quad \\exists y \\leq \\epsilon$$\n",
        "\n",
        "\n",
        "**10. Длинные формулы:**\n",
        "\n",
        "$$\n",
        "f(a) = \\frac{1}{2\\pi i} \\oint\\frac{f(z)}{z-a}dz\n",
        "$$\n",
        "'''"
      ],
      "metadata": {
        "id": "DxAME3duM7yf"
      },
      "execution_count": null,
      "outputs": []
    },
    {
      "cell_type": "markdown",
      "source": [
        "### 2.2.2. Сформируем документ Word:"
      ],
      "metadata": {
        "id": "cQInCTHPNQcr"
      }
    },
    {
      "cell_type": "code",
      "source": [
        "with open('formules.md', 'w') as f:\n",
        "  f.write(formules)\n",
        "!pandoc formules.md -o formules.docx"
      ],
      "metadata": {
        "id": "kRLSzfpGNbLS"
      },
      "execution_count": null,
      "outputs": []
    },
    {
      "cell_type": "markdown",
      "source": [
        "# 3. Применение LaTeX для представления объектов и выполнения вычислений в SymPy"
      ],
      "metadata": {
        "id": "h9fgpdkFjBNN"
      }
    },
    {
      "cell_type": "code",
      "source": [
        "from sympy import symbols, parse_expr, latex, Matrix\n",
        "\n",
        "# Определение символов\n",
        "x, y = symbols('x y')\n",
        "\n",
        "# Создание матриц\n",
        "A = Matrix([[1, x], [y, 1]])\n",
        "B = Matrix([[2, 3], [4, 5]])\n",
        "\n",
        "# Произведение матриц\n",
        "result = A * B\n",
        "\n",
        "display(result)"
      ],
      "metadata": {
        "id": "6Ui8TxTjMatl",
        "colab": {
          "base_uri": "https://localhost:8080/",
          "height": 58
        },
        "outputId": "f5740428-cd03-4379-bf3c-377d198c19d0"
      },
      "execution_count": null,
      "outputs": [
        {
          "output_type": "display_data",
          "data": {
            "text/plain": [
              "Matrix([\n",
              "[4*x + 2, 5*x + 3],\n",
              "[2*y + 4, 3*y + 5]])"
            ],
            "text/latex": "$\\displaystyle \\left[\\begin{matrix}4 x + 2 & 5 x + 3\\\\2 y + 4 & 3 y + 5\\end{matrix}\\right]$"
          },
          "metadata": {}
        }
      ]
    },
    {
      "cell_type": "code",
      "source": [
        "A"
      ],
      "metadata": {
        "colab": {
          "base_uri": "https://localhost:8080/",
          "height": 58
        },
        "id": "bVN7zcjwBevW",
        "outputId": "104a8d34-3eab-4ef1-dc14-ec70eb21ce07"
      },
      "execution_count": null,
      "outputs": [
        {
          "output_type": "execute_result",
          "data": {
            "text/plain": [
              "Matrix([\n",
              "[1, x],\n",
              "[y, 1]])"
            ],
            "text/latex": "$\\displaystyle \\left[\\begin{matrix}1 & x\\\\y & 1\\end{matrix}\\right]$"
          },
          "metadata": {},
          "execution_count": 2
        }
      ]
    },
    {
      "cell_type": "code",
      "source": [
        "B"
      ],
      "metadata": {
        "colab": {
          "base_uri": "https://localhost:8080/",
          "height": 58
        },
        "id": "t8wLKVizBf22",
        "outputId": "242866b8-a394-4d3e-c956-5d2a9a16543c"
      },
      "execution_count": null,
      "outputs": [
        {
          "output_type": "execute_result",
          "data": {
            "text/plain": [
              "Matrix([\n",
              "[2, 3],\n",
              "[4, 5]])"
            ],
            "text/latex": "$\\displaystyle \\left[\\begin{matrix}2 & 3\\\\4 & 5\\end{matrix}\\right]$"
          },
          "metadata": {},
          "execution_count": 4
        }
      ]
    },
    {
      "cell_type": "markdown",
      "source": [
        "#### Для удобства преобразования объектов SymPy в единую формулу LaTeX напишем функцию `union_eq`, которая принимает на вход неопределенное количество аргументов (ожидаются объекты SymPy и одиночные символы - математические операторы и т.д.) и преобразует их в формат LaTeX для последующей визуализации или интеграции в сторонние программные решения.\n",
        "\n",
        "##### Функция возвращает полностью сформатированную строку LaTeX, включая двойные долларовые знаки в начале и конце."
      ],
      "metadata": {
        "id": "_2OU-sQLT2h9"
      }
    },
    {
      "cell_type": "code",
      "source": [
        "from sympy import latex\n",
        "\n",
        "def union_eq(*args):\n",
        "  eq = '$$'\n",
        "  for i in range(len(args)):\n",
        "    flag = 1 if len(args[i]) == 1 else 0\n",
        "    eq += latex(args[i])\n",
        "    print(latex(args[i]))\n",
        "\n",
        "    if  (i != (len(args)-1)) and flag != 1 and (len(args[i+1]) != 1):\n",
        "      eq += \"=\"\n",
        "\n",
        "  return eq + '$$'"
      ],
      "metadata": {
        "id": "6FmcLA3tCIuu"
      },
      "execution_count": null,
      "outputs": []
    },
    {
      "cell_type": "code",
      "source": [
        "r = union_eq(A,'*', B, result)\n",
        "r"
      ],
      "metadata": {
        "id": "zHmZDOjGEo7w",
        "colab": {
          "base_uri": "https://localhost:8080/",
          "height": 125
        },
        "outputId": "84424dff-60e3-47aa-a9d9-5e77c206e0ed"
      },
      "execution_count": null,
      "outputs": [
        {
          "output_type": "stream",
          "name": "stdout",
          "text": [
            "\\left[\\begin{matrix}1 & x\\\\y & 1\\end{matrix}\\right]\n",
            "\\mathtt{\\text{*}}\n",
            "\\left[\\begin{matrix}2 & 3\\\\4 & 5\\end{matrix}\\right]\n",
            "\\left[\\begin{matrix}4 x + 2 & 5 x + 3\\\\2 y + 4 & 3 y + 5\\end{matrix}\\right]\n"
          ]
        },
        {
          "output_type": "execute_result",
          "data": {
            "text/plain": [
              "'$$\\\\left[\\\\begin{matrix}1 & x\\\\\\\\y & 1\\\\end{matrix}\\\\right]\\\\mathtt{\\\\text{*}}\\\\left[\\\\begin{matrix}2 & 3\\\\\\\\4 & 5\\\\end{matrix}\\\\right]=\\\\left[\\\\begin{matrix}4 x + 2 & 5 x + 3\\\\\\\\2 y + 4 & 3 y + 5\\\\end{matrix}\\\\right]$$'"
            ],
            "application/vnd.google.colaboratory.intrinsic+json": {
              "type": "string"
            }
          },
          "metadata": {},
          "execution_count": 15
        }
      ]
    },
    {
      "cell_type": "markdown",
      "source": [
        "$$\\left[\\begin{matrix}1 & x\\\\y & 1\\end{matrix}\\right]\\mathtt{\\text{*}}\\left[\\begin{matrix}2 & 3\\\\4 & 5\\end{matrix}\\right]=\\left[\\begin{matrix}4 x + 2 & 5 x + 3\\\\2 y + 4 & 3 y + 5\\end{matrix}\\right]$$"
      ],
      "metadata": {
        "id": "JEgxFBfRHOUd"
      }
    },
    {
      "cell_type": "code",
      "source": [
        "# Открываем файл для записи\n",
        "with open('formule.md', 'w') as f:\n",
        "    # Записываем отчет\n",
        "    f.write(r)\n",
        "\n",
        "!pandoc formule.md -o formule.docx"
      ],
      "metadata": {
        "id": "cntMbvHHFU5w"
      },
      "execution_count": null,
      "outputs": []
    },
    {
      "cell_type": "code",
      "source": [
        "from sympy import symbols, Eq, Matrix, linsolve\n",
        "\n",
        "# Определение переменных\n",
        "x, y, z = symbols('x y z')\n",
        "\n",
        "# Создание матрицы системы уравнений\n",
        "A = Matrix(((1, 2, 3), (4, 5, 6), (7, 8, 10)))\n",
        "\n",
        "# Создание вектора свободных членов\n",
        "b = Matrix([3, 3, 4])\n",
        "\n",
        "# Создание системы уравнений\n",
        "system = A, b\n",
        "\n",
        "# Решение системы уравнений\n",
        "solution = linsolve(system, x, y, z)"
      ],
      "metadata": {
        "id": "wmi-mzf647uo"
      },
      "execution_count": null,
      "outputs": []
    },
    {
      "cell_type": "code",
      "source": [
        "solution"
      ],
      "metadata": {
        "colab": {
          "base_uri": "https://localhost:8080/",
          "height": 37
        },
        "id": "M25Z6Skn5ajA",
        "outputId": "837bee48-6acf-4bbc-e525-22a7bbdd3c7f"
      },
      "execution_count": null,
      "outputs": [
        {
          "output_type": "execute_result",
          "data": {
            "text/plain": [
              "{(-2, 1, 1)}"
            ],
            "text/latex": "$\\displaystyle \\left\\{\\left( -2, \\  1, \\  1\\right)\\right\\}$"
          },
          "metadata": {},
          "execution_count": 19
        }
      ]
    },
    {
      "cell_type": "code",
      "source": [
        "r = union_eq(system, '=', solution)\n",
        "r"
      ],
      "metadata": {
        "colab": {
          "base_uri": "https://localhost:8080/",
          "height": 107
        },
        "id": "_sORSOuCIM_4",
        "outputId": "a4f743f3-3fcd-480d-c5a5-7fbada52d26c"
      },
      "execution_count": null,
      "outputs": [
        {
          "output_type": "stream",
          "name": "stdout",
          "text": [
            "\\left( \\left[\\begin{matrix}1 & 2 & 3\\\\4 & 5 & 6\\\\7 & 8 & 10\\end{matrix}\\right], \\  \\left[\\begin{matrix}3\\\\3\\\\4\\end{matrix}\\right]\\right)\n",
            "\\mathtt{\\text{=}}\n",
            "\\left\\{\\left( -2, \\  1, \\  1\\right)\\right\\}\n"
          ]
        },
        {
          "output_type": "execute_result",
          "data": {
            "text/plain": [
              "'$$\\\\left( \\\\left[\\\\begin{matrix}1 & 2 & 3\\\\\\\\4 & 5 & 6\\\\\\\\7 & 8 & 10\\\\end{matrix}\\\\right], \\\\  \\\\left[\\\\begin{matrix}3\\\\\\\\3\\\\\\\\4\\\\end{matrix}\\\\right]\\\\right)\\\\mathtt{\\\\text{=}}\\\\left\\\\{\\\\left( -2, \\\\  1, \\\\  1\\\\right)\\\\right\\\\}$$'"
            ],
            "application/vnd.google.colaboratory.intrinsic+json": {
              "type": "string"
            }
          },
          "metadata": {},
          "execution_count": 24
        }
      ]
    },
    {
      "cell_type": "markdown",
      "source": [
        "$$\\left( \\left[\\begin{matrix}1 & 2 & 3\\\\4 & 5 & 6\\\\7 & 8 & 10\\end{matrix}\\right], \\  \\left[\\begin{matrix}3\\\\3\\\\4\\end{matrix}\\right]\\right)\\mathtt{\\text{=}}\\left\\{\\left( -2, \\  1, \\  1\\right)\\right\\}$$"
      ],
      "metadata": {
        "id": "Xw69cFi5In8I"
      }
    },
    {
      "cell_type": "markdown",
      "source": [
        "# 4. Автоматизированное формирование отчета о результатах вычислений в формате Microsoft Office Word"
      ],
      "metadata": {
        "id": "eDx8Fb_wphcQ"
      }
    },
    {
      "cell_type": "code",
      "source": [
        "import pandas as pd\n",
        "import random\n",
        "from sympy import symbols, parse_expr, latex\n",
        "from typing import Callable\n",
        "\n",
        "def generate_markdown_report(func: Callable):\n",
        "    def wrapper(*args, **kwargs):\n",
        "        original_df = args[0]\n",
        "        initial_system = args[1]\n",
        "        final_system = args[2]\n",
        "        transformation_params = args[3]\n",
        "\n",
        "        # Выполним преобразование координат с использованием Sympy\n",
        "        transformed_df = func(original_df, initial_system, final_system, transformation_params)\n",
        "\n",
        "        # Получим формулу преобразования в виде строки LaTeX\n",
        "        x, y = symbols('x y')\n",
        "        transformation_formula = f\"{latex(parse_expr(f'{final_system[0]}'))} = {transformation_params['k']} * {latex(parse_expr(f'{initial_system[0]}'))} + {transformation_params['b']}, \\\\quad {latex(parse_expr(f'{final_system[1]}'))} = {transformation_params['m']} * {latex(parse_expr(f'{initial_system[1]}'))} + {transformation_params['n']}\"\n",
        "\n",
        "        # Последовательно сформируем отчет на языке Markdown\n",
        "        report_content = f\"# Отчет по преобразованию координат\\n\\n\"\n",
        "        report_content += f\"## Введение\\n\\n\"\n",
        "        report_content += \"В этом отчете представлены результаты процесса преобразования координат с использованием предоставленной системы.\\n\\n\"\n",
        "        report_content += f\"## Параметры ввода\\n\\n\"\n",
        "        report_content += f\"- **Исходная таблица данных**: {original_df.shape[0]} пар координат\\n\"\n",
        "        report_content += f\"- **Начальная система координат**: {initial_system}\\n\"\n",
        "        report_content += f\"- **Конечная система координат**: {final_system}\\n\"\n",
        "        report_content += f\"- **Параметры преобразования**: {transformation_params}\\n\\n\"\n",
        "        report_content += f\"## Формула преобразования\\n\\n\"\n",
        "        report_content += f\"$$ {transformation_formula} $$\"\n",
        "        report_content += f\"\\n\\n\"\n",
        "        report_content += f\"## Описание преобразований\\n\\n\"\n",
        "        report_content += f\"{transformed_df.shape[0]} пар координат были преобразованы из {initial_system} системы координат в {final_system} систему координат.\\n\\n\"\n",
        "        report_content += f\"## Результаты преобразований\\n\\n\"\n",
        "        report_content += \"| Начальная X | Начальная Y | Конечная X | Конечная Y |\\n\"\n",
        "        report_content += \"| --- | --- | --- | --- |\\n\"\n",
        "\n",
        "        for index, row in transformed_df.iterrows():\n",
        "            report_content += f\"| {row[initial_system[0]]} | {row[initial_system[1]]} | {row[final_system[0]]} | {row[final_system[1]]} |\\n\"\n",
        "\n",
        "        report_content += f\"## Вывод\\n\\n\"\n",
        "        report_content += \"Процесс преобразования координат был успешно выполнен, с результатами, представленными выше.\"\n",
        "\n",
        "        return report_content\n",
        "\n",
        "    return wrapper\n",
        "\n",
        "@generate_markdown_report\n",
        "def convert_coordinates(original_df, initial_system, final_system, transformation_params):\n",
        "    x, y = symbols('x y')\n",
        "    final_x_expr = transformation_params['k'] * x + transformation_params['b']\n",
        "    final_y_expr = transformation_params['m'] * y + transformation_params['n']\n",
        "    original_df[final_system[0]] = original_df[initial_system[0]] * transformation_params['k'] + transformation_params['b']\n",
        "    original_df[final_system[1]] = original_df[initial_system[1]] * transformation_params['m'] + transformation_params['n']\n",
        "    return original_df"
      ],
      "metadata": {
        "id": "-CqDwQweWsLs"
      },
      "execution_count": null,
      "outputs": []
    },
    {
      "cell_type": "code",
      "source": [
        "# Генерация случайных данных для проверки\n",
        "data = { 'X': [random.randint(1, 100) for _ in range(10)], 'Y': [random.randint(1, 100) for _ in range(10)] }\n",
        "original_df = pd.DataFrame(data)\n",
        "initial_system = ('X', 'Y')\n",
        "final_system = ('X_new', 'Y_new')\n",
        "transformation_params = {'k': 2, 'b': 0, 'm': 3, 'n': 0}\n",
        "\n",
        "# Вызов функции для преобразования координат с декоратором\n",
        "report = convert_coordinates(original_df, initial_system, final_system, transformation_params)\n",
        "print(report)"
      ],
      "metadata": {
        "colab": {
          "base_uri": "https://localhost:8080/"
        },
        "id": "zZO5GTb4qpf4",
        "outputId": "975e8a93-a3c0-4d50-d99a-2c5ecbb8ec86"
      },
      "execution_count": null,
      "outputs": [
        {
          "output_type": "stream",
          "name": "stdout",
          "text": [
            "# Отчет по преобразованию координат\n",
            "\n",
            "## Введение\n",
            "\n",
            "В этом отчете представлены результаты процесса преобразования координат с использованием предоставленной системы.\n",
            "\n",
            "## Параметры ввода\n",
            "\n",
            "- **Исходная таблица данных**: 10 пар координат\n",
            "- **Начальная система координат**: ('X', 'Y')\n",
            "- **Конечная система координат**: ('X_new', 'Y_new')\n",
            "- **Параметры преобразования**: {'k': 2, 'b': 0, 'm': 3, 'n': 0}\n",
            "\n",
            "## Формула преобразования\n",
            "\n",
            "$$ X_{new} = 2 * X + 0, \\quad Y_{new} = 3 * Y + 0 $$\n",
            "\n",
            "## Описание преобразований\n",
            "\n",
            "10 пар координат были преобразованы из ('X', 'Y') системы координат в ('X_new', 'Y_new') систему координат.\n",
            "\n",
            "## Результаты преобразований\n",
            "\n",
            "| Начальная X | Начальная Y | Конечная X | Конечная Y |\n",
            "| --- | --- | --- | --- |\n",
            "| 62 | 57 | 124 | 171 |\n",
            "| 69 | 10 | 138 | 30 |\n",
            "| 91 | 14 | 182 | 42 |\n",
            "| 63 | 59 | 126 | 177 |\n",
            "| 63 | 89 | 126 | 267 |\n",
            "| 84 | 74 | 168 | 222 |\n",
            "| 75 | 76 | 150 | 228 |\n",
            "| 2 | 100 | 4 | 300 |\n",
            "| 4 | 38 | 8 | 114 |\n",
            "| 87 | 67 | 174 | 201 |\n",
            "## Вывод\n",
            "\n",
            "Процесс преобразования координат был успешно выполнен, с результатами, представленными выше.\n"
          ]
        }
      ]
    },
    {
      "cell_type": "code",
      "source": [
        "# Открываем файл для записи\n",
        "with open('report.md', 'w') as f:\n",
        "    # Записываем отчет\n",
        "    f.write(report)\n",
        "\n",
        "!pandoc report.md -o report.docx"
      ],
      "metadata": {
        "id": "dv27oMWcYnMH"
      },
      "execution_count": null,
      "outputs": []
    }
  ]
}