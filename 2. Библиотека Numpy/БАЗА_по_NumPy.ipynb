{
  "nbformat": 4,
  "nbformat_minor": 0,
  "metadata": {
    "colab": {
      "provenance": [],
      "authorship_tag": "ABX9TyODK5w/ShBC0U2DOJqyeSmg",
      "include_colab_link": true
    },
    "kernelspec": {
      "name": "python3",
      "display_name": "Python 3"
    },
    "language_info": {
      "name": "python"
    }
  },
  "cells": [
    {
      "cell_type": "markdown",
      "metadata": {
        "id": "view-in-github",
        "colab_type": "text"
      },
      "source": [
        "<a href=\"https://colab.research.google.com/github/Alexandre77777/computer_math/blob/main/2.%20%D0%91%D0%B8%D0%B1%D0%BB%D0%B8%D0%BE%D1%82%D0%B5%D0%BA%D0%B0%20Numpy/%D0%91%D0%90%D0%97%D0%90_%D0%BF%D0%BE_NumPy.ipynb\" target=\"_parent\"><img src=\"https://colab.research.google.com/assets/colab-badge.svg\" alt=\"Open In Colab\"/></a>"
      ]
    },
    {
      "cell_type": "markdown",
      "source": [
        "# **БАЗА по NumPy**"
      ],
      "metadata": {
        "id": "K6rquBvJADgP"
      }
    },
    {
      "cell_type": "markdown",
      "source": [
        "Рассмотрим **основные свойства** и **возможности** массивов NumPy с примерами кода."
      ],
      "metadata": {
        "id": "mnTIsMzI_8DA"
      }
    },
    {
      "cell_type": "markdown",
      "source": [
        "## **Основные свойства массивов**\n"
      ],
      "metadata": {
        "id": "0q21Ww6YAHy-"
      }
    },
    {
      "cell_type": "code",
      "source": [
        "import numpy as np\n",
        "\n",
        "a = [1,2,3]\n",
        "\n",
        "a_np = np.array(a)\n",
        "a_np.dtype"
      ],
      "metadata": {
        "colab": {
          "base_uri": "https://localhost:8080/"
        },
        "id": "xyGzEVoIUCGY",
        "outputId": "c4794525-b24c-4cd2-838f-c12cc61dbfbb"
      },
      "execution_count": null,
      "outputs": [
        {
          "output_type": "execute_result",
          "data": {
            "text/plain": [
              "dtype('int64')"
            ]
          },
          "metadata": {},
          "execution_count": 4
        }
      ]
    },
    {
      "cell_type": "markdown",
      "source": [
        "### **1. `dtype`**  \n",
        "Каждый массив имеет атрибут `dtype`, который определяет тип данных его элементов (например, `int32`, `float64` и т.д.)."
      ],
      "metadata": {
        "id": "O5SNQif8ALw0"
      }
    },
    {
      "cell_type": "code",
      "source": [
        "import numpy as np\n",
        "\n",
        "# Создаем массив с типом элементов int32\n",
        "a = np.array([1, 2, 3], dtype=np.int32)\n",
        "print(\"dtype:\", a.dtype)  # Вывод: int32"
      ],
      "metadata": {
        "colab": {
          "base_uri": "https://localhost:8080/"
        },
        "id": "ckFJaRI3AL6r",
        "outputId": "d4b40103-535a-4251-b19b-7ceeb340ad13"
      },
      "execution_count": null,
      "outputs": [
        {
          "output_type": "stream",
          "name": "stdout",
          "text": [
            "dtype: int32\n"
          ]
        }
      ]
    },
    {
      "cell_type": "markdown",
      "source": [
        "### **2. `shape`**  \n",
        "Атрибут `shape` возвращает кортеж, определяющий размерность массива — количество элементов по каждой оси."
      ],
      "metadata": {
        "id": "1GVKzgNTAMCQ"
      }
    },
    {
      "cell_type": "code",
      "source": [
        "import numpy as np\n",
        "\n",
        "# Создаем двумерный массив\n",
        "a = np.array([[1, 2, 3], [4, 5, 6]])\n",
        "print(\"shape:\", a.shape)  # Вывод: (2, 3)"
      ],
      "metadata": {
        "colab": {
          "base_uri": "https://localhost:8080/"
        },
        "id": "DwtqlM2MAMx-",
        "outputId": "6c236016-6f00-4cd1-ca4d-6ddf84fe3c35"
      },
      "execution_count": null,
      "outputs": [
        {
          "output_type": "stream",
          "name": "stdout",
          "text": [
            "shape: (2, 3)\n"
          ]
        }
      ]
    },
    {
      "cell_type": "markdown",
      "source": [
        "### **3. `size`**  \n",
        "Атрибут `size` показывает общее количество элементов в массиве."
      ],
      "metadata": {
        "id": "JhsXbKyZAM57"
      }
    },
    {
      "cell_type": "code",
      "source": [
        "import numpy as np\n",
        "\n",
        "# Трехстрочный массив\n",
        "a = np.array([[1, 2], [3, 4], [5, 6]])\n",
        "print(\"size:\", a.size)  # Вывод: 6 (2*3)"
      ],
      "metadata": {
        "colab": {
          "base_uri": "https://localhost:8080/"
        },
        "id": "h3N9YBt5ANfe",
        "outputId": "bd7df4d4-987c-4e0a-ec0b-6cc781f8589a"
      },
      "execution_count": null,
      "outputs": [
        {
          "output_type": "stream",
          "name": "stdout",
          "text": [
            "size: 6\n"
          ]
        }
      ]
    },
    {
      "cell_type": "markdown",
      "source": [
        "### **4. `ndim`**  \n",
        "Атрибут `ndim` указывает на количество измерений массива."
      ],
      "metadata": {
        "id": "xjALO3xJAbh7"
      }
    },
    {
      "cell_type": "code",
      "source": [
        "import numpy as np\n",
        "\n",
        "# Пример одномерного массива\n",
        "a = np.array([1, 2, 3])\n",
        "print(\"ndim массива a:\", a.ndim)  # Вывод: 1\n",
        "\n",
        "# Пример двумерного массива\n",
        "b = np.array([[1, 2], [3, 4]])\n",
        "print(\"ndim массива b:\", b.ndim)  # Вывод: 2"
      ],
      "metadata": {
        "id": "eMT4u1N3AbrD",
        "colab": {
          "base_uri": "https://localhost:8080/"
        },
        "outputId": "c4e78cc8-35a5-4c93-d548-c8cd552eb24f"
      },
      "execution_count": null,
      "outputs": [
        {
          "output_type": "stream",
          "name": "stdout",
          "text": [
            "ndim массива a: 1\n",
            "ndim массива b: 2\n"
          ]
        }
      ]
    },
    {
      "cell_type": "markdown",
      "source": [
        "\n",
        "\n",
        "### **5. `itemsize`**  \n",
        "Атрибут `itemsize` определяет, сколько байт занимает один элемент массива."
      ],
      "metadata": {
        "id": "SqFzPG6jAbzW"
      }
    },
    {
      "cell_type": "code",
      "source": [
        "import numpy as np\n",
        "\n",
        "a = np.array([1, 2, 3], dtype=np.int32)\n",
        "print(\"itemsize:\", a.itemsize)  # Вывод: 4 (для int32 обычно 4 байта на элемент)"
      ],
      "metadata": {
        "colab": {
          "base_uri": "https://localhost:8080/"
        },
        "id": "poVtEI1IAb8m",
        "outputId": "d7046574-a095-42e9-b0df-d92d1a973a13"
      },
      "execution_count": null,
      "outputs": [
        {
          "output_type": "stream",
          "name": "stdout",
          "text": [
            "itemsize: 4\n"
          ]
        }
      ]
    },
    {
      "cell_type": "markdown",
      "source": [
        "\n",
        "### **6. `strides`**  \n",
        "Атрибут `strides` показывает количество байт, которое необходимо перескочить, чтобы перейти к следующему элементу по каждой оси, что полезно для понимания внутреннего расположения данных."
      ],
      "metadata": {
        "id": "0xDbZVuzAcMr"
      }
    },
    {
      "cell_type": "code",
      "source": [
        "import numpy as np\n",
        "\n",
        "a = np.array([[1, 2], [3, 4]])\n",
        "print(\"strides:\", a.strides)\n",
        "# Вывод может быть, например: (8, 4) — зависит от типа данных и платформы."
      ],
      "metadata": {
        "colab": {
          "base_uri": "https://localhost:8080/"
        },
        "id": "gg8fFZtpAcXE",
        "outputId": "06d58905-b58c-4709-cddc-492029f05b60"
      },
      "execution_count": null,
      "outputs": [
        {
          "output_type": "stream",
          "name": "stdout",
          "text": [
            "strides: (16, 8)\n"
          ]
        }
      ]
    },
    {
      "cell_type": "markdown",
      "source": [
        "## **Основные возможности и полезные свойства массивов NumPy**"
      ],
      "metadata": {
        "id": "R4hcJecuAcmM"
      }
    },
    {
      "cell_type": "markdown",
      "source": [
        "### **1. Векторизация операций**  \n",
        "NumPy позволяет выполнять арифметические и логические операции над всеми элементами массива одновременно, что существенно ускоряет вычисления."
      ],
      "metadata": {
        "id": "vDRqqSbDHeE_"
      }
    },
    {
      "cell_type": "code",
      "source": [
        "b.shape"
      ],
      "metadata": {
        "colab": {
          "base_uri": "https://localhost:8080/"
        },
        "id": "CaHOUKLUWf7z",
        "outputId": "0588797b-253b-439a-a710-6e70f2fe0f83"
      },
      "execution_count": null,
      "outputs": [
        {
          "output_type": "execute_result",
          "data": {
            "text/plain": [
              "(3,)"
            ]
          },
          "metadata": {},
          "execution_count": 18
        }
      ]
    },
    {
      "cell_type": "code",
      "source": [
        "import numpy as np\n",
        "\n",
        "a = np.array([1, 2, 3])\n",
        "b = np.array([4, 5, 6])\n",
        "c = a + b\n",
        "print(\"Векторизация:\", c)  # Вывод: [5 7 9]"
      ],
      "metadata": {
        "colab": {
          "base_uri": "https://localhost:8080/"
        },
        "id": "3ZIq3Dd_Acw0",
        "outputId": "857f5dba-6876-4a86-9e7a-f4983ee4a715"
      },
      "execution_count": null,
      "outputs": [
        {
          "output_type": "stream",
          "name": "stdout",
          "text": [
            "Векторизация: [5 7 9]\n"
          ]
        }
      ]
    },
    {
      "cell_type": "markdown",
      "source": [
        "### **2. Broadcasting**  \n",
        "Механизм автоматического приведения массивов разной формы к совместимым размерам при выполнении арифметических операций.\n"
      ],
      "metadata": {
        "id": "4sjZANEuHkba"
      }
    },
    {
      "cell_type": "code",
      "source": [
        "import numpy as np\n",
        "\n",
        "# Пример простого broadcasting: умножение каждого элемента массива на скаляр\n",
        "a = np.array([1, 2, 3])\n",
        "b = 2\n",
        "print(\"Broadcasting (умножение на скаляр):\", a * b)"
      ],
      "metadata": {
        "colab": {
          "base_uri": "https://localhost:8080/"
        },
        "id": "EtUeJuUGHklP",
        "outputId": "80279eac-980e-4cf1-9c51-31d5c01d66e4"
      },
      "execution_count": null,
      "outputs": [
        {
          "output_type": "stream",
          "name": "stdout",
          "text": [
            "Broadcasting (умножение на скаляр): [2 4 6]\n"
          ]
        }
      ]
    },
    {
      "cell_type": "markdown",
      "source": [
        "А также пример с разными размерами:\n"
      ],
      "metadata": {
        "id": "gkvTrTtpHqBX"
      }
    },
    {
      "cell_type": "code",
      "source": [
        "import numpy as np\n",
        "\n",
        "# Пример broadcasting для двумерного массива и одномерного вектора\n",
        "a = np.array([[1], [2], [3]])  # Форма (3, 1)\n",
        "b = np.array([10, 20, 30])       # Форма (3,)\n",
        "print(\"Broadcasting (двумерная сумма):\\n\", a + b)"
      ],
      "metadata": {
        "colab": {
          "base_uri": "https://localhost:8080/"
        },
        "id": "jWx0_W0YHqJe",
        "outputId": "9ba9640a-4cdc-4057-c8a2-61aca4af4a2e"
      },
      "execution_count": null,
      "outputs": [
        {
          "output_type": "stream",
          "name": "stdout",
          "text": [
            "Broadcasting (двумерная сумма):\n",
            " [[11 21 31]\n",
            " [12 22 32]\n",
            " [13 23 33]]\n"
          ]
        }
      ]
    },
    {
      "cell_type": "markdown",
      "source": [
        "### **3. Продвинутые возможности индексации и срезов**  \n",
        "Помимо стандартных срезов, доступны продвинутая (fancy) индексация и булевская индексация для выбора и фильтрации данных."
      ],
      "metadata": {
        "id": "4N_oSSwMHy-f"
      }
    },
    {
      "cell_type": "code",
      "source": [
        "a = ['cat', 'dog', 1, 23, 6]"
      ],
      "metadata": {
        "colab": {
          "base_uri": "https://localhost:8080/"
        },
        "id": "9ObnFBGCXauX",
        "outputId": "4d868422-d8ae-4222-944f-8ef0c30c6010"
      },
      "execution_count": null,
      "outputs": [
        {
          "output_type": "execute_result",
          "data": {
            "text/plain": [
              "[6, 23, 1, 'dog', 'cat']"
            ]
          },
          "metadata": {},
          "execution_count": 38
        }
      ]
    },
    {
      "cell_type": "code",
      "source": [
        "# Срезы\n",
        "a = np.array([0, 1, 2, 3, 4, 5])\n",
        "print(\"Срез:\", a[2:5])  # Вывод: [2 3 4]"
      ],
      "metadata": {
        "colab": {
          "base_uri": "https://localhost:8080/"
        },
        "id": "BAE3HkxrH_Uc",
        "outputId": "f1e39204-fce9-46d2-b3d4-43762adba11b"
      },
      "execution_count": null,
      "outputs": [
        {
          "output_type": "stream",
          "name": "stdout",
          "text": [
            "Срез: [2 3 4]\n"
          ]
        }
      ]
    },
    {
      "cell_type": "code",
      "source": [
        "# Булева индексация\n",
        "b = np.array([10, 20, 30, 40])\n",
        "mask = b > 20\n",
        "print(mask)\n",
        "print(\"Булева индексация:\", b[mask])  # Вывод: [30 40]"
      ],
      "metadata": {
        "colab": {
          "base_uri": "https://localhost:8080/"
        },
        "id": "7gJFKWrAIBSj",
        "outputId": "c3d47e69-504b-48cf-d311-9439730a020b"
      },
      "execution_count": null,
      "outputs": [
        {
          "output_type": "stream",
          "name": "stdout",
          "text": [
            "[False False  True  True]\n",
            "Булева индексация: [30 40]\n"
          ]
        }
      ]
    },
    {
      "cell_type": "code",
      "source": [
        "# Fancy индексация\n",
        "indices = [0, 2]\n",
        "print(\"Fancy индексация:\", b[indices])  # Вывод: [10 30]"
      ],
      "metadata": {
        "colab": {
          "base_uri": "https://localhost:8080/"
        },
        "id": "8oK9Yan3H5kG",
        "outputId": "351fe5f8-48dd-4223-ed8b-3ae2f4874875"
      },
      "execution_count": null,
      "outputs": [
        {
          "output_type": "stream",
          "name": "stdout",
          "text": [
            "Fancy индексация: [10 30]\n"
          ]
        }
      ]
    },
    {
      "cell_type": "markdown",
      "source": [
        "### **4. Методы для преобразования массива**  \n",
        "Массивы можно преобразовывать, изменять их форму, \"выпрямлять\" в одномерный массив, или транпонировать."
      ],
      "metadata": {
        "id": "y--JALxXIF1F"
      }
    },
    {
      "cell_type": "markdown",
      "source": [
        "\n",
        "- **reshape()**"
      ],
      "metadata": {
        "id": "RsELfhmYIT7C"
      }
    },
    {
      "cell_type": "code",
      "source": [
        "import numpy as np\n",
        "\n",
        "a = np.array([1, 2, 3, 4, 5, 6])\n",
        "b = a.reshape((2, 3))\n",
        "print(\"reshape:\\n\", b)"
      ],
      "metadata": {
        "colab": {
          "base_uri": "https://localhost:8080/"
        },
        "id": "spYMuyf1IF9b",
        "outputId": "600e4a1a-f1b0-4db0-b24d-b109bbe0a7d8"
      },
      "execution_count": null,
      "outputs": [
        {
          "output_type": "stream",
          "name": "stdout",
          "text": [
            "reshape:\n",
            " [[1 2 3]\n",
            " [4 5 6]]\n"
          ]
        }
      ]
    },
    {
      "cell_type": "markdown",
      "source": [
        "- **flatten()**\n"
      ],
      "metadata": {
        "id": "NkvT1qjfIGFA"
      }
    },
    {
      "cell_type": "code",
      "source": [
        "import numpy as np\n",
        "\n",
        "a = np.array([[1, 2, 3], [4, 5, 6]])\n",
        "b = a.flatten()\n",
        "print(\"flatten:\", b)"
      ],
      "metadata": {
        "colab": {
          "base_uri": "https://localhost:8080/"
        },
        "id": "7h-aNwO9IGMR",
        "outputId": "cffb5df8-aef7-4260-d75e-af4d38fd5816"
      },
      "execution_count": null,
      "outputs": [
        {
          "output_type": "stream",
          "name": "stdout",
          "text": [
            "flatten: [1 2 3 4 5 6]\n"
          ]
        }
      ]
    },
    {
      "cell_type": "markdown",
      "source": [
        "- **transpose()**"
      ],
      "metadata": {
        "id": "TRh__X3MIGTQ"
      }
    },
    {
      "cell_type": "code",
      "source": [
        "import numpy as np\n",
        "\n",
        "a = np.array([[1, 2, 3], [4, 5, 6]])\n",
        "b = np.transpose(a)\n",
        "print(\"transpose:\\n\", b)"
      ],
      "metadata": {
        "colab": {
          "base_uri": "https://localhost:8080/"
        },
        "id": "-KYdfr8rIGaU",
        "outputId": "5ac0c03b-c8e1-419b-8934-dae39a3bd01e"
      },
      "execution_count": null,
      "outputs": [
        {
          "output_type": "stream",
          "name": "stdout",
          "text": [
            "transpose:\n",
            " [[1 4]\n",
            " [2 5]\n",
            " [3 6]]\n"
          ]
        }
      ]
    },
    {
      "cell_type": "markdown",
      "source": [
        "### **5. Работа с копиями и представлениями**  \n",
        "Методы `copy()` и `view()` позволяют создавать глубокие копии и неглубокие представления массива соответственно."
      ],
      "metadata": {
        "id": "Az0SLz8VIlkg"
      }
    },
    {
      "cell_type": "markdown",
      "source": [
        "- **copy()**\n",
        "\n"
      ],
      "metadata": {
        "id": "cF3f7GPqIlxQ"
      }
    },
    {
      "cell_type": "code",
      "source": [
        "import numpy as np\n",
        "\n",
        "a = np.array([1, 2, 3])\n",
        "b = a.copy()\n",
        "b[0] = 10\n",
        "print(\"Оригинальный массив:\", a)\n",
        "print(\"Копия:\", b)"
      ],
      "metadata": {
        "colab": {
          "base_uri": "https://localhost:8080/"
        },
        "id": "zX2nVkVuIl4y",
        "outputId": "f78ce562-00ba-4f6b-ebe1-fee2bb265b2e"
      },
      "execution_count": null,
      "outputs": [
        {
          "output_type": "stream",
          "name": "stdout",
          "text": [
            "Оригинальный массив: [1 2 3]\n",
            "Копия: [10  2  3]\n"
          ]
        }
      ]
    },
    {
      "cell_type": "markdown",
      "source": [
        "\n",
        "- **view()**\n"
      ],
      "metadata": {
        "id": "qveiIlZFImB7"
      }
    },
    {
      "cell_type": "code",
      "source": [
        "import numpy as np\n",
        "\n",
        "a = np.array([1, 2, 3])\n",
        "b = a.view()\n",
        "b[0] = 10\n",
        "print(\"Измененный оригинальный массив (view):\", a)"
      ],
      "metadata": {
        "colab": {
          "base_uri": "https://localhost:8080/"
        },
        "id": "_NhhchW0ImKi",
        "outputId": "c772d005-5656-4278-d975-bee65abf89df"
      },
      "execution_count": null,
      "outputs": [
        {
          "output_type": "stream",
          "name": "stdout",
          "text": [
            "Измененный оригинальный массив (view): [10  2  3]\n"
          ]
        }
      ]
    },
    {
      "cell_type": "markdown",
      "source": [
        "### **6. Универсальные функции (ufuncs)**  \n",
        "ufuncs — это оптимизированные функции для применения элементарных операций к массиву."
      ],
      "metadata": {
        "id": "fzKrgGcYI7Ot"
      }
    },
    {
      "cell_type": "code",
      "source": [
        "import numpy as np\n",
        "\n",
        "a = np.array([1, 2, 3])\n",
        "b = np.sin(a)\n",
        "print(\"Применение np.sin к массиву:\", b)"
      ],
      "metadata": {
        "colab": {
          "base_uri": "https://localhost:8080/"
        },
        "id": "uk036uZDI-LK",
        "outputId": "b881b95d-83a5-43f1-d002-528b80f89871"
      },
      "execution_count": null,
      "outputs": [
        {
          "output_type": "stream",
          "name": "stdout",
          "text": [
            "Применение np.sin к массиву: [0.84147098 0.90929743 0.14112001]\n"
          ]
        }
      ]
    },
    {
      "cell_type": "markdown",
      "source": [
        "### **7. Эффективное использование памяти и производительность**  \n",
        "Благодаря компактному хранению однородных данных и оптимизированным операциям, массивы NumPy работают быстрее и используют память эффективнее, чем стандартные списки Python."
      ],
      "metadata": {
        "id": "pj2PjJI2ImSl"
      }
    },
    {
      "cell_type": "code",
      "source": [
        "import numpy as np\n",
        "import time\n",
        "\n",
        "# Создание большого массива\n",
        "# a = np.arange(1000000)\n",
        "\n",
        "# Пример быстрого умножения элементов массива на скаляр\n",
        "start = time.time()\n",
        "a = np.arange(10000000)\n",
        "b = a * 2\n",
        "end = time.time()\n",
        "print(\"Время вычисления при векторизации:\", end - start, \"секунд\")"
      ],
      "metadata": {
        "colab": {
          "base_uri": "https://localhost:8080/"
        },
        "id": "kmXi9eGQImaJ",
        "outputId": "a942e1fc-4b73-4064-e8bd-88940d4464ef"
      },
      "execution_count": null,
      "outputs": [
        {
          "output_type": "stream",
          "name": "stdout",
          "text": [
            "Время вычисления при векторизации: 0.07938003540039062 секунд\n"
          ]
        },
        {
          "output_type": "execute_result",
          "data": {
            "text/plain": [
              "array([       0,        2,        4, ..., 19999994, 19999996, 19999998])"
            ]
          },
          "metadata": {},
          "execution_count": 101
        }
      ]
    },
    {
      "cell_type": "code",
      "source": [
        "import numpy as np\n",
        "import time\n",
        "\n",
        "# Создание большого массива\n",
        "\n",
        "# Пример быстрого умножения элементов массива на скаляр\n",
        "start = time.time()\n",
        "a = [int(i) for i in range(10000000)]\n",
        "a = [i * 2 for i in a]\n",
        "end = time.time()\n",
        "print(\"Время вычисления при векторизации:\", end - start, \"секунд\")"
      ],
      "metadata": {
        "colab": {
          "base_uri": "https://localhost:8080/"
        },
        "id": "ZkVbVzT0bNXP",
        "outputId": "4fc93f66-7dfa-49fd-ddec-08c340454e48"
      },
      "execution_count": null,
      "outputs": [
        {
          "output_type": "stream",
          "name": "stdout",
          "text": [
            "Время вычисления при векторизации: 2.1743059158325195 секунд\n"
          ]
        }
      ]
    }
  ]
}